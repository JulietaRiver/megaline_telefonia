{
 "cells": [
  {
   "cell_type": "markdown",
   "metadata": {
    "id": "3rYiDeEH0q0f"
   },
   "source": [
    "# ¿Cuál es la mejor tarifa?\n",
    "\n",
    " La empresa ofrece a sus clientes dos tarifas de prepago, Surf y Ultimate. El departamento comercial quiere saber cuál de las tarifas genera más ingresos para poder ajustar el presupuesto de publicidad.\n",
    "\n",
    "Vas a realizar un análisis preliminar de las tarifas basado en una selección de clientes relativamente pequeña. Tendrás los datos de 500 clientes de Megaline: quiénes son los clientes, de dónde son, qué tarifa usan, así como la cantidad de llamadas que hicieron y los mensajes de texto que enviaron en 2018. Tu trabajo es analizar el comportamiento de los clientes y determinar qué tarifa de prepago genera más ingresos."
   ]
  },
  {
   "cell_type": "markdown",
   "metadata": {
    "id": "MQi4IPy70q0y"
   },
   "source": [
    "## Inicialización"
   ]
  },
  {
   "cell_type": "code",
   "execution_count": null,
   "metadata": {
    "id": "MtYIuBxu0q0z",
    "trusted": false
   },
   "outputs": [],
   "source": [
    "# Cargar todas las librerías\n",
    "import pandas as pd\n",
    "import numpy as np\n",
    "\n"
   ]
  },
  {
   "cell_type": "markdown",
   "metadata": {
    "id": "4ysWWC5i0q00"
   },
   "source": [
    "## Cargar datos"
   ]
  },
  {
   "cell_type": "code",
   "execution_count": null,
   "metadata": {
    "id": "CCqPW7rS0q01",
    "trusted": false
   },
   "outputs": [],
   "source": [
    "# Carga los archivos de datos en diferentes DataFrames\n",
    "import pandas as pd\n",
    "df_megaline_calls= pd.read_csv(\"/datasets/megaline_calls.csv\")\n",
    "df_megaline_internet = pd.read_csv(\"/datasets/megaline_internet.csv\")\n",
    "df_megaline_messages = pd.read_csv(\"/datasets/megaline_messages.csv\")\n",
    "df_megaline_plans = pd.read_csv(\"/datasets/megaline_plans.csv\")\n",
    "df_megaline_users = pd.read_csv(\"/datasets/megaline_users.csv\")"
   ]
  },
  {
   "cell_type": "code",
   "execution_count": null,
   "metadata": {
    "trusted": false
   },
   "outputs": [
    {
     "name": "stdout",
     "output_type": "stream",
     "text": [
      "Información de df_megaline_calls:\n",
      "<class 'pandas.core.frame.DataFrame'>\n",
      "RangeIndex: 137735 entries, 0 to 137734\n",
      "Data columns (total 4 columns):\n",
      " #   Column     Non-Null Count   Dtype  \n",
      "---  ------     --------------   -----  \n",
      " 0   id         137735 non-null  object \n",
      " 1   user_id    137735 non-null  int64  \n",
      " 2   call_date  137735 non-null  object \n",
      " 3   duration   137735 non-null  float64\n",
      "dtypes: float64(1), int64(1), object(2)\n",
      "memory usage: 4.2+ MB\n",
      "None\n",
      "\n",
      "Información de df_megaline_internet:\n",
      "<class 'pandas.core.frame.DataFrame'>\n",
      "RangeIndex: 104825 entries, 0 to 104824\n",
      "Data columns (total 4 columns):\n",
      " #   Column        Non-Null Count   Dtype  \n",
      "---  ------        --------------   -----  \n",
      " 0   id            104825 non-null  object \n",
      " 1   user_id       104825 non-null  int64  \n",
      " 2   session_date  104825 non-null  object \n",
      " 3   mb_used       104825 non-null  float64\n",
      "dtypes: float64(1), int64(1), object(2)\n",
      "memory usage: 3.2+ MB\n",
      "None\n",
      "\n",
      "Información de df_megaline_messages:\n",
      "<class 'pandas.core.frame.DataFrame'>\n",
      "RangeIndex: 76051 entries, 0 to 76050\n",
      "Data columns (total 3 columns):\n",
      " #   Column        Non-Null Count  Dtype \n",
      "---  ------        --------------  ----- \n",
      " 0   id            76051 non-null  object\n",
      " 1   user_id       76051 non-null  int64 \n",
      " 2   message_date  76051 non-null  object\n",
      "dtypes: int64(1), object(2)\n",
      "memory usage: 1.7+ MB\n",
      "None\n",
      "\n",
      "Información de df_megaline_plans:\n",
      "<class 'pandas.core.frame.DataFrame'>\n",
      "RangeIndex: 2 entries, 0 to 1\n",
      "Data columns (total 8 columns):\n",
      " #   Column                 Non-Null Count  Dtype  \n",
      "---  ------                 --------------  -----  \n",
      " 0   messages_included      2 non-null      int64  \n",
      " 1   mb_per_month_included  2 non-null      int64  \n",
      " 2   minutes_included       2 non-null      int64  \n",
      " 3   usd_monthly_pay        2 non-null      int64  \n",
      " 4   usd_per_gb             2 non-null      int64  \n",
      " 5   usd_per_message        2 non-null      float64\n",
      " 6   usd_per_minute         2 non-null      float64\n",
      " 7   plan_name              2 non-null      object \n",
      "dtypes: float64(2), int64(5), object(1)\n",
      "memory usage: 256.0+ bytes\n",
      "None\n",
      "\n",
      "Información de df_megaline_users:\n",
      "<class 'pandas.core.frame.DataFrame'>\n",
      "RangeIndex: 500 entries, 0 to 499\n",
      "Data columns (total 8 columns):\n",
      " #   Column      Non-Null Count  Dtype \n",
      "---  ------      --------------  ----- \n",
      " 0   user_id     500 non-null    int64 \n",
      " 1   first_name  500 non-null    object\n",
      " 2   last_name   500 non-null    object\n",
      " 3   age         500 non-null    int64 \n",
      " 4   city        500 non-null    object\n",
      " 5   reg_date    500 non-null    object\n",
      " 6   plan        500 non-null    object\n",
      " 7   churn_date  34 non-null     object\n",
      "dtypes: int64(2), object(6)\n",
      "memory usage: 31.4+ KB\n",
      "None\n"
     ]
    }
   ],
   "source": [
    "print(\"Información de df_megaline_calls:\")\n",
    "print(df_megaline_calls.info())\n",
    "\n",
    "print(\"\\nInformación de df_megaline_internet:\")\n",
    "print(df_megaline_internet.info())\n",
    "\n",
    "print(\"\\nInformación de df_megaline_messages:\")\n",
    "print(df_megaline_messages.info())\n",
    "\n",
    "print(\"\\nInformación de df_megaline_plans:\")\n",
    "print(df_megaline_plans.info())\n",
    "\n",
    "print(\"\\nInformación de df_megaline_users:\")\n",
    "print(df_megaline_users.info())"
   ]
  },
  {
   "cell_type": "code",
   "execution_count": null,
   "metadata": {
    "trusted": false
   },
   "outputs": [
    {
     "name": "stdout",
     "output_type": "stream",
     "text": [
      "         id  user_id   call_date  duration\n",
      "0   1000_93     1000  2018-12-27      8.52\n",
      "1  1000_145     1000  2018-12-27     13.66\n",
      "2  1000_247     1000  2018-12-27     14.48\n",
      "3  1000_309     1000  2018-12-28      5.76\n",
      "4  1000_380     1000  2018-12-30      4.22\n"
     ]
    }
   ],
   "source": [
    "print(df_megaline_calls.head())"
   ]
  },
  {
   "cell_type": "code",
   "execution_count": null,
   "metadata": {
    "trusted": false
   },
   "outputs": [
    {
     "data": {
      "text/html": [
       "<div>\n",
       "<style scoped>\n",
       "    .dataframe tbody tr th:only-of-type {\n",
       "        vertical-align: middle;\n",
       "    }\n",
       "\n",
       "    .dataframe tbody tr th {\n",
       "        vertical-align: top;\n",
       "    }\n",
       "\n",
       "    .dataframe thead th {\n",
       "        text-align: right;\n",
       "    }\n",
       "</style>\n",
       "<table border=\"1\" class=\"dataframe\">\n",
       "  <thead>\n",
       "    <tr style=\"text-align: right;\">\n",
       "      <th></th>\n",
       "      <th>user_id</th>\n",
       "      <th>duration</th>\n",
       "    </tr>\n",
       "  </thead>\n",
       "  <tbody>\n",
       "    <tr>\n",
       "      <th>count</th>\n",
       "      <td>137735.000000</td>\n",
       "      <td>137735.000000</td>\n",
       "    </tr>\n",
       "    <tr>\n",
       "      <th>mean</th>\n",
       "      <td>1247.658046</td>\n",
       "      <td>6.745927</td>\n",
       "    </tr>\n",
       "    <tr>\n",
       "      <th>std</th>\n",
       "      <td>139.416268</td>\n",
       "      <td>5.839241</td>\n",
       "    </tr>\n",
       "    <tr>\n",
       "      <th>min</th>\n",
       "      <td>1000.000000</td>\n",
       "      <td>0.000000</td>\n",
       "    </tr>\n",
       "    <tr>\n",
       "      <th>25%</th>\n",
       "      <td>1128.000000</td>\n",
       "      <td>1.290000</td>\n",
       "    </tr>\n",
       "    <tr>\n",
       "      <th>50%</th>\n",
       "      <td>1247.000000</td>\n",
       "      <td>5.980000</td>\n",
       "    </tr>\n",
       "    <tr>\n",
       "      <th>75%</th>\n",
       "      <td>1365.000000</td>\n",
       "      <td>10.690000</td>\n",
       "    </tr>\n",
       "    <tr>\n",
       "      <th>max</th>\n",
       "      <td>1499.000000</td>\n",
       "      <td>37.600000</td>\n",
       "    </tr>\n",
       "  </tbody>\n",
       "</table>\n",
       "</div>"
      ],
      "text/plain": [
       "             user_id       duration\n",
       "count  137735.000000  137735.000000\n",
       "mean     1247.658046       6.745927\n",
       "std       139.416268       5.839241\n",
       "min      1000.000000       0.000000\n",
       "25%      1128.000000       1.290000\n",
       "50%      1247.000000       5.980000\n",
       "75%      1365.000000      10.690000\n",
       "max      1499.000000      37.600000"
      ]
     },
     "execution_count": 3,
     "metadata": {},
     "output_type": "execute_result"
    }
   ],
   "source": [
    "df_megaline_calls.describe()"
   ]
  },
  {
   "cell_type": "markdown",
   "metadata": {
    "id": "69qqoJ3r0q01"
   },
   "source": [
    "## Preparar los datos"
   ]
  },
  {
   "cell_type": "markdown",
   "metadata": {
    "id": "vUuZw80S0q01"
   },
   "source": [
    "[Los datos para este proyecto se dividen en varias tablas. Explora cada una para tener una comprensión inicial de los datos. Si es necesario, haz las correcciones requeridas en cada tabla.]"
   ]
  },
  {
   "cell_type": "markdown",
   "metadata": {
    "id": "ohBhimvH0q01"
   },
   "source": [
    "## Tarifas"
   ]
  },
  {
   "cell_type": "code",
   "execution_count": null,
   "metadata": {
    "id": "GptqP3Q40q02",
    "trusted": false
   },
   "outputs": [
    {
     "name": "stdout",
     "output_type": "stream",
     "text": [
      "Información resumida de df_megaline_planss:\n",
      "   messages_included  mb_per_month_included  minutes_included  \\\n",
      "0                 50                  15360               500   \n",
      "1               1000                  30720              3000   \n",
      "\n",
      "   usd_monthly_pay  usd_per_gb  usd_per_message  usd_per_minute plan_name  \n",
      "0               20          10             0.03            0.03      surf  \n",
      "1               70           7             0.01            0.01  ultimate  \n"
     ]
    }
   ],
   "source": [
    "# Imprime la información general/resumida sobre el DataFrame de las tarifas\n",
    "\n",
    "print(\"Información resumida de df_megaline_planss:\")\n",
    "print(df_megaline_plans)"
   ]
  },
  {
   "cell_type": "code",
   "execution_count": null,
   "metadata": {
    "id": "64xzjwL70q02",
    "trusted": false
   },
   "outputs": [
    {
     "data": {
      "text/html": [
       "<div>\n",
       "<style scoped>\n",
       "    .dataframe tbody tr th:only-of-type {\n",
       "        vertical-align: middle;\n",
       "    }\n",
       "\n",
       "    .dataframe tbody tr th {\n",
       "        vertical-align: top;\n",
       "    }\n",
       "\n",
       "    .dataframe thead th {\n",
       "        text-align: right;\n",
       "    }\n",
       "</style>\n",
       "<table border=\"1\" class=\"dataframe\">\n",
       "  <thead>\n",
       "    <tr style=\"text-align: right;\">\n",
       "      <th></th>\n",
       "      <th>messages_included</th>\n",
       "      <th>mb_per_month_included</th>\n",
       "      <th>minutes_included</th>\n",
       "      <th>usd_monthly_pay</th>\n",
       "      <th>usd_per_gb</th>\n",
       "      <th>usd_per_message</th>\n",
       "      <th>usd_per_minute</th>\n",
       "      <th>plan_name</th>\n",
       "    </tr>\n",
       "  </thead>\n",
       "  <tbody>\n",
       "    <tr>\n",
       "      <th>0</th>\n",
       "      <td>50</td>\n",
       "      <td>15360</td>\n",
       "      <td>500</td>\n",
       "      <td>20</td>\n",
       "      <td>10</td>\n",
       "      <td>0.03</td>\n",
       "      <td>0.03</td>\n",
       "      <td>surf</td>\n",
       "    </tr>\n",
       "    <tr>\n",
       "      <th>1</th>\n",
       "      <td>1000</td>\n",
       "      <td>30720</td>\n",
       "      <td>3000</td>\n",
       "      <td>70</td>\n",
       "      <td>7</td>\n",
       "      <td>0.01</td>\n",
       "      <td>0.01</td>\n",
       "      <td>ultimate</td>\n",
       "    </tr>\n",
       "  </tbody>\n",
       "</table>\n",
       "</div>"
      ],
      "text/plain": [
       "   messages_included  mb_per_month_included  minutes_included  \\\n",
       "0                 50                  15360               500   \n",
       "1               1000                  30720              3000   \n",
       "\n",
       "   usd_monthly_pay  usd_per_gb  usd_per_message  usd_per_minute plan_name  \n",
       "0               20          10             0.03            0.03      surf  \n",
       "1               70           7             0.01            0.01  ultimate  "
      ]
     },
     "execution_count": 6,
     "metadata": {},
     "output_type": "execute_result"
    }
   ],
   "source": [
    "# Imprime una muestra de los datos para las tarifas\n",
    "df_megaline_plans\n",
    "\n"
   ]
  },
  {
   "cell_type": "code",
   "execution_count": null,
   "metadata": {
    "trusted": false
   },
   "outputs": [],
   "source": []
  },
  {
   "cell_type": "markdown",
   "metadata": {
    "id": "mEc_3_hs0q02"
   },
   "source": [
    "\n",
    "se puede observar que los espacios están delimitados por \"_\", se cambiará al formato, y que el nombre de las tarifas se encuentran al final y no al principio"
   ]
  },
  {
   "cell_type": "markdown",
   "metadata": {
    "id": "R3C05i1l0q03"
   },
   "source": [
    "## Corregir datos"
   ]
  },
  {
   "cell_type": "markdown",
   "metadata": {
    "id": "bIi8StZI0q03"
   },
   "source": [
    "[Corrige los problemas obvios con los datos basándote en las observaciones iniciales.]"
   ]
  },
  {
   "cell_type": "code",
   "execution_count": null,
   "metadata": {
    "id": "Y7SVmjGn0q03",
    "trusted": false
   },
   "outputs": [
    {
     "name": "stdout",
     "output_type": "stream",
     "text": [
      "['messages included', 'mb per month included', 'minutes included', 'usd monthly pay', 'usd per gb', 'usd per message', 'usd per minute', 'plan name']\n"
     ]
    }
   ],
   "source": [
    "columns = [\n",
    "    \"messages_included\",\n",
    "    \"mb_per_month_included\",\n",
    "    \"minutes_included\",\n",
    "    \"usd_monthly_pay\",\n",
    "    \"usd_per_gb\",\n",
    "    \"usd_per_message\",\n",
    "    \"usd_per_minute\",\n",
    "    \"plan_name\"\n",
    "]\n",
    "\n",
    "\n",
    "columns = [col.replace(\"_\", \" \") for col in columns]\n",
    "\n",
    "print(columns)"
   ]
  },
  {
   "cell_type": "markdown",
   "metadata": {
    "id": "LJir7bml0q03"
   },
   "source": [
    "## Enriquecer los datos"
   ]
  },
  {
   "cell_type": "code",
   "execution_count": null,
   "metadata": {
    "id": "gfcIEuXV0q04",
    "trusted": false
   },
   "outputs": [
    {
     "name": "stdout",
     "output_type": "stream",
     "text": [
      "  plan_name  messages_included  mb_per_month_included  minutes_included  \\\n",
      "0      surf                 50                  15360               500   \n",
      "1  ultimate               1000                  30720              3000   \n",
      "\n",
      "   usd_monthly_pay  usd_per_gb  usd_per_message  usd_per_minute  \\\n",
      "0               20          10             0.03            0.03   \n",
      "1               70           7             0.01            0.01   \n",
      "\n",
      "   internet_included  \n",
      "0                 15  \n",
      "1                 30  \n"
     ]
    }
   ],
   "source": [
    "# Mover \"plan_name\" a la primera posición\n",
    "df_megaline_plans.insert(0, 'plan_name', df_megaline_plans.pop('plan_name'))\n",
    "\n",
    "# Imprimir el DataFrame para verificar el cambio\n",
    "print(df_megaline_plans)"
   ]
  },
  {
   "cell_type": "code",
   "execution_count": null,
   "metadata": {
    "trusted": false
   },
   "outputs": [],
   "source": [
    "#agregar una columna que contenga los gb incluidos\n",
    "df_megaline_plans['internet_included'] = df_megaline_plans['mb_per_month_included'] / 1024\n",
    "# Cambia el tipo de dato de la columna 'internet_included' a 'int64'\n",
    "df_megaline_plans['internet_included'] = df_megaline_plans['internet_included'].astype('int64')"
   ]
  },
  {
   "cell_type": "markdown",
   "metadata": {
    "id": "1n2X6WXf0q04"
   },
   "source": [
    "## Usuarios/as"
   ]
  },
  {
   "cell_type": "code",
   "execution_count": null,
   "metadata": {
    "id": "2NgjWFqx0q05",
    "trusted": false
   },
   "outputs": [
    {
     "name": "stdout",
     "output_type": "stream",
     "text": [
      "Información resumida de df_megaline_users:\n",
      "     user_id first_name   last_name  age  \\\n",
      "0       1000   Anamaria       Bauer   45   \n",
      "1       1001     Mickey   Wilkerson   28   \n",
      "2       1002     Carlee     Hoffman   36   \n",
      "3       1003   Reynaldo     Jenkins   52   \n",
      "4       1004    Leonila    Thompson   40   \n",
      "..       ...        ...         ...  ...   \n",
      "495     1495      Fidel      Sharpe   67   \n",
      "496     1496      Ariel    Shepherd   49   \n",
      "497     1497      Donte     Barrera   49   \n",
      "498     1498       Scot  Williamson   51   \n",
      "499     1499      Shena     Dickson   37   \n",
      "\n",
      "                                          city    reg_date      plan  \\\n",
      "0        Atlanta-Sandy Springs-Roswell, GA MSA  2018-12-24  ultimate   \n",
      "1              Seattle-Tacoma-Bellevue, WA MSA  2018-08-13      surf   \n",
      "2         Las Vegas-Henderson-Paradise, NV MSA  2018-10-21      surf   \n",
      "3                                Tulsa, OK MSA  2018-01-28      surf   \n",
      "4              Seattle-Tacoma-Bellevue, WA MSA  2018-05-23      surf   \n",
      "..                                         ...         ...       ...   \n",
      "495  New York-Newark-Jersey City, NY-NJ-PA MSA  2018-09-04      surf   \n",
      "496               New Orleans-Metairie, LA MSA  2018-02-20      surf   \n",
      "497     Los Angeles-Long Beach-Anaheim, CA MSA  2018-12-10  ultimate   \n",
      "498  New York-Newark-Jersey City, NY-NJ-PA MSA  2018-02-04      surf   \n",
      "499          Orlando-Kissimmee-Sanford, FL MSA  2018-05-06      surf   \n",
      "\n",
      "    churn_date  \n",
      "0          NaN  \n",
      "1          NaN  \n",
      "2          NaN  \n",
      "3          NaN  \n",
      "4          NaN  \n",
      "..         ...  \n",
      "495        NaN  \n",
      "496        NaN  \n",
      "497        NaN  \n",
      "498        NaN  \n",
      "499        NaN  \n",
      "\n",
      "[500 rows x 8 columns]\n"
     ]
    }
   ],
   "source": [
    "# Imprime la información general/resumida sobre el DataFrame de usuarios\n",
    "\n",
    "print(\"Información resumida de df_megaline_users:\")\n",
    "print(df_megaline_users)"
   ]
  },
  {
   "cell_type": "code",
   "execution_count": null,
   "metadata": {
    "id": "1IN1L9uh0q05",
    "trusted": false
   },
   "outputs": [
    {
     "data": {
      "text/html": [
       "<div>\n",
       "<style scoped>\n",
       "    .dataframe tbody tr th:only-of-type {\n",
       "        vertical-align: middle;\n",
       "    }\n",
       "\n",
       "    .dataframe tbody tr th {\n",
       "        vertical-align: top;\n",
       "    }\n",
       "\n",
       "    .dataframe thead th {\n",
       "        text-align: right;\n",
       "    }\n",
       "</style>\n",
       "<table border=\"1\" class=\"dataframe\">\n",
       "  <thead>\n",
       "    <tr style=\"text-align: right;\">\n",
       "      <th></th>\n",
       "      <th>user_id</th>\n",
       "      <th>first_name</th>\n",
       "      <th>last_name</th>\n",
       "      <th>age</th>\n",
       "      <th>city</th>\n",
       "      <th>reg_date</th>\n",
       "      <th>plan</th>\n",
       "      <th>churn_date</th>\n",
       "    </tr>\n",
       "  </thead>\n",
       "  <tbody>\n",
       "    <tr>\n",
       "      <th>0</th>\n",
       "      <td>1000</td>\n",
       "      <td>Anamaria</td>\n",
       "      <td>Bauer</td>\n",
       "      <td>45</td>\n",
       "      <td>Atlanta-Sandy Springs-Roswell, GA MSA</td>\n",
       "      <td>2018-12-24</td>\n",
       "      <td>ultimate</td>\n",
       "      <td>NaN</td>\n",
       "    </tr>\n",
       "    <tr>\n",
       "      <th>1</th>\n",
       "      <td>1001</td>\n",
       "      <td>Mickey</td>\n",
       "      <td>Wilkerson</td>\n",
       "      <td>28</td>\n",
       "      <td>Seattle-Tacoma-Bellevue, WA MSA</td>\n",
       "      <td>2018-08-13</td>\n",
       "      <td>surf</td>\n",
       "      <td>NaN</td>\n",
       "    </tr>\n",
       "    <tr>\n",
       "      <th>2</th>\n",
       "      <td>1002</td>\n",
       "      <td>Carlee</td>\n",
       "      <td>Hoffman</td>\n",
       "      <td>36</td>\n",
       "      <td>Las Vegas-Henderson-Paradise, NV MSA</td>\n",
       "      <td>2018-10-21</td>\n",
       "      <td>surf</td>\n",
       "      <td>NaN</td>\n",
       "    </tr>\n",
       "    <tr>\n",
       "      <th>3</th>\n",
       "      <td>1003</td>\n",
       "      <td>Reynaldo</td>\n",
       "      <td>Jenkins</td>\n",
       "      <td>52</td>\n",
       "      <td>Tulsa, OK MSA</td>\n",
       "      <td>2018-01-28</td>\n",
       "      <td>surf</td>\n",
       "      <td>NaN</td>\n",
       "    </tr>\n",
       "    <tr>\n",
       "      <th>4</th>\n",
       "      <td>1004</td>\n",
       "      <td>Leonila</td>\n",
       "      <td>Thompson</td>\n",
       "      <td>40</td>\n",
       "      <td>Seattle-Tacoma-Bellevue, WA MSA</td>\n",
       "      <td>2018-05-23</td>\n",
       "      <td>surf</td>\n",
       "      <td>NaN</td>\n",
       "    </tr>\n",
       "    <tr>\n",
       "      <th>...</th>\n",
       "      <td>...</td>\n",
       "      <td>...</td>\n",
       "      <td>...</td>\n",
       "      <td>...</td>\n",
       "      <td>...</td>\n",
       "      <td>...</td>\n",
       "      <td>...</td>\n",
       "      <td>...</td>\n",
       "    </tr>\n",
       "    <tr>\n",
       "      <th>495</th>\n",
       "      <td>1495</td>\n",
       "      <td>Fidel</td>\n",
       "      <td>Sharpe</td>\n",
       "      <td>67</td>\n",
       "      <td>New York-Newark-Jersey City, NY-NJ-PA MSA</td>\n",
       "      <td>2018-09-04</td>\n",
       "      <td>surf</td>\n",
       "      <td>NaN</td>\n",
       "    </tr>\n",
       "    <tr>\n",
       "      <th>496</th>\n",
       "      <td>1496</td>\n",
       "      <td>Ariel</td>\n",
       "      <td>Shepherd</td>\n",
       "      <td>49</td>\n",
       "      <td>New Orleans-Metairie, LA MSA</td>\n",
       "      <td>2018-02-20</td>\n",
       "      <td>surf</td>\n",
       "      <td>NaN</td>\n",
       "    </tr>\n",
       "    <tr>\n",
       "      <th>497</th>\n",
       "      <td>1497</td>\n",
       "      <td>Donte</td>\n",
       "      <td>Barrera</td>\n",
       "      <td>49</td>\n",
       "      <td>Los Angeles-Long Beach-Anaheim, CA MSA</td>\n",
       "      <td>2018-12-10</td>\n",
       "      <td>ultimate</td>\n",
       "      <td>NaN</td>\n",
       "    </tr>\n",
       "    <tr>\n",
       "      <th>498</th>\n",
       "      <td>1498</td>\n",
       "      <td>Scot</td>\n",
       "      <td>Williamson</td>\n",
       "      <td>51</td>\n",
       "      <td>New York-Newark-Jersey City, NY-NJ-PA MSA</td>\n",
       "      <td>2018-02-04</td>\n",
       "      <td>surf</td>\n",
       "      <td>NaN</td>\n",
       "    </tr>\n",
       "    <tr>\n",
       "      <th>499</th>\n",
       "      <td>1499</td>\n",
       "      <td>Shena</td>\n",
       "      <td>Dickson</td>\n",
       "      <td>37</td>\n",
       "      <td>Orlando-Kissimmee-Sanford, FL MSA</td>\n",
       "      <td>2018-05-06</td>\n",
       "      <td>surf</td>\n",
       "      <td>NaN</td>\n",
       "    </tr>\n",
       "  </tbody>\n",
       "</table>\n",
       "<p>500 rows × 8 columns</p>\n",
       "</div>"
      ],
      "text/plain": [
       "     user_id first_name   last_name  age  \\\n",
       "0       1000   Anamaria       Bauer   45   \n",
       "1       1001     Mickey   Wilkerson   28   \n",
       "2       1002     Carlee     Hoffman   36   \n",
       "3       1003   Reynaldo     Jenkins   52   \n",
       "4       1004    Leonila    Thompson   40   \n",
       "..       ...        ...         ...  ...   \n",
       "495     1495      Fidel      Sharpe   67   \n",
       "496     1496      Ariel    Shepherd   49   \n",
       "497     1497      Donte     Barrera   49   \n",
       "498     1498       Scot  Williamson   51   \n",
       "499     1499      Shena     Dickson   37   \n",
       "\n",
       "                                          city    reg_date      plan  \\\n",
       "0        Atlanta-Sandy Springs-Roswell, GA MSA  2018-12-24  ultimate   \n",
       "1              Seattle-Tacoma-Bellevue, WA MSA  2018-08-13      surf   \n",
       "2         Las Vegas-Henderson-Paradise, NV MSA  2018-10-21      surf   \n",
       "3                                Tulsa, OK MSA  2018-01-28      surf   \n",
       "4              Seattle-Tacoma-Bellevue, WA MSA  2018-05-23      surf   \n",
       "..                                         ...         ...       ...   \n",
       "495  New York-Newark-Jersey City, NY-NJ-PA MSA  2018-09-04      surf   \n",
       "496               New Orleans-Metairie, LA MSA  2018-02-20      surf   \n",
       "497     Los Angeles-Long Beach-Anaheim, CA MSA  2018-12-10  ultimate   \n",
       "498  New York-Newark-Jersey City, NY-NJ-PA MSA  2018-02-04      surf   \n",
       "499          Orlando-Kissimmee-Sanford, FL MSA  2018-05-06      surf   \n",
       "\n",
       "    churn_date  \n",
       "0          NaN  \n",
       "1          NaN  \n",
       "2          NaN  \n",
       "3          NaN  \n",
       "4          NaN  \n",
       "..         ...  \n",
       "495        NaN  \n",
       "496        NaN  \n",
       "497        NaN  \n",
       "498        NaN  \n",
       "499        NaN  \n",
       "\n",
       "[500 rows x 8 columns]"
      ]
     },
     "execution_count": 10,
     "metadata": {},
     "output_type": "execute_result"
    }
   ],
   "source": [
    "# Imprime una muestra de datos para usuarios\n",
    "\n",
    "df_megaline_users"
   ]
  },
  {
   "cell_type": "markdown",
   "metadata": {
    "id": "dCZoUq4f0q06"
   },
   "source": [
    "De igual forma en el siguiente DF se puede observar en el nombre de las columnas que hay nombres con guiones bajos y también hay elementos ausentes"
   ]
  },
  {
   "cell_type": "markdown",
   "metadata": {
    "id": "BX5FQh_I0q06"
   },
   "source": [
    "### Corregir los datos"
   ]
  },
  {
   "cell_type": "code",
   "execution_count": null,
   "metadata": {
    "id": "yUqX-K0C0q07",
    "trusted": false
   },
   "outputs": [
    {
     "name": "stdout",
     "output_type": "stream",
     "text": [
      "['user id', 'first name', 'last name', 'reg date', 'churn date']\n"
     ]
    }
   ],
   "source": [
    "columns = [\n",
    "    \"user_id\",\n",
    "    \"first_name\",\n",
    "    \"last_name\",\n",
    "    \"reg_date\",\n",
    "    \"churn_date\"\n",
    "    \n",
    "]\n",
    "\n",
    "\n",
    "columns = [col.replace(\"_\", \" \") for col in columns]\n",
    "\n",
    "print(columns)"
   ]
  },
  {
   "cell_type": "code",
   "execution_count": null,
   "metadata": {
    "trusted": false
   },
   "outputs": [],
   "source": [
    "# Cambiar los tipo de datos de `reg_date` a tipo `datetime`\n",
    "df_megaline_users['reg_date'] = pd.to_datetime(df_megaline_users['reg_date'], format='%Y-%m-%d')\n",
    "# Cambiar los tipos de datos de 'churn_date' que no son nulos a tipo 'datetime'\n",
    "df_megaline_users['churn_date'] = pd.to_datetime(df_megaline_users['churn_date'], format='%Y-%m-%d')"
   ]
  },
  {
   "cell_type": "markdown",
   "metadata": {
    "id": "ycwuARJp0q07"
   },
   "source": [
    "### Enriquecer los datos"
   ]
  },
  {
   "cell_type": "markdown",
   "metadata": {
    "id": "96NIh4CJ0q08"
   },
   "source": [
    "[Agrega factores adicionales a los datos si crees que pudieran ser útiles.]"
   ]
  },
  {
   "cell_type": "code",
   "execution_count": null,
   "metadata": {
    "trusted": false
   },
   "outputs": [
    {
     "name": "stdout",
     "output_type": "stream",
     "text": [
      "user_id         0\n",
      "first_name      0\n",
      "last_name       0\n",
      "age             0\n",
      "city            0\n",
      "reg_date        0\n",
      "plan            0\n",
      "churn_date    466\n",
      "dtype: int64\n"
     ]
    }
   ],
   "source": [
    "print(df_megaline_users.isna().sum()) #se buscaron valores ausentes"
   ]
  },
  {
   "cell_type": "code",
   "execution_count": null,
   "metadata": {
    "trusted": false
   },
   "outputs": [
    {
     "name": "stdout",
     "output_type": "stream",
     "text": [
      "     user_id first_name   last_name  age  \\\n",
      "0       1000   Anamaria       Bauer   45   \n",
      "1       1001     Mickey   Wilkerson   28   \n",
      "2       1002     Carlee     Hoffman   36   \n",
      "3       1003   Reynaldo     Jenkins   52   \n",
      "4       1004    Leonila    Thompson   40   \n",
      "..       ...        ...         ...  ...   \n",
      "495     1495      Fidel      Sharpe   67   \n",
      "496     1496      Ariel    Shepherd   49   \n",
      "497     1497      Donte     Barrera   49   \n",
      "498     1498       Scot  Williamson   51   \n",
      "499     1499      Shena     Dickson   37   \n",
      "\n",
      "                                          city    reg_date      plan  \\\n",
      "0        Atlanta-Sandy Springs-Roswell, GA MSA  2018-12-24  ultimate   \n",
      "1              Seattle-Tacoma-Bellevue, WA MSA  2018-08-13      surf   \n",
      "2         Las Vegas-Henderson-Paradise, NV MSA  2018-10-21      surf   \n",
      "3                                Tulsa, OK MSA  2018-01-28      surf   \n",
      "4              Seattle-Tacoma-Bellevue, WA MSA  2018-05-23      surf   \n",
      "..                                         ...         ...       ...   \n",
      "495  New York-Newark-Jersey City, NY-NJ-PA MSA  2018-09-04      surf   \n",
      "496               New Orleans-Metairie, LA MSA  2018-02-20      surf   \n",
      "497     Los Angeles-Long Beach-Anaheim, CA MSA  2018-12-10  ultimate   \n",
      "498  New York-Newark-Jersey City, NY-NJ-PA MSA  2018-02-04      surf   \n",
      "499          Orlando-Kissimmee-Sanford, FL MSA  2018-05-06      surf   \n",
      "\n",
      "    churn_date  \n",
      "0               \n",
      "1               \n",
      "2               \n",
      "3               \n",
      "4               \n",
      "..         ...  \n",
      "495             \n",
      "496             \n",
      "497             \n",
      "498             \n",
      "499             \n",
      "\n",
      "[500 rows x 8 columns]\n"
     ]
    }
   ],
   "source": [
    "print(df_megaline_users.fillna(value=\"\")) # se reemplazaron los valores ausentes"
   ]
  },
  {
   "cell_type": "code",
   "execution_count": null,
   "metadata": {
    "trusted": false
   },
   "outputs": [
    {
     "name": "stdout",
     "output_type": "stream",
     "text": [
      "   user_id first_name  last_name  age                                   city  \\\n",
      "0     1000   Anamaria      Bauer   45  Atlanta-Sandy Springs-Roswell, GA MSA   \n",
      "1     1001     Mickey  Wilkerson   28        Seattle-Tacoma-Bellevue, WA MSA   \n",
      "2     1002     Carlee    Hoffman   36   Las Vegas-Henderson-Paradise, NV MSA   \n",
      "3     1003   Reynaldo    Jenkins   52                          Tulsa, OK MSA   \n",
      "4     1004    Leonila   Thompson   40        Seattle-Tacoma-Bellevue, WA MSA   \n",
      "\n",
      "    reg_date      plan churn_date  month  \n",
      "0 2018-12-24  ultimate        NaN     12  \n",
      "1 2018-08-13      surf        NaN      8  \n",
      "2 2018-10-21      surf        NaN     10  \n",
      "3 2018-01-28      surf        NaN      1  \n",
      "4 2018-05-23      surf        NaN      5  \n"
     ]
    }
   ],
   "source": [
    "df_megaline_users[\"reg_date\"] = pd.to_datetime(df_megaline_users[\"reg_date\"])\n",
    "\n",
    "# Extraer el mes y añadirlo como una nueva columna\n",
    "df_megaline_users[\"month\"] = df_megaline_users[\"reg_date\"].dt.month\n",
    "\n",
    "# Mostrar las primeras filas para verificar\n",
    "print(df_megaline_users.head())"
   ]
  },
  {
   "cell_type": "code",
   "execution_count": null,
   "metadata": {
    "trusted": false
   },
   "outputs": [
    {
     "data": {
      "text/html": [
       "<div>\n",
       "<style scoped>\n",
       "    .dataframe tbody tr th:only-of-type {\n",
       "        vertical-align: middle;\n",
       "    }\n",
       "\n",
       "    .dataframe tbody tr th {\n",
       "        vertical-align: top;\n",
       "    }\n",
       "\n",
       "    .dataframe thead th {\n",
       "        text-align: right;\n",
       "    }\n",
       "</style>\n",
       "<table border=\"1\" class=\"dataframe\">\n",
       "  <thead>\n",
       "    <tr style=\"text-align: right;\">\n",
       "      <th></th>\n",
       "      <th>user_id</th>\n",
       "      <th>age</th>\n",
       "    </tr>\n",
       "  </thead>\n",
       "  <tbody>\n",
       "    <tr>\n",
       "      <th>count</th>\n",
       "      <td>500.000000</td>\n",
       "      <td>500.000000</td>\n",
       "    </tr>\n",
       "    <tr>\n",
       "      <th>mean</th>\n",
       "      <td>1249.500000</td>\n",
       "      <td>45.486000</td>\n",
       "    </tr>\n",
       "    <tr>\n",
       "      <th>std</th>\n",
       "      <td>144.481833</td>\n",
       "      <td>16.972269</td>\n",
       "    </tr>\n",
       "    <tr>\n",
       "      <th>min</th>\n",
       "      <td>1000.000000</td>\n",
       "      <td>18.000000</td>\n",
       "    </tr>\n",
       "    <tr>\n",
       "      <th>25%</th>\n",
       "      <td>1124.750000</td>\n",
       "      <td>30.000000</td>\n",
       "    </tr>\n",
       "    <tr>\n",
       "      <th>50%</th>\n",
       "      <td>1249.500000</td>\n",
       "      <td>46.000000</td>\n",
       "    </tr>\n",
       "    <tr>\n",
       "      <th>75%</th>\n",
       "      <td>1374.250000</td>\n",
       "      <td>61.000000</td>\n",
       "    </tr>\n",
       "    <tr>\n",
       "      <th>max</th>\n",
       "      <td>1499.000000</td>\n",
       "      <td>75.000000</td>\n",
       "    </tr>\n",
       "  </tbody>\n",
       "</table>\n",
       "</div>"
      ],
      "text/plain": [
       "           user_id         age\n",
       "count   500.000000  500.000000\n",
       "mean   1249.500000   45.486000\n",
       "std     144.481833   16.972269\n",
       "min    1000.000000   18.000000\n",
       "25%    1124.750000   30.000000\n",
       "50%    1249.500000   46.000000\n",
       "75%    1374.250000   61.000000\n",
       "max    1499.000000   75.000000"
      ]
     },
     "execution_count": 10,
     "metadata": {},
     "output_type": "execute_result"
    }
   ],
   "source": [
    "df_megaline_users.describe()"
   ]
  },
  {
   "cell_type": "code",
   "execution_count": null,
   "metadata": {
    "trusted": false
   },
   "outputs": [],
   "source": [
    "# Crear una función que calcule los meses de servicio que ha tenido cada usuario\n",
    "def calc_service_months(user):\n",
    "    \"\"\"\n",
    "    evalúar si el usuario sigue activo o dejó el servicio y posteriormente calcúla los meses de servicio.\n",
    "    \"\"\"\n",
    "    if pd.isnull(user['leave_date']):\n",
    "            months = 13 - (user['reg_month'])\n",
    "    else:\n",
    "            months = (user['leave_date']) - user['reg_month'] + 1\n",
    "    return months"
   ]
  },
  {
   "cell_type": "code",
   "execution_count": null,
   "metadata": {
    "trusted": false
   },
   "outputs": [],
   "source": [
    "# Agregar una columnasi el usuario está en la zona de NY o NJ\n",
    "df_megaline_users['isin_ny_nj'] = df_megaline_users['city'].str.contains('NY|NJ')\n",
    "# Añade una columna con el mes en el que el usuario se registró.\n",
    "df_megaline_users['reg_month'] = df_megaline_users['reg_date'].dt.month\n",
    "# Añade una columna con el mes en que el usuario dejó de usar el servicio.\n",
    "df_megaline_users['leave_date'] = df_megaline_users['churn_date'].dt.month\n",
    "# Añade una columna con la cantidad de meses de servicio.\n",
    "df_megaline_users['service_months'] = df_megaline_users.apply(calc_service_months, axis=1)"
   ]
  },
  {
   "cell_type": "markdown",
   "metadata": {
    "id": "o7MeKCid0q08"
   },
   "source": [
    "## Llamadas"
   ]
  },
  {
   "cell_type": "code",
   "execution_count": null,
   "metadata": {
    "id": "6dDlnoDm0q08",
    "trusted": false
   },
   "outputs": [
    {
     "name": "stdout",
     "output_type": "stream",
     "text": [
      "Información de df_megaline_calls:\n",
      "<class 'pandas.core.frame.DataFrame'>\n",
      "RangeIndex: 137735 entries, 0 to 137734\n",
      "Data columns (total 4 columns):\n",
      " #   Column     Non-Null Count   Dtype  \n",
      "---  ------     --------------   -----  \n",
      " 0   id         137735 non-null  object \n",
      " 1   user_id    137735 non-null  int64  \n",
      " 2   call_date  137735 non-null  object \n",
      " 3   duration   137735 non-null  float64\n",
      "dtypes: float64(1), int64(1), object(2)\n",
      "memory usage: 4.2+ MB\n",
      "None\n"
     ]
    }
   ],
   "source": [
    "# Imprime la información general/resumida sobre el DataFrame de las llamadas\n",
    "\n",
    "print(\"Información de df_megaline_calls:\")\n",
    "print(df_megaline_calls.info())"
   ]
  },
  {
   "cell_type": "code",
   "execution_count": null,
   "metadata": {
    "id": "kuh1vlNB0q09",
    "trusted": false
   },
   "outputs": [
    {
     "data": {
      "text/html": [
       "<div>\n",
       "<style scoped>\n",
       "    .dataframe tbody tr th:only-of-type {\n",
       "        vertical-align: middle;\n",
       "    }\n",
       "\n",
       "    .dataframe tbody tr th {\n",
       "        vertical-align: top;\n",
       "    }\n",
       "\n",
       "    .dataframe thead th {\n",
       "        text-align: right;\n",
       "    }\n",
       "</style>\n",
       "<table border=\"1\" class=\"dataframe\">\n",
       "  <thead>\n",
       "    <tr style=\"text-align: right;\">\n",
       "      <th></th>\n",
       "      <th>id</th>\n",
       "      <th>user_id</th>\n",
       "      <th>call_date</th>\n",
       "      <th>duration</th>\n",
       "    </tr>\n",
       "  </thead>\n",
       "  <tbody>\n",
       "    <tr>\n",
       "      <th>0</th>\n",
       "      <td>1000_93</td>\n",
       "      <td>1000</td>\n",
       "      <td>2018-12-27</td>\n",
       "      <td>8.52</td>\n",
       "    </tr>\n",
       "    <tr>\n",
       "      <th>1</th>\n",
       "      <td>1000_145</td>\n",
       "      <td>1000</td>\n",
       "      <td>2018-12-27</td>\n",
       "      <td>13.66</td>\n",
       "    </tr>\n",
       "    <tr>\n",
       "      <th>2</th>\n",
       "      <td>1000_247</td>\n",
       "      <td>1000</td>\n",
       "      <td>2018-12-27</td>\n",
       "      <td>14.48</td>\n",
       "    </tr>\n",
       "    <tr>\n",
       "      <th>3</th>\n",
       "      <td>1000_309</td>\n",
       "      <td>1000</td>\n",
       "      <td>2018-12-28</td>\n",
       "      <td>5.76</td>\n",
       "    </tr>\n",
       "    <tr>\n",
       "      <th>4</th>\n",
       "      <td>1000_380</td>\n",
       "      <td>1000</td>\n",
       "      <td>2018-12-30</td>\n",
       "      <td>4.22</td>\n",
       "    </tr>\n",
       "    <tr>\n",
       "      <th>...</th>\n",
       "      <td>...</td>\n",
       "      <td>...</td>\n",
       "      <td>...</td>\n",
       "      <td>...</td>\n",
       "    </tr>\n",
       "    <tr>\n",
       "      <th>137730</th>\n",
       "      <td>1499_199</td>\n",
       "      <td>1499</td>\n",
       "      <td>2018-11-21</td>\n",
       "      <td>8.72</td>\n",
       "    </tr>\n",
       "    <tr>\n",
       "      <th>137731</th>\n",
       "      <td>1499_200</td>\n",
       "      <td>1499</td>\n",
       "      <td>2018-10-20</td>\n",
       "      <td>10.89</td>\n",
       "    </tr>\n",
       "    <tr>\n",
       "      <th>137732</th>\n",
       "      <td>1499_201</td>\n",
       "      <td>1499</td>\n",
       "      <td>2018-09-21</td>\n",
       "      <td>8.12</td>\n",
       "    </tr>\n",
       "    <tr>\n",
       "      <th>137733</th>\n",
       "      <td>1499_202</td>\n",
       "      <td>1499</td>\n",
       "      <td>2018-10-10</td>\n",
       "      <td>0.37</td>\n",
       "    </tr>\n",
       "    <tr>\n",
       "      <th>137734</th>\n",
       "      <td>1499_203</td>\n",
       "      <td>1499</td>\n",
       "      <td>2018-12-29</td>\n",
       "      <td>13.86</td>\n",
       "    </tr>\n",
       "  </tbody>\n",
       "</table>\n",
       "<p>137735 rows × 4 columns</p>\n",
       "</div>"
      ],
      "text/plain": [
       "              id  user_id   call_date  duration\n",
       "0        1000_93     1000  2018-12-27      8.52\n",
       "1       1000_145     1000  2018-12-27     13.66\n",
       "2       1000_247     1000  2018-12-27     14.48\n",
       "3       1000_309     1000  2018-12-28      5.76\n",
       "4       1000_380     1000  2018-12-30      4.22\n",
       "...          ...      ...         ...       ...\n",
       "137730  1499_199     1499  2018-11-21      8.72\n",
       "137731  1499_200     1499  2018-10-20     10.89\n",
       "137732  1499_201     1499  2018-09-21      8.12\n",
       "137733  1499_202     1499  2018-10-10      0.37\n",
       "137734  1499_203     1499  2018-12-29     13.86\n",
       "\n",
       "[137735 rows x 4 columns]"
      ]
     },
     "execution_count": 16,
     "metadata": {},
     "output_type": "execute_result"
    }
   ],
   "source": [
    "# Imprime una muestra de datos para las llamadas\n",
    "df_megaline_calls\n"
   ]
  },
  {
   "cell_type": "markdown",
   "metadata": {
    "id": "S7hzxmbX0q0-"
   },
   "source": [
    "### Corregir los datos"
   ]
  },
  {
   "cell_type": "markdown",
   "metadata": {
    "id": "YxWyAjD20q0-"
   },
   "source": [
    "se reemplazaran los valores de las columnas con guíon bajo"
   ]
  },
  {
   "cell_type": "code",
   "execution_count": null,
   "metadata": {
    "id": "S2r8xA4f0q0-",
    "trusted": false
   },
   "outputs": [
    {
     "name": "stdout",
     "output_type": "stream",
     "text": [
      "['user id', 'call date']\n"
     ]
    }
   ],
   "source": [
    "columns = [\n",
    "    \"user_id\",\n",
    "    \"call_date\"   \n",
    "]\n",
    "\n",
    "\n",
    "columns = [col.replace(\"_\", \" \") for col in columns]\n",
    "\n",
    "print(columns)"
   ]
  },
  {
   "cell_type": "code",
   "execution_count": null,
   "metadata": {
    "trusted": false
   },
   "outputs": [],
   "source": [
    "# Eliminar las llamadas que duraron 0.0\n",
    "df_megaline_calls = df_megaline_calls[~(df_megaline_calls['duration']==0)]\n",
    "# Cambia la columna 'call_date' a 'datetime'\n",
    "df_megaline_calls['call_date'] = pd.to_datetime(df_megaline_calls['call_date'], format='%Y-%m-%d')\n",
    "# Redondea las cifras de 'duration' hacia arriba.\n",
    "df_megaline_calls['duration'] = np.ceil(df_megaline_calls['duration'])\n",
    "# # Cambia el tipo de dato de la columna 'duration' a tipo 'int'\n",
    "df_megaline_calls['duration'] = df_megaline_calls['duration'].astype('int64')"
   ]
  },
  {
   "cell_type": "code",
   "execution_count": null,
   "metadata": {
    "trusted": false
   },
   "outputs": [
    {
     "ename": "KeyError",
     "evalue": "\"['plan'] not in index\"",
     "output_type": "error",
     "traceback": [
      "\u001b[0;31m---------------------------------------------------------------------------\u001b[0m",
      "\u001b[0;31mKeyError\u001b[0m                                  Traceback (most recent call last)",
      "Cell \u001b[0;32mIn[32], line 2\u001b[0m\n\u001b[1;32m      1\u001b[0m \u001b[38;5;66;03m# Agrega la columna 'plan' a la variable 'data_calls\u001b[39;00m\n\u001b[0;32m----> 2\u001b[0m df_megaline_calls \u001b[38;5;241m=\u001b[39m df_megaline_calls\u001b[38;5;241m.\u001b[39mset_index(\u001b[38;5;124m'\u001b[39m\u001b[38;5;124muser_id\u001b[39m\u001b[38;5;124m'\u001b[39m)\u001b[38;5;241m.\u001b[39mjoin(\u001b[43mdf_megaline_calls\u001b[49m\u001b[43m[\u001b[49m\u001b[43m[\u001b[49m\u001b[38;5;124;43m'\u001b[39;49m\u001b[38;5;124;43muser_id\u001b[39;49m\u001b[38;5;124;43m'\u001b[39;49m\u001b[43m,\u001b[49m\u001b[43m \u001b[49m\u001b[38;5;124;43m'\u001b[39;49m\u001b[38;5;124;43mplan\u001b[39;49m\u001b[38;5;124;43m'\u001b[39;49m\u001b[43m]\u001b[49m\u001b[43m]\u001b[49m\u001b[38;5;241m.\u001b[39mset_index(\u001b[38;5;124m'\u001b[39m\u001b[38;5;124muser_id\u001b[39m\u001b[38;5;124m'\u001b[39m))\n\u001b[1;32m      3\u001b[0m \u001b[38;5;66;03m# Resetea el índice\u001b[39;00m\n\u001b[1;32m      4\u001b[0m df_megaline_calls \u001b[38;5;241m=\u001b[39m df_megaline_calls\u001b[38;5;241m.\u001b[39mreset_index()\n",
      "File \u001b[0;32m/opt/conda/envs/python3/lib/python3.9/site-packages/pandas/core/frame.py:3030\u001b[0m, in \u001b[0;36mDataFrame.__getitem__\u001b[0;34m(self, key)\u001b[0m\n\u001b[1;32m   3028\u001b[0m     \u001b[38;5;28;01mif\u001b[39;00m is_iterator(key):\n\u001b[1;32m   3029\u001b[0m         key \u001b[38;5;241m=\u001b[39m \u001b[38;5;28mlist\u001b[39m(key)\n\u001b[0;32m-> 3030\u001b[0m     indexer \u001b[38;5;241m=\u001b[39m \u001b[38;5;28;43mself\u001b[39;49m\u001b[38;5;241;43m.\u001b[39;49m\u001b[43mloc\u001b[49m\u001b[38;5;241;43m.\u001b[39;49m\u001b[43m_get_listlike_indexer\u001b[49m\u001b[43m(\u001b[49m\u001b[43mkey\u001b[49m\u001b[43m,\u001b[49m\u001b[43m \u001b[49m\u001b[43maxis\u001b[49m\u001b[38;5;241;43m=\u001b[39;49m\u001b[38;5;241;43m1\u001b[39;49m\u001b[43m,\u001b[49m\u001b[43m \u001b[49m\u001b[43mraise_missing\u001b[49m\u001b[38;5;241;43m=\u001b[39;49m\u001b[38;5;28;43;01mTrue\u001b[39;49;00m\u001b[43m)\u001b[49m[\u001b[38;5;241m1\u001b[39m]\n\u001b[1;32m   3032\u001b[0m \u001b[38;5;66;03m# take() does not accept boolean indexers\u001b[39;00m\n\u001b[1;32m   3033\u001b[0m \u001b[38;5;28;01mif\u001b[39;00m \u001b[38;5;28mgetattr\u001b[39m(indexer, \u001b[38;5;124m\"\u001b[39m\u001b[38;5;124mdtype\u001b[39m\u001b[38;5;124m\"\u001b[39m, \u001b[38;5;28;01mNone\u001b[39;00m) \u001b[38;5;241m==\u001b[39m \u001b[38;5;28mbool\u001b[39m:\n",
      "File \u001b[0;32m/opt/conda/envs/python3/lib/python3.9/site-packages/pandas/core/indexing.py:1266\u001b[0m, in \u001b[0;36m_LocIndexer._get_listlike_indexer\u001b[0;34m(self, key, axis, raise_missing)\u001b[0m\n\u001b[1;32m   1263\u001b[0m \u001b[38;5;28;01melse\u001b[39;00m:\n\u001b[1;32m   1264\u001b[0m     keyarr, indexer, new_indexer \u001b[38;5;241m=\u001b[39m ax\u001b[38;5;241m.\u001b[39m_reindex_non_unique(keyarr)\n\u001b[0;32m-> 1266\u001b[0m \u001b[38;5;28;43mself\u001b[39;49m\u001b[38;5;241;43m.\u001b[39;49m\u001b[43m_validate_read_indexer\u001b[49m\u001b[43m(\u001b[49m\u001b[43mkeyarr\u001b[49m\u001b[43m,\u001b[49m\u001b[43m \u001b[49m\u001b[43mindexer\u001b[49m\u001b[43m,\u001b[49m\u001b[43m \u001b[49m\u001b[43maxis\u001b[49m\u001b[43m,\u001b[49m\u001b[43m \u001b[49m\u001b[43mraise_missing\u001b[49m\u001b[38;5;241;43m=\u001b[39;49m\u001b[43mraise_missing\u001b[49m\u001b[43m)\u001b[49m\n\u001b[1;32m   1267\u001b[0m \u001b[38;5;28;01mreturn\u001b[39;00m keyarr, indexer\n",
      "File \u001b[0;32m/opt/conda/envs/python3/lib/python3.9/site-packages/pandas/core/indexing.py:1316\u001b[0m, in \u001b[0;36m_LocIndexer._validate_read_indexer\u001b[0;34m(self, key, indexer, axis, raise_missing)\u001b[0m\n\u001b[1;32m   1314\u001b[0m \u001b[38;5;28;01mif\u001b[39;00m raise_missing:\n\u001b[1;32m   1315\u001b[0m     not_found \u001b[38;5;241m=\u001b[39m \u001b[38;5;28mlist\u001b[39m(\u001b[38;5;28mset\u001b[39m(key) \u001b[38;5;241m-\u001b[39m \u001b[38;5;28mset\u001b[39m(ax))\n\u001b[0;32m-> 1316\u001b[0m     \u001b[38;5;28;01mraise\u001b[39;00m \u001b[38;5;167;01mKeyError\u001b[39;00m(\u001b[38;5;124mf\u001b[39m\u001b[38;5;124m\"\u001b[39m\u001b[38;5;132;01m{\u001b[39;00mnot_found\u001b[38;5;132;01m}\u001b[39;00m\u001b[38;5;124m not in index\u001b[39m\u001b[38;5;124m\"\u001b[39m)\n\u001b[1;32m   1318\u001b[0m not_found \u001b[38;5;241m=\u001b[39m key[missing_mask]\n\u001b[1;32m   1320\u001b[0m \u001b[38;5;28;01mwith\u001b[39;00m option_context(\u001b[38;5;124m\"\u001b[39m\u001b[38;5;124mdisplay.max_seq_items\u001b[39m\u001b[38;5;124m\"\u001b[39m, \u001b[38;5;241m10\u001b[39m, \u001b[38;5;124m\"\u001b[39m\u001b[38;5;124mdisplay.width\u001b[39m\u001b[38;5;124m\"\u001b[39m, \u001b[38;5;241m80\u001b[39m):\n",
      "\u001b[0;31mKeyError\u001b[0m: \"['plan'] not in index\""
     ]
    }
   ],
   "source": [
    "\n",
    "# Agrega la columna 'plan' a la variable 'data_calls\n",
    "df_megaline_calls = df_megaline_calls.set_index('user_id').join(df_megaline_calls[['user_id', 'plan']].set_index('user_id'))\n",
    "# Resetea el índice\n",
    "df_megaline_calls = df_megaline_calls.reset_index()"
   ]
  },
  {
   "cell_type": "markdown",
   "metadata": {
    "id": "KrMgTrlG0q0_"
   },
   "source": [
    "### Enriquecer los datos"
   ]
  },
  {
   "cell_type": "markdown",
   "metadata": {
    "id": "a9MbmEvE0q0_"
   },
   "source": [
    "[Agrega factores adicionales a los datos si crees que pudieran ser útiles.]"
   ]
  },
  {
   "cell_type": "code",
   "execution_count": null,
   "metadata": {
    "id": "iZ1avpA_0q0_",
    "trusted": false
   },
   "outputs": [
    {
     "name": "stdout",
     "output_type": "stream",
     "text": [
      "         id  user_id  call_date  duration  month\n",
      "0   1000_93     1000 2018-12-27      8.52     12\n",
      "1  1000_145     1000 2018-12-27     13.66     12\n",
      "2  1000_247     1000 2018-12-27     14.48     12\n",
      "3  1000_309     1000 2018-12-28      5.76     12\n",
      "4  1000_380     1000 2018-12-30      4.22     12\n"
     ]
    }
   ],
   "source": [
    "#se agregan los datos de month\n",
    "df_megaline_calls[\"call_date\"] = pd.to_datetime(df_megaline_calls[\"call_date\"])\n",
    "\n",
    "# Extraer el mes y añadirlo como una nueva columna\n",
    "df_megaline_calls[\"month\"] = df_megaline_calls[\"call_date\"].dt.month\n",
    "\n",
    "# Mostrar las primeras filas para verificar\n",
    "print(df_megaline_calls.head())"
   ]
  },
  {
   "cell_type": "code",
   "execution_count": null,
   "metadata": {
    "trusted": false
   },
   "outputs": [
    {
     "name": "stdout",
     "output_type": "stream",
     "text": [
      "count    137735.000000\n",
      "mean          6.745927\n",
      "std           5.839241\n",
      "min           0.000000\n",
      "25%           1.290000\n",
      "50%           5.980000\n",
      "75%          10.690000\n",
      "max          37.600000\n",
      "Name: duration, dtype: float64\n"
     ]
    }
   ],
   "source": [
    "# Revisar la distribución de la columna 'duration'\n",
    "print(df_megaline_calls['duration'].describe())"
   ]
  },
  {
   "cell_type": "markdown",
   "metadata": {
    "id": "mOUZSi180q0_"
   },
   "source": [
    "## Mensajes"
   ]
  },
  {
   "cell_type": "code",
   "execution_count": null,
   "metadata": {
    "id": "R-bYJpdV0q1A",
    "trusted": false
   },
   "outputs": [
    {
     "name": "stdout",
     "output_type": "stream",
     "text": [
      "<class 'pandas.core.frame.DataFrame'>\n",
      "RangeIndex: 76051 entries, 0 to 76050\n",
      "Data columns (total 3 columns):\n",
      " #   Column        Non-Null Count  Dtype \n",
      "---  ------        --------------  ----- \n",
      " 0   id            76051 non-null  object\n",
      " 1   user_id       76051 non-null  int64 \n",
      " 2   message_date  76051 non-null  object\n",
      "dtypes: int64(1), object(2)\n",
      "memory usage: 1.7+ MB\n",
      "None\n"
     ]
    }
   ],
   "source": [
    "# Imprime la información general/resumida sobre el DataFrame de los mensajes\n",
    "\n",
    "df_megaline_messages = pd.read_csv(\"/datasets/megaline_messages.csv\")\n",
    "print(df_megaline_messages.info())"
   ]
  },
  {
   "cell_type": "code",
   "execution_count": null,
   "metadata": {
    "id": "mCEl2iGE0q1A",
    "trusted": false
   },
   "outputs": [
    {
     "data": {
      "text/html": [
       "<div>\n",
       "<style scoped>\n",
       "    .dataframe tbody tr th:only-of-type {\n",
       "        vertical-align: middle;\n",
       "    }\n",
       "\n",
       "    .dataframe tbody tr th {\n",
       "        vertical-align: top;\n",
       "    }\n",
       "\n",
       "    .dataframe thead th {\n",
       "        text-align: right;\n",
       "    }\n",
       "</style>\n",
       "<table border=\"1\" class=\"dataframe\">\n",
       "  <thead>\n",
       "    <tr style=\"text-align: right;\">\n",
       "      <th></th>\n",
       "      <th>id</th>\n",
       "      <th>user_id</th>\n",
       "      <th>message_date</th>\n",
       "    </tr>\n",
       "  </thead>\n",
       "  <tbody>\n",
       "    <tr>\n",
       "      <th>0</th>\n",
       "      <td>1000_125</td>\n",
       "      <td>1000</td>\n",
       "      <td>2018-12-27</td>\n",
       "    </tr>\n",
       "    <tr>\n",
       "      <th>1</th>\n",
       "      <td>1000_160</td>\n",
       "      <td>1000</td>\n",
       "      <td>2018-12-31</td>\n",
       "    </tr>\n",
       "    <tr>\n",
       "      <th>2</th>\n",
       "      <td>1000_223</td>\n",
       "      <td>1000</td>\n",
       "      <td>2018-12-31</td>\n",
       "    </tr>\n",
       "    <tr>\n",
       "      <th>3</th>\n",
       "      <td>1000_251</td>\n",
       "      <td>1000</td>\n",
       "      <td>2018-12-27</td>\n",
       "    </tr>\n",
       "    <tr>\n",
       "      <th>4</th>\n",
       "      <td>1000_255</td>\n",
       "      <td>1000</td>\n",
       "      <td>2018-12-26</td>\n",
       "    </tr>\n",
       "    <tr>\n",
       "      <th>...</th>\n",
       "      <td>...</td>\n",
       "      <td>...</td>\n",
       "      <td>...</td>\n",
       "    </tr>\n",
       "    <tr>\n",
       "      <th>76046</th>\n",
       "      <td>1497_526</td>\n",
       "      <td>1497</td>\n",
       "      <td>2018-12-24</td>\n",
       "    </tr>\n",
       "    <tr>\n",
       "      <th>76047</th>\n",
       "      <td>1497_536</td>\n",
       "      <td>1497</td>\n",
       "      <td>2018-12-24</td>\n",
       "    </tr>\n",
       "    <tr>\n",
       "      <th>76048</th>\n",
       "      <td>1497_547</td>\n",
       "      <td>1497</td>\n",
       "      <td>2018-12-31</td>\n",
       "    </tr>\n",
       "    <tr>\n",
       "      <th>76049</th>\n",
       "      <td>1497_558</td>\n",
       "      <td>1497</td>\n",
       "      <td>2018-12-24</td>\n",
       "    </tr>\n",
       "    <tr>\n",
       "      <th>76050</th>\n",
       "      <td>1497_613</td>\n",
       "      <td>1497</td>\n",
       "      <td>2018-12-23</td>\n",
       "    </tr>\n",
       "  </tbody>\n",
       "</table>\n",
       "<p>76051 rows × 3 columns</p>\n",
       "</div>"
      ],
      "text/plain": [
       "             id  user_id message_date\n",
       "0      1000_125     1000   2018-12-27\n",
       "1      1000_160     1000   2018-12-31\n",
       "2      1000_223     1000   2018-12-31\n",
       "3      1000_251     1000   2018-12-27\n",
       "4      1000_255     1000   2018-12-26\n",
       "...         ...      ...          ...\n",
       "76046  1497_526     1497   2018-12-24\n",
       "76047  1497_536     1497   2018-12-24\n",
       "76048  1497_547     1497   2018-12-31\n",
       "76049  1497_558     1497   2018-12-24\n",
       "76050  1497_613     1497   2018-12-23\n",
       "\n",
       "[76051 rows x 3 columns]"
      ]
     },
     "execution_count": 20,
     "metadata": {},
     "output_type": "execute_result"
    }
   ],
   "source": [
    "# Imprime una muestra de datos para los mensajes\n",
    "\n",
    "df_megaline_messages"
   ]
  },
  {
   "cell_type": "markdown",
   "metadata": {
    "id": "Sprfak900q1B"
   },
   "source": [
    "### Corregir los datos"
   ]
  },
  {
   "cell_type": "markdown",
   "metadata": {
    "id": "eGw7d9j10q1B"
   },
   "source": [
    "[Corrige los problemas obvios con los datos basándote en las observaciones iniciales.]"
   ]
  },
  {
   "cell_type": "code",
   "execution_count": null,
   "metadata": {
    "id": "vsllvkoa0q1B",
    "trusted": false
   },
   "outputs": [
    {
     "name": "stdout",
     "output_type": "stream",
     "text": [
      "['user id', 'message date']\n"
     ]
    }
   ],
   "source": [
    "columns = [\n",
    "    \"user_id\",\n",
    "    \"message_date\"   \n",
    "]\n",
    "\n",
    "\n",
    "columns = [col.replace(\"_\", \" \") for col in columns]\n",
    "\n",
    "print(columns)"
   ]
  },
  {
   "cell_type": "code",
   "execution_count": null,
   "metadata": {
    "trusted": false
   },
   "outputs": [],
   "source": [
    "# Cambiar la columna 'message_date' a tipo 'datetime'\n",
    "df_megaline_messages['message_date'] = pd.to_datetime(df_megaline_messages['message_date'], format='%Y-%m-%d')"
   ]
  },
  {
   "cell_type": "markdown",
   "metadata": {
    "id": "HvLid7iD0q1B"
   },
   "source": [
    "### Enriquecer los datos"
   ]
  },
  {
   "cell_type": "code",
   "execution_count": null,
   "metadata": {
    "id": "zYEXZac10q1C",
    "trusted": false
   },
   "outputs": [
    {
     "name": "stdout",
     "output_type": "stream",
     "text": [
      "         id  user_id message_date  month\n",
      "0  1000_125     1000   2018-12-27     12\n",
      "1  1000_160     1000   2018-12-31     12\n",
      "2  1000_223     1000   2018-12-31     12\n",
      "3  1000_251     1000   2018-12-27     12\n",
      "4  1000_255     1000   2018-12-26     12\n"
     ]
    }
   ],
   "source": [
    "df_megaline_messages[\"message_date\"] = pd.to_datetime(df_megaline_messages[\"message_date\"])\n",
    "\n",
    "# Extraer el mes y añadirlo como una nueva columna\n",
    "df_megaline_messages[\"month\"] = df_megaline_messages[\"message_date\"].dt.month\n",
    "\n",
    "# Mostrar las primeras filas para verificar\n",
    "print(df_megaline_messages.head())"
   ]
  },
  {
   "cell_type": "markdown",
   "metadata": {
    "id": "bStkaxn40q1C"
   },
   "source": [
    "## Internet"
   ]
  },
  {
   "cell_type": "code",
   "execution_count": null,
   "metadata": {
    "id": "e-Uz5qyn0q1C",
    "trusted": false
   },
   "outputs": [
    {
     "name": "stdout",
     "output_type": "stream",
     "text": [
      "\n",
      "Información de df_megaline_internet:\n",
      "<class 'pandas.core.frame.DataFrame'>\n",
      "RangeIndex: 104825 entries, 0 to 104824\n",
      "Data columns (total 4 columns):\n",
      " #   Column        Non-Null Count   Dtype  \n",
      "---  ------        --------------   -----  \n",
      " 0   id            104825 non-null  object \n",
      " 1   user_id       104825 non-null  int64  \n",
      " 2   session_date  104825 non-null  object \n",
      " 3   mb_used       104825 non-null  float64\n",
      "dtypes: float64(1), int64(1), object(2)\n",
      "memory usage: 3.2+ MB\n",
      "None\n"
     ]
    }
   ],
   "source": [
    "# Imprime la información general/resumida sobre el DataFrame de internet\n",
    "\n",
    "print(\"\\nInformación de df_megaline_internet:\")\n",
    "print(df_megaline_internet.info())\n"
   ]
  },
  {
   "cell_type": "code",
   "execution_count": null,
   "metadata": {
    "id": "9r3x_XLw0q1C",
    "trusted": false
   },
   "outputs": [
    {
     "data": {
      "text/html": [
       "<div>\n",
       "<style scoped>\n",
       "    .dataframe tbody tr th:only-of-type {\n",
       "        vertical-align: middle;\n",
       "    }\n",
       "\n",
       "    .dataframe tbody tr th {\n",
       "        vertical-align: top;\n",
       "    }\n",
       "\n",
       "    .dataframe thead th {\n",
       "        text-align: right;\n",
       "    }\n",
       "</style>\n",
       "<table border=\"1\" class=\"dataframe\">\n",
       "  <thead>\n",
       "    <tr style=\"text-align: right;\">\n",
       "      <th></th>\n",
       "      <th>id</th>\n",
       "      <th>user_id</th>\n",
       "      <th>session_date</th>\n",
       "      <th>mb_used</th>\n",
       "    </tr>\n",
       "  </thead>\n",
       "  <tbody>\n",
       "    <tr>\n",
       "      <th>0</th>\n",
       "      <td>1000_13</td>\n",
       "      <td>1000</td>\n",
       "      <td>2018-12-29</td>\n",
       "      <td>89.86</td>\n",
       "    </tr>\n",
       "    <tr>\n",
       "      <th>1</th>\n",
       "      <td>1000_204</td>\n",
       "      <td>1000</td>\n",
       "      <td>2018-12-31</td>\n",
       "      <td>0.00</td>\n",
       "    </tr>\n",
       "    <tr>\n",
       "      <th>2</th>\n",
       "      <td>1000_379</td>\n",
       "      <td>1000</td>\n",
       "      <td>2018-12-28</td>\n",
       "      <td>660.40</td>\n",
       "    </tr>\n",
       "    <tr>\n",
       "      <th>3</th>\n",
       "      <td>1000_413</td>\n",
       "      <td>1000</td>\n",
       "      <td>2018-12-26</td>\n",
       "      <td>270.99</td>\n",
       "    </tr>\n",
       "    <tr>\n",
       "      <th>4</th>\n",
       "      <td>1000_442</td>\n",
       "      <td>1000</td>\n",
       "      <td>2018-12-27</td>\n",
       "      <td>880.22</td>\n",
       "    </tr>\n",
       "    <tr>\n",
       "      <th>...</th>\n",
       "      <td>...</td>\n",
       "      <td>...</td>\n",
       "      <td>...</td>\n",
       "      <td>...</td>\n",
       "    </tr>\n",
       "    <tr>\n",
       "      <th>104820</th>\n",
       "      <td>1499_215</td>\n",
       "      <td>1499</td>\n",
       "      <td>2018-10-20</td>\n",
       "      <td>218.06</td>\n",
       "    </tr>\n",
       "    <tr>\n",
       "      <th>104821</th>\n",
       "      <td>1499_216</td>\n",
       "      <td>1499</td>\n",
       "      <td>2018-12-30</td>\n",
       "      <td>304.72</td>\n",
       "    </tr>\n",
       "    <tr>\n",
       "      <th>104822</th>\n",
       "      <td>1499_217</td>\n",
       "      <td>1499</td>\n",
       "      <td>2018-09-22</td>\n",
       "      <td>292.75</td>\n",
       "    </tr>\n",
       "    <tr>\n",
       "      <th>104823</th>\n",
       "      <td>1499_218</td>\n",
       "      <td>1499</td>\n",
       "      <td>2018-12-07</td>\n",
       "      <td>0.00</td>\n",
       "    </tr>\n",
       "    <tr>\n",
       "      <th>104824</th>\n",
       "      <td>1499_219</td>\n",
       "      <td>1499</td>\n",
       "      <td>2018-12-24</td>\n",
       "      <td>758.31</td>\n",
       "    </tr>\n",
       "  </tbody>\n",
       "</table>\n",
       "<p>104825 rows × 4 columns</p>\n",
       "</div>"
      ],
      "text/plain": [
       "              id  user_id session_date  mb_used\n",
       "0        1000_13     1000   2018-12-29    89.86\n",
       "1       1000_204     1000   2018-12-31     0.00\n",
       "2       1000_379     1000   2018-12-28   660.40\n",
       "3       1000_413     1000   2018-12-26   270.99\n",
       "4       1000_442     1000   2018-12-27   880.22\n",
       "...          ...      ...          ...      ...\n",
       "104820  1499_215     1499   2018-10-20   218.06\n",
       "104821  1499_216     1499   2018-12-30   304.72\n",
       "104822  1499_217     1499   2018-09-22   292.75\n",
       "104823  1499_218     1499   2018-12-07     0.00\n",
       "104824  1499_219     1499   2018-12-24   758.31\n",
       "\n",
       "[104825 rows x 4 columns]"
      ]
     },
     "execution_count": 24,
     "metadata": {},
     "output_type": "execute_result"
    }
   ],
   "source": [
    "# Imprime una muestra de datos para el tráfico de internet\n",
    "\n",
    "df_megaline_internet"
   ]
  },
  {
   "cell_type": "markdown",
   "metadata": {
    "id": "EzOG5ik30q1D"
   },
   "source": [
    "[Describe lo que ves y observas en la información general y en la muestra de datos impresa para el precio de datos anterior. ¿Hay algún problema (tipos de datos no adecuados, datos ausentes, etc.) que pudieran necesitar investigación y cambios adicionales? ¿Cómo se puede arreglar?]"
   ]
  },
  {
   "cell_type": "markdown",
   "metadata": {
    "id": "yA0tkPFg0q1D"
   },
   "source": [
    "### Corregir los datos"
   ]
  },
  {
   "cell_type": "markdown",
   "metadata": {
    "id": "zlZMuIEK0q1D"
   },
   "source": [
    "[Corrige los problemas obvios con los datos basándote en las observaciones iniciales.]"
   ]
  },
  {
   "cell_type": "code",
   "execution_count": null,
   "metadata": {
    "id": "zVeanzdd0q1E",
    "trusted": false
   },
   "outputs": [
    {
     "name": "stdout",
     "output_type": "stream",
     "text": [
      "['user id', 'session date', 'mb used']\n"
     ]
    }
   ],
   "source": [
    "columns = [\n",
    "    \"user_id\",\n",
    "    \"session_date\",\n",
    "    \"mb_used\"\n",
    "]\n",
    "\n",
    "\n",
    "columns = [col.replace(\"_\", \" \") for col in columns]\n",
    "\n",
    "print(columns)"
   ]
  },
  {
   "cell_type": "code",
   "execution_count": null,
   "metadata": {
    "trusted": false
   },
   "outputs": [],
   "source": [
    "# Cambia el tipo de dato de la columna 'session_date' a tipo 'datetime'\n",
    "df_megaline_internet['session_date'] = pd.to_datetime(df_megaline_internet['session_date'], format='%Y-%m-%d')"
   ]
  },
  {
   "cell_type": "markdown",
   "metadata": {
    "id": "e8_mLF4a0q1E"
   },
   "source": [
    "### Enriquecer los datos"
   ]
  },
  {
   "cell_type": "markdown",
   "metadata": {
    "id": "xhNdn2tE0q1E"
   },
   "source": [
    "[Agrega factores adicionales a los datos si crees que pudieran ser útiles.]"
   ]
  },
  {
   "cell_type": "code",
   "execution_count": null,
   "metadata": {
    "id": "ESiYPIEK0q1E",
    "trusted": false
   },
   "outputs": [
    {
     "name": "stdout",
     "output_type": "stream",
     "text": [
      "         id  user_id session_date  mb_used  month\n",
      "0   1000_13     1000   2018-12-29    89.86     12\n",
      "1  1000_204     1000   2018-12-31     0.00     12\n",
      "2  1000_379     1000   2018-12-28   660.40     12\n",
      "3  1000_413     1000   2018-12-26   270.99     12\n",
      "4  1000_442     1000   2018-12-27   880.22     12\n"
     ]
    }
   ],
   "source": [
    "df_megaline_internet[\"session_date\"] = pd.to_datetime(df_megaline_internet[\"session_date\"])\n",
    "\n",
    "# Extraer el mes y añadirlo como una nueva columna\n",
    "df_megaline_internet[\"month\"] = df_megaline_internet[\"session_date\"].dt.month\n",
    "\n",
    "# Mostrar las primeras filas para verificar\n",
    "print(df_megaline_internet.head())"
   ]
  },
  {
   "cell_type": "markdown",
   "metadata": {
    "id": "3UA2cqIW0q1E"
   },
   "source": [
    "## Estudiar las condiciones de las tarifas"
   ]
  },
  {
   "cell_type": "markdown",
   "metadata": {
    "id": "T86Sqltq0q1F"
   },
   "source": [
    "[Es sumamente importante entender cómo funcionan las tarifas, cómo se les cobra a los usuarios en función de su plan de suscripción. Así que te sugerimos imprimir la información de la tarifa para ver una vez más sus condiciones.]"
   ]
  },
  {
   "cell_type": "code",
   "execution_count": null,
   "metadata": {
    "id": "i409op8p0q1F",
    "scrolled": true,
    "trusted": false
   },
   "outputs": [
    {
     "data": {
      "text/html": [
       "<div>\n",
       "<style scoped>\n",
       "    .dataframe tbody tr th:only-of-type {\n",
       "        vertical-align: middle;\n",
       "    }\n",
       "\n",
       "    .dataframe tbody tr th {\n",
       "        vertical-align: top;\n",
       "    }\n",
       "\n",
       "    .dataframe thead th {\n",
       "        text-align: right;\n",
       "    }\n",
       "</style>\n",
       "<table border=\"1\" class=\"dataframe\">\n",
       "  <thead>\n",
       "    <tr style=\"text-align: right;\">\n",
       "      <th></th>\n",
       "      <th>plan_name</th>\n",
       "      <th>usd_monthly_pay</th>\n",
       "    </tr>\n",
       "  </thead>\n",
       "  <tbody>\n",
       "    <tr>\n",
       "      <th>0</th>\n",
       "      <td>surf</td>\n",
       "      <td>20</td>\n",
       "    </tr>\n",
       "    <tr>\n",
       "      <th>1</th>\n",
       "      <td>ultimate</td>\n",
       "      <td>70</td>\n",
       "    </tr>\n",
       "  </tbody>\n",
       "</table>\n",
       "</div>"
      ],
      "text/plain": [
       "  plan_name  usd_monthly_pay\n",
       "0      surf               20\n",
       "1  ultimate               70"
      ]
     },
     "execution_count": 27,
     "metadata": {},
     "output_type": "execute_result"
    }
   ],
   "source": [
    "# Imprime las condiciones de la tarifa y asegúrate de que te quedan claras\n",
    "\n",
    "df_megaline_plans[[\"plan_name\",\"usd_monthly_pay\"]]"
   ]
  },
  {
   "cell_type": "code",
   "execution_count": null,
   "metadata": {
    "trusted": false
   },
   "outputs": [
    {
     "data": {
      "text/html": [
       "<div>\n",
       "<style scoped>\n",
       "    .dataframe tbody tr th:only-of-type {\n",
       "        vertical-align: middle;\n",
       "    }\n",
       "\n",
       "    .dataframe tbody tr th {\n",
       "        vertical-align: top;\n",
       "    }\n",
       "\n",
       "    .dataframe thead th {\n",
       "        text-align: right;\n",
       "    }\n",
       "</style>\n",
       "<table border=\"1\" class=\"dataframe\">\n",
       "  <thead>\n",
       "    <tr style=\"text-align: right;\">\n",
       "      <th></th>\n",
       "      <th>id</th>\n",
       "      <th>user_id</th>\n",
       "      <th>call_date</th>\n",
       "      <th>duration</th>\n",
       "      <th>month</th>\n",
       "    </tr>\n",
       "  </thead>\n",
       "  <tbody>\n",
       "    <tr>\n",
       "      <th>0</th>\n",
       "      <td>1000_93</td>\n",
       "      <td>1000</td>\n",
       "      <td>2018-12-27</td>\n",
       "      <td>8.52</td>\n",
       "      <td>12</td>\n",
       "    </tr>\n",
       "    <tr>\n",
       "      <th>1</th>\n",
       "      <td>1000_145</td>\n",
       "      <td>1000</td>\n",
       "      <td>2018-12-27</td>\n",
       "      <td>13.66</td>\n",
       "      <td>12</td>\n",
       "    </tr>\n",
       "    <tr>\n",
       "      <th>2</th>\n",
       "      <td>1000_247</td>\n",
       "      <td>1000</td>\n",
       "      <td>2018-12-27</td>\n",
       "      <td>14.48</td>\n",
       "      <td>12</td>\n",
       "    </tr>\n",
       "    <tr>\n",
       "      <th>3</th>\n",
       "      <td>1000_309</td>\n",
       "      <td>1000</td>\n",
       "      <td>2018-12-28</td>\n",
       "      <td>5.76</td>\n",
       "      <td>12</td>\n",
       "    </tr>\n",
       "    <tr>\n",
       "      <th>4</th>\n",
       "      <td>1000_380</td>\n",
       "      <td>1000</td>\n",
       "      <td>2018-12-30</td>\n",
       "      <td>4.22</td>\n",
       "      <td>12</td>\n",
       "    </tr>\n",
       "    <tr>\n",
       "      <th>...</th>\n",
       "      <td>...</td>\n",
       "      <td>...</td>\n",
       "      <td>...</td>\n",
       "      <td>...</td>\n",
       "      <td>...</td>\n",
       "    </tr>\n",
       "    <tr>\n",
       "      <th>137730</th>\n",
       "      <td>1499_199</td>\n",
       "      <td>1499</td>\n",
       "      <td>2018-11-21</td>\n",
       "      <td>8.72</td>\n",
       "      <td>11</td>\n",
       "    </tr>\n",
       "    <tr>\n",
       "      <th>137731</th>\n",
       "      <td>1499_200</td>\n",
       "      <td>1499</td>\n",
       "      <td>2018-10-20</td>\n",
       "      <td>10.89</td>\n",
       "      <td>10</td>\n",
       "    </tr>\n",
       "    <tr>\n",
       "      <th>137732</th>\n",
       "      <td>1499_201</td>\n",
       "      <td>1499</td>\n",
       "      <td>2018-09-21</td>\n",
       "      <td>8.12</td>\n",
       "      <td>9</td>\n",
       "    </tr>\n",
       "    <tr>\n",
       "      <th>137733</th>\n",
       "      <td>1499_202</td>\n",
       "      <td>1499</td>\n",
       "      <td>2018-10-10</td>\n",
       "      <td>0.37</td>\n",
       "      <td>10</td>\n",
       "    </tr>\n",
       "    <tr>\n",
       "      <th>137734</th>\n",
       "      <td>1499_203</td>\n",
       "      <td>1499</td>\n",
       "      <td>2018-12-29</td>\n",
       "      <td>13.86</td>\n",
       "      <td>12</td>\n",
       "    </tr>\n",
       "  </tbody>\n",
       "</table>\n",
       "<p>137735 rows × 5 columns</p>\n",
       "</div>"
      ],
      "text/plain": [
       "              id  user_id  call_date  duration  month\n",
       "0        1000_93     1000 2018-12-27      8.52     12\n",
       "1       1000_145     1000 2018-12-27     13.66     12\n",
       "2       1000_247     1000 2018-12-27     14.48     12\n",
       "3       1000_309     1000 2018-12-28      5.76     12\n",
       "4       1000_380     1000 2018-12-30      4.22     12\n",
       "...          ...      ...        ...       ...    ...\n",
       "137730  1499_199     1499 2018-11-21      8.72     11\n",
       "137731  1499_200     1499 2018-10-20     10.89     10\n",
       "137732  1499_201     1499 2018-09-21      8.12      9\n",
       "137733  1499_202     1499 2018-10-10      0.37     10\n",
       "137734  1499_203     1499 2018-12-29     13.86     12\n",
       "\n",
       "[137735 rows x 5 columns]"
      ]
     },
     "execution_count": 28,
     "metadata": {},
     "output_type": "execute_result"
    }
   ],
   "source": [
    "df_megaline_calls"
   ]
  },
  {
   "cell_type": "markdown",
   "metadata": {
    "id": "hMR1tP5d0q1F"
   },
   "source": [
    "## Agregar datos por usuario\n",
    "\n",
    "[Ahora que los datos están limpios, agrega los datos por usuario y por periodo para que solo haya un registro por usuario y por periodo. Esto facilitará mucho el análisis posterior.]"
   ]
  },
  {
   "cell_type": "code",
   "execution_count": null,
   "metadata": {
    "id": "A332cedB0q1G",
    "scrolled": true,
    "trusted": false
   },
   "outputs": [
    {
     "name": "stdout",
     "output_type": "stream",
     "text": [
      "user_id\n",
      "1000     16\n",
      "1001    261\n",
      "1002    113\n",
      "1003    149\n",
      "1004    370\n",
      "       ... \n",
      "1495    253\n",
      "1496    195\n",
      "1497     54\n",
      "1498    451\n",
      "1499    204\n",
      "Name: call_date, Length: 481, dtype: int64\n"
     ]
    }
   ],
   "source": [
    "# Calcula el número de llamadas hechas por cada usuario al mes. Guarda el resultado.\n",
    "\n",
    "number_calls = df_megaline_calls.groupby('user_id')[\"call_date\"].count()\n",
    "print(number_calls)\n",
    "#se puede ver el número de llamadas hechas por cada usuario agrupando en un filtrado del dataframe por nombre de usuario y con la suma de numero de veces de llamadas por duracion"
   ]
  },
  {
   "cell_type": "code",
   "execution_count": null,
   "metadata": {
    "id": "aw2cmuql0q1G",
    "scrolled": true,
    "trusted": false
   },
   "outputs": [
    {
     "name": "stdout",
     "output_type": "stream",
     "text": [
      "user_id\n",
      "1000     116.83\n",
      "1001    1640.46\n",
      "1002     777.13\n",
      "1003    1041.00\n",
      "1004    2618.95\n",
      "         ...   \n",
      "1495    1666.41\n",
      "1496    1376.21\n",
      "1497     276.53\n",
      "1498    3029.97\n",
      "1499    1450.31\n",
      "Name: duration, Length: 481, dtype: float64\n"
     ]
    }
   ],
   "source": [
    "# Calcula la cantidad de minutos usados por cada usuario al mes. Guarda el resultado.\n",
    "\n",
    "minutes_calls = df_megaline_calls.groupby('user_id')[\"duration\"].sum()\n",
    "print(minutes_calls)"
   ]
  },
  {
   "cell_type": "code",
   "execution_count": null,
   "metadata": {
    "id": "CcQvNHn60q1G",
    "scrolled": true,
    "trusted": false
   },
   "outputs": [
    {
     "name": "stdout",
     "output_type": "stream",
     "text": [
      "user_id\n",
      "1000     11\n",
      "1001    207\n",
      "1002     88\n",
      "1003     50\n",
      "1004    177\n",
      "       ... \n",
      "1491    409\n",
      "1492    108\n",
      "1494    174\n",
      "1496     65\n",
      "1497     50\n",
      "Name: message_date, Length: 402, dtype: int64\n"
     ]
    }
   ],
   "source": [
    "# Calcula el número de mensajes enviados por cada usuario al mes. Guarda el resultado.\n",
    "\n",
    "messages_calls = df_megaline_messages.groupby('user_id')[\"message_date\"].count()\n",
    "print(messages_calls)"
   ]
  },
  {
   "cell_type": "code",
   "execution_count": null,
   "metadata": {
    "id": "H1AqN2eG0q1H",
    "trusted": false
   },
   "outputs": [
    {
     "name": "stdout",
     "output_type": "stream",
     "text": [
      "user_id\n",
      "1000      5\n",
      "1001    245\n",
      "1002    124\n",
      "1003     52\n",
      "1004    460\n",
      "       ... \n",
      "1495    290\n",
      "1496    225\n",
      "1497     31\n",
      "1498    657\n",
      "1499    220\n",
      "Name: mb_used, Length: 489, dtype: int64\n"
     ]
    }
   ],
   "source": [
    "# Calcula el volumen del tráfico de Internet usado por cada usuario al mes. Guarda el resultado.\n",
    "\n",
    "trafic_internet = df_megaline_internet.groupby('user_id')['mb_used'].count()\n",
    "print(trafic_internet)"
   ]
  },
  {
   "cell_type": "markdown",
   "metadata": {
    "id": "VDfYXnj80q1H"
   },
   "source": [
    "[Junta los datos agregados en un DataFrame para que haya un registro que represente lo que consumió un usuario único en un mes determinado.]"
   ]
  },
  {
   "cell_type": "code",
   "execution_count": null,
   "metadata": {
    "trusted": false
   },
   "outputs": [
    {
     "data": {
      "text/html": [
       "<div>\n",
       "<style scoped>\n",
       "    .dataframe tbody tr th:only-of-type {\n",
       "        vertical-align: middle;\n",
       "    }\n",
       "\n",
       "    .dataframe tbody tr th {\n",
       "        vertical-align: top;\n",
       "    }\n",
       "\n",
       "    .dataframe thead th {\n",
       "        text-align: right;\n",
       "    }\n",
       "</style>\n",
       "<table border=\"1\" class=\"dataframe\">\n",
       "  <thead>\n",
       "    <tr style=\"text-align: right;\">\n",
       "      <th></th>\n",
       "      <th>month</th>\n",
       "      <th>user_id</th>\n",
       "    </tr>\n",
       "  </thead>\n",
       "  <tbody>\n",
       "    <tr>\n",
       "      <th>0</th>\n",
       "      <td>12</td>\n",
       "      <td>1000</td>\n",
       "    </tr>\n",
       "    <tr>\n",
       "      <th>1</th>\n",
       "      <td>8</td>\n",
       "      <td>1001</td>\n",
       "    </tr>\n",
       "    <tr>\n",
       "      <th>2</th>\n",
       "      <td>10</td>\n",
       "      <td>1002</td>\n",
       "    </tr>\n",
       "    <tr>\n",
       "      <th>3</th>\n",
       "      <td>1</td>\n",
       "      <td>1003</td>\n",
       "    </tr>\n",
       "    <tr>\n",
       "      <th>4</th>\n",
       "      <td>5</td>\n",
       "      <td>1004</td>\n",
       "    </tr>\n",
       "    <tr>\n",
       "      <th>...</th>\n",
       "      <td>...</td>\n",
       "      <td>...</td>\n",
       "    </tr>\n",
       "    <tr>\n",
       "      <th>495</th>\n",
       "      <td>9</td>\n",
       "      <td>1495</td>\n",
       "    </tr>\n",
       "    <tr>\n",
       "      <th>496</th>\n",
       "      <td>2</td>\n",
       "      <td>1496</td>\n",
       "    </tr>\n",
       "    <tr>\n",
       "      <th>497</th>\n",
       "      <td>12</td>\n",
       "      <td>1497</td>\n",
       "    </tr>\n",
       "    <tr>\n",
       "      <th>498</th>\n",
       "      <td>2</td>\n",
       "      <td>1498</td>\n",
       "    </tr>\n",
       "    <tr>\n",
       "      <th>499</th>\n",
       "      <td>5</td>\n",
       "      <td>1499</td>\n",
       "    </tr>\n",
       "  </tbody>\n",
       "</table>\n",
       "<p>500 rows × 2 columns</p>\n",
       "</div>"
      ],
      "text/plain": [
       "     month  user_id\n",
       "0       12     1000\n",
       "1        8     1001\n",
       "2       10     1002\n",
       "3        1     1003\n",
       "4        5     1004\n",
       "..     ...      ...\n",
       "495      9     1495\n",
       "496      2     1496\n",
       "497     12     1497\n",
       "498      2     1498\n",
       "499      5     1499\n",
       "\n",
       "[500 rows x 2 columns]"
      ]
     },
     "execution_count": 33,
     "metadata": {},
     "output_type": "execute_result"
    }
   ],
   "source": [
    "df_megaline_users[set(df_megaline_calls.columns) & set(df_megaline_users.columns)]"
   ]
  },
  {
   "cell_type": "code",
   "execution_count": null,
   "metadata": {
    "trusted": false
   },
   "outputs": [
    {
     "name": "stdout",
     "output_type": "stream",
     "text": [
      "              first_name   last_name  age  \\\n",
      "user_id month                               \n",
      "1000    12      Anamaria       Bauer   45   \n",
      "1001    8         Mickey   Wilkerson   28   \n",
      "1002    10        Carlee     Hoffman   36   \n",
      "1003    1       Reynaldo     Jenkins   52   \n",
      "1004    5        Leonila    Thompson   40   \n",
      "...                  ...         ...  ...   \n",
      "1495    9          Fidel      Sharpe   67   \n",
      "1496    2          Ariel    Shepherd   49   \n",
      "1497    12         Donte     Barrera   49   \n",
      "1498    2           Scot  Williamson   51   \n",
      "1499    5          Shena     Dickson   37   \n",
      "\n",
      "                                                    city   reg_date      plan  \\\n",
      "user_id month                                                                   \n",
      "1000    12         Atlanta-Sandy Springs-Roswell, GA MSA 2018-12-24  ultimate   \n",
      "1001    8                Seattle-Tacoma-Bellevue, WA MSA 2018-08-13      surf   \n",
      "1002    10          Las Vegas-Henderson-Paradise, NV MSA 2018-10-21      surf   \n",
      "1003    1                                  Tulsa, OK MSA 2018-01-28      surf   \n",
      "1004    5                Seattle-Tacoma-Bellevue, WA MSA 2018-05-23      surf   \n",
      "...                                                  ...        ...       ...   \n",
      "1495    9      New York-Newark-Jersey City, NY-NJ-PA MSA 2018-09-04      surf   \n",
      "1496    2                   New Orleans-Metairie, LA MSA 2018-02-20      surf   \n",
      "1497    12        Los Angeles-Long Beach-Anaheim, CA MSA 2018-12-10  ultimate   \n",
      "1498    2      New York-Newark-Jersey City, NY-NJ-PA MSA 2018-02-04      surf   \n",
      "1499    5              Orlando-Kissimmee-Sanford, FL MSA 2018-05-06      surf   \n",
      "\n",
      "              churn_date  total_duration  n_messages  n_internet  \n",
      "user_id month                                                     \n",
      "1000    12           NaN          116.83        11.0         5.0  \n",
      "1001    8            NaN          171.14        30.0        25.0  \n",
      "1002    10           NaN           54.13        15.0        21.0  \n",
      "1003    1            NaN             NaN         NaN         NaN  \n",
      "1004    5            NaN          181.58         7.0        17.0  \n",
      "...                  ...             ...         ...         ...  \n",
      "1495    9            NaN          283.46         NaN        71.0  \n",
      "1496    2            NaN             NaN         NaN         NaN  \n",
      "1497    12           NaN          276.53        50.0        31.0  \n",
      "1498    2            NaN          231.87         NaN        58.0  \n",
      "1499    5            NaN             NaN         NaN         NaN  \n",
      "\n",
      "[500 rows x 10 columns]\n"
     ]
    }
   ],
   "source": [
    "#fusiona los datos de llamadas, internet y mensajes en \"user_id\" y \"mounth\"\n",
    "df_full = df_megaline_users.set_index([\"user_id\", \"month\"])\\\n",
    "    .join(df_megaline_calls.groupby([\"user_id\", \"month\"])[\"duration\"].sum().rename(\"total_duration\"))\\\n",
    "    .join(df_megaline_messages.groupby([\"user_id\", \"month\"]).size().rename(\"n_messages\"))\\\n",
    "    .join(df_megaline_internet.groupby([\"user_id\", \"month\"]).size().rename(\"n_internet\"))\n",
    "          \n",
    "print(df_full)"
   ]
  },
  {
   "cell_type": "code",
   "execution_count": null,
   "metadata": {
    "trusted": false
   },
   "outputs": [
    {
     "data": {
      "text/html": [
       "<div>\n",
       "<style scoped>\n",
       "    .dataframe tbody tr th:only-of-type {\n",
       "        vertical-align: middle;\n",
       "    }\n",
       "\n",
       "    .dataframe tbody tr th {\n",
       "        vertical-align: top;\n",
       "    }\n",
       "\n",
       "    .dataframe thead th {\n",
       "        text-align: right;\n",
       "    }\n",
       "</style>\n",
       "<table border=\"1\" class=\"dataframe\">\n",
       "  <thead>\n",
       "    <tr style=\"text-align: right;\">\n",
       "      <th></th>\n",
       "      <th></th>\n",
       "      <th>first_name</th>\n",
       "      <th>last_name</th>\n",
       "      <th>age</th>\n",
       "      <th>city</th>\n",
       "      <th>reg_date</th>\n",
       "      <th>plan</th>\n",
       "      <th>churn_date</th>\n",
       "      <th>total_duration</th>\n",
       "      <th>n_messages</th>\n",
       "      <th>n_internet</th>\n",
       "    </tr>\n",
       "    <tr>\n",
       "      <th>user_id</th>\n",
       "      <th>month</th>\n",
       "      <th></th>\n",
       "      <th></th>\n",
       "      <th></th>\n",
       "      <th></th>\n",
       "      <th></th>\n",
       "      <th></th>\n",
       "      <th></th>\n",
       "      <th></th>\n",
       "      <th></th>\n",
       "      <th></th>\n",
       "    </tr>\n",
       "  </thead>\n",
       "  <tbody>\n",
       "    <tr>\n",
       "      <th>1000</th>\n",
       "      <th>12</th>\n",
       "      <td>Anamaria</td>\n",
       "      <td>Bauer</td>\n",
       "      <td>45</td>\n",
       "      <td>Atlanta-Sandy Springs-Roswell, GA MSA</td>\n",
       "      <td>2018-12-24</td>\n",
       "      <td>ultimate</td>\n",
       "      <td>NaN</td>\n",
       "      <td>116.83</td>\n",
       "      <td>11.0</td>\n",
       "      <td>5.0</td>\n",
       "    </tr>\n",
       "    <tr>\n",
       "      <th>1001</th>\n",
       "      <th>8</th>\n",
       "      <td>Mickey</td>\n",
       "      <td>Wilkerson</td>\n",
       "      <td>28</td>\n",
       "      <td>Seattle-Tacoma-Bellevue, WA MSA</td>\n",
       "      <td>2018-08-13</td>\n",
       "      <td>surf</td>\n",
       "      <td>NaN</td>\n",
       "      <td>171.14</td>\n",
       "      <td>30.0</td>\n",
       "      <td>25.0</td>\n",
       "    </tr>\n",
       "    <tr>\n",
       "      <th>1002</th>\n",
       "      <th>10</th>\n",
       "      <td>Carlee</td>\n",
       "      <td>Hoffman</td>\n",
       "      <td>36</td>\n",
       "      <td>Las Vegas-Henderson-Paradise, NV MSA</td>\n",
       "      <td>2018-10-21</td>\n",
       "      <td>surf</td>\n",
       "      <td>NaN</td>\n",
       "      <td>54.13</td>\n",
       "      <td>15.0</td>\n",
       "      <td>21.0</td>\n",
       "    </tr>\n",
       "    <tr>\n",
       "      <th>1003</th>\n",
       "      <th>1</th>\n",
       "      <td>Reynaldo</td>\n",
       "      <td>Jenkins</td>\n",
       "      <td>52</td>\n",
       "      <td>Tulsa, OK MSA</td>\n",
       "      <td>2018-01-28</td>\n",
       "      <td>surf</td>\n",
       "      <td>NaN</td>\n",
       "      <td>NaN</td>\n",
       "      <td>NaN</td>\n",
       "      <td>NaN</td>\n",
       "    </tr>\n",
       "    <tr>\n",
       "      <th>1004</th>\n",
       "      <th>5</th>\n",
       "      <td>Leonila</td>\n",
       "      <td>Thompson</td>\n",
       "      <td>40</td>\n",
       "      <td>Seattle-Tacoma-Bellevue, WA MSA</td>\n",
       "      <td>2018-05-23</td>\n",
       "      <td>surf</td>\n",
       "      <td>NaN</td>\n",
       "      <td>181.58</td>\n",
       "      <td>7.0</td>\n",
       "      <td>17.0</td>\n",
       "    </tr>\n",
       "    <tr>\n",
       "      <th>...</th>\n",
       "      <th>...</th>\n",
       "      <td>...</td>\n",
       "      <td>...</td>\n",
       "      <td>...</td>\n",
       "      <td>...</td>\n",
       "      <td>...</td>\n",
       "      <td>...</td>\n",
       "      <td>...</td>\n",
       "      <td>...</td>\n",
       "      <td>...</td>\n",
       "      <td>...</td>\n",
       "    </tr>\n",
       "    <tr>\n",
       "      <th>1495</th>\n",
       "      <th>9</th>\n",
       "      <td>Fidel</td>\n",
       "      <td>Sharpe</td>\n",
       "      <td>67</td>\n",
       "      <td>New York-Newark-Jersey City, NY-NJ-PA MSA</td>\n",
       "      <td>2018-09-04</td>\n",
       "      <td>surf</td>\n",
       "      <td>NaN</td>\n",
       "      <td>283.46</td>\n",
       "      <td>NaN</td>\n",
       "      <td>71.0</td>\n",
       "    </tr>\n",
       "    <tr>\n",
       "      <th>1496</th>\n",
       "      <th>2</th>\n",
       "      <td>Ariel</td>\n",
       "      <td>Shepherd</td>\n",
       "      <td>49</td>\n",
       "      <td>New Orleans-Metairie, LA MSA</td>\n",
       "      <td>2018-02-20</td>\n",
       "      <td>surf</td>\n",
       "      <td>NaN</td>\n",
       "      <td>NaN</td>\n",
       "      <td>NaN</td>\n",
       "      <td>NaN</td>\n",
       "    </tr>\n",
       "    <tr>\n",
       "      <th>1497</th>\n",
       "      <th>12</th>\n",
       "      <td>Donte</td>\n",
       "      <td>Barrera</td>\n",
       "      <td>49</td>\n",
       "      <td>Los Angeles-Long Beach-Anaheim, CA MSA</td>\n",
       "      <td>2018-12-10</td>\n",
       "      <td>ultimate</td>\n",
       "      <td>NaN</td>\n",
       "      <td>276.53</td>\n",
       "      <td>50.0</td>\n",
       "      <td>31.0</td>\n",
       "    </tr>\n",
       "    <tr>\n",
       "      <th>1498</th>\n",
       "      <th>2</th>\n",
       "      <td>Scot</td>\n",
       "      <td>Williamson</td>\n",
       "      <td>51</td>\n",
       "      <td>New York-Newark-Jersey City, NY-NJ-PA MSA</td>\n",
       "      <td>2018-02-04</td>\n",
       "      <td>surf</td>\n",
       "      <td>NaN</td>\n",
       "      <td>231.87</td>\n",
       "      <td>NaN</td>\n",
       "      <td>58.0</td>\n",
       "    </tr>\n",
       "    <tr>\n",
       "      <th>1499</th>\n",
       "      <th>5</th>\n",
       "      <td>Shena</td>\n",
       "      <td>Dickson</td>\n",
       "      <td>37</td>\n",
       "      <td>Orlando-Kissimmee-Sanford, FL MSA</td>\n",
       "      <td>2018-05-06</td>\n",
       "      <td>surf</td>\n",
       "      <td>NaN</td>\n",
       "      <td>NaN</td>\n",
       "      <td>NaN</td>\n",
       "      <td>NaN</td>\n",
       "    </tr>\n",
       "  </tbody>\n",
       "</table>\n",
       "<p>500 rows × 10 columns</p>\n",
       "</div>"
      ],
      "text/plain": [
       "              first_name   last_name  age  \\\n",
       "user_id month                               \n",
       "1000    12      Anamaria       Bauer   45   \n",
       "1001    8         Mickey   Wilkerson   28   \n",
       "1002    10        Carlee     Hoffman   36   \n",
       "1003    1       Reynaldo     Jenkins   52   \n",
       "1004    5        Leonila    Thompson   40   \n",
       "...                  ...         ...  ...   \n",
       "1495    9          Fidel      Sharpe   67   \n",
       "1496    2          Ariel    Shepherd   49   \n",
       "1497    12         Donte     Barrera   49   \n",
       "1498    2           Scot  Williamson   51   \n",
       "1499    5          Shena     Dickson   37   \n",
       "\n",
       "                                                    city   reg_date      plan  \\\n",
       "user_id month                                                                   \n",
       "1000    12         Atlanta-Sandy Springs-Roswell, GA MSA 2018-12-24  ultimate   \n",
       "1001    8                Seattle-Tacoma-Bellevue, WA MSA 2018-08-13      surf   \n",
       "1002    10          Las Vegas-Henderson-Paradise, NV MSA 2018-10-21      surf   \n",
       "1003    1                                  Tulsa, OK MSA 2018-01-28      surf   \n",
       "1004    5                Seattle-Tacoma-Bellevue, WA MSA 2018-05-23      surf   \n",
       "...                                                  ...        ...       ...   \n",
       "1495    9      New York-Newark-Jersey City, NY-NJ-PA MSA 2018-09-04      surf   \n",
       "1496    2                   New Orleans-Metairie, LA MSA 2018-02-20      surf   \n",
       "1497    12        Los Angeles-Long Beach-Anaheim, CA MSA 2018-12-10  ultimate   \n",
       "1498    2      New York-Newark-Jersey City, NY-NJ-PA MSA 2018-02-04      surf   \n",
       "1499    5              Orlando-Kissimmee-Sanford, FL MSA 2018-05-06      surf   \n",
       "\n",
       "              churn_date  total_duration  n_messages  n_internet  \n",
       "user_id month                                                     \n",
       "1000    12           NaN          116.83        11.0         5.0  \n",
       "1001    8            NaN          171.14        30.0        25.0  \n",
       "1002    10           NaN           54.13        15.0        21.0  \n",
       "1003    1            NaN             NaN         NaN         NaN  \n",
       "1004    5            NaN          181.58         7.0        17.0  \n",
       "...                  ...             ...         ...         ...  \n",
       "1495    9            NaN          283.46         NaN        71.0  \n",
       "1496    2            NaN             NaN         NaN         NaN  \n",
       "1497    12           NaN          276.53        50.0        31.0  \n",
       "1498    2            NaN          231.87         NaN        58.0  \n",
       "1499    5            NaN             NaN         NaN         NaN  \n",
       "\n",
       "[500 rows x 10 columns]"
      ]
     },
     "execution_count": 35,
     "metadata": {},
     "output_type": "execute_result"
    }
   ],
   "source": [
    "df_full"
   ]
  },
  {
   "cell_type": "code",
   "execution_count": null,
   "metadata": {
    "trusted": false
   },
   "outputs": [
    {
     "data": {
      "text/html": [
       "<div>\n",
       "<style scoped>\n",
       "    .dataframe tbody tr th:only-of-type {\n",
       "        vertical-align: middle;\n",
       "    }\n",
       "\n",
       "    .dataframe tbody tr th {\n",
       "        vertical-align: top;\n",
       "    }\n",
       "\n",
       "    .dataframe thead th {\n",
       "        text-align: right;\n",
       "    }\n",
       "</style>\n",
       "<table border=\"1\" class=\"dataframe\">\n",
       "  <thead>\n",
       "    <tr style=\"text-align: right;\">\n",
       "      <th></th>\n",
       "      <th>plan_name</th>\n",
       "      <th>messages_included</th>\n",
       "      <th>mb_per_month_included</th>\n",
       "      <th>minutes_included</th>\n",
       "      <th>usd_monthly_pay</th>\n",
       "      <th>usd_per_gb</th>\n",
       "      <th>usd_per_message</th>\n",
       "      <th>usd_per_minute</th>\n",
       "    </tr>\n",
       "  </thead>\n",
       "  <tbody>\n",
       "    <tr>\n",
       "      <th>0</th>\n",
       "      <td>surf</td>\n",
       "      <td>50</td>\n",
       "      <td>15360</td>\n",
       "      <td>500</td>\n",
       "      <td>20</td>\n",
       "      <td>10</td>\n",
       "      <td>0.03</td>\n",
       "      <td>0.03</td>\n",
       "    </tr>\n",
       "    <tr>\n",
       "      <th>1</th>\n",
       "      <td>ultimate</td>\n",
       "      <td>1000</td>\n",
       "      <td>30720</td>\n",
       "      <td>3000</td>\n",
       "      <td>70</td>\n",
       "      <td>7</td>\n",
       "      <td>0.01</td>\n",
       "      <td>0.01</td>\n",
       "    </tr>\n",
       "  </tbody>\n",
       "</table>\n",
       "</div>"
      ],
      "text/plain": [
       "  plan_name  messages_included  mb_per_month_included  minutes_included  \\\n",
       "0      surf                 50                  15360               500   \n",
       "1  ultimate               1000                  30720              3000   \n",
       "\n",
       "   usd_monthly_pay  usd_per_gb  usd_per_message  usd_per_minute  \n",
       "0               20          10             0.03            0.03  \n",
       "1               70           7             0.01            0.01  "
      ]
     },
     "execution_count": 38,
     "metadata": {},
     "output_type": "execute_result"
    }
   ],
   "source": [
    "df_megaline_plans"
   ]
  },
  {
   "cell_type": "code",
   "execution_count": null,
   "metadata": {
    "id": "0dNOXHag0q1H",
    "trusted": false
   },
   "outputs": [
    {
     "ename": "KeyError",
     "evalue": "\"None of [Index(['user_id', 'plan', 'isin_ny_nj'], dtype='object')] are in the [columns]\"",
     "output_type": "error",
     "traceback": [
      "\u001b[0;31m---------------------------------------------------------------------------\u001b[0m",
      "\u001b[0;31mKeyError\u001b[0m                                  Traceback (most recent call last)",
      "Cell \u001b[0;32mIn[41], line 4\u001b[0m\n\u001b[1;32m      1\u001b[0m \u001b[38;5;66;03m# Añade la información de la tarifa\u001b[39;00m\n\u001b[1;32m      2\u001b[0m \n\u001b[1;32m      3\u001b[0m \u001b[38;5;66;03m# Añade la columna del plan que tiene cada usuario y si se encuentra el la zona de New York o New Jersey\u001b[39;00m\n\u001b[0;32m----> 4\u001b[0m total_consume_user_month \u001b[38;5;241m=\u001b[39m df_megaline_plans\u001b[38;5;241m.\u001b[39mjoin(\u001b[43mdf_megaline_plans\u001b[49m\u001b[43m[\u001b[49m\u001b[43m[\u001b[49m\u001b[38;5;124;43m'\u001b[39;49m\u001b[38;5;124;43muser_id\u001b[39;49m\u001b[38;5;124;43m'\u001b[39;49m\u001b[43m,\u001b[49m\u001b[43m \u001b[49m\u001b[38;5;124;43m'\u001b[39;49m\u001b[38;5;124;43mplan\u001b[39;49m\u001b[38;5;124;43m'\u001b[39;49m\u001b[43m,\u001b[49m\u001b[43m \u001b[49m\u001b[38;5;124;43m'\u001b[39;49m\u001b[38;5;124;43misin_ny_nj\u001b[39;49m\u001b[38;5;124;43m'\u001b[39;49m\u001b[43m]\u001b[49m\u001b[43m]\u001b[49m\u001b[38;5;241m.\u001b[39mset_index(\u001b[38;5;124m'\u001b[39m\u001b[38;5;124muser_id\u001b[39m\u001b[38;5;124m'\u001b[39m))\n\u001b[1;32m      5\u001b[0m \u001b[38;5;66;03m# Añade a cada usuario la información del plan que tiene\u001b[39;00m\n\u001b[1;32m      6\u001b[0m total_consume_user_month \u001b[38;5;241m=\u001b[39m total_consume_user_month\u001b[38;5;241m.\u001b[39mjoin(df_megaline_plans\u001b[38;5;241m.\u001b[39mset_index(\u001b[38;5;124m'\u001b[39m\u001b[38;5;124mplan_name\u001b[39m\u001b[38;5;124m'\u001b[39m), on\u001b[38;5;241m=\u001b[39m\u001b[38;5;124m'\u001b[39m\u001b[38;5;124mplan\u001b[39m\u001b[38;5;124m'\u001b[39m)\n",
      "File \u001b[0;32m/opt/conda/envs/python3/lib/python3.9/site-packages/pandas/core/frame.py:3030\u001b[0m, in \u001b[0;36mDataFrame.__getitem__\u001b[0;34m(self, key)\u001b[0m\n\u001b[1;32m   3028\u001b[0m     \u001b[38;5;28;01mif\u001b[39;00m is_iterator(key):\n\u001b[1;32m   3029\u001b[0m         key \u001b[38;5;241m=\u001b[39m \u001b[38;5;28mlist\u001b[39m(key)\n\u001b[0;32m-> 3030\u001b[0m     indexer \u001b[38;5;241m=\u001b[39m \u001b[38;5;28;43mself\u001b[39;49m\u001b[38;5;241;43m.\u001b[39;49m\u001b[43mloc\u001b[49m\u001b[38;5;241;43m.\u001b[39;49m\u001b[43m_get_listlike_indexer\u001b[49m\u001b[43m(\u001b[49m\u001b[43mkey\u001b[49m\u001b[43m,\u001b[49m\u001b[43m \u001b[49m\u001b[43maxis\u001b[49m\u001b[38;5;241;43m=\u001b[39;49m\u001b[38;5;241;43m1\u001b[39;49m\u001b[43m,\u001b[49m\u001b[43m \u001b[49m\u001b[43mraise_missing\u001b[49m\u001b[38;5;241;43m=\u001b[39;49m\u001b[38;5;28;43;01mTrue\u001b[39;49;00m\u001b[43m)\u001b[49m[\u001b[38;5;241m1\u001b[39m]\n\u001b[1;32m   3032\u001b[0m \u001b[38;5;66;03m# take() does not accept boolean indexers\u001b[39;00m\n\u001b[1;32m   3033\u001b[0m \u001b[38;5;28;01mif\u001b[39;00m \u001b[38;5;28mgetattr\u001b[39m(indexer, \u001b[38;5;124m\"\u001b[39m\u001b[38;5;124mdtype\u001b[39m\u001b[38;5;124m\"\u001b[39m, \u001b[38;5;28;01mNone\u001b[39;00m) \u001b[38;5;241m==\u001b[39m \u001b[38;5;28mbool\u001b[39m:\n",
      "File \u001b[0;32m/opt/conda/envs/python3/lib/python3.9/site-packages/pandas/core/indexing.py:1266\u001b[0m, in \u001b[0;36m_LocIndexer._get_listlike_indexer\u001b[0;34m(self, key, axis, raise_missing)\u001b[0m\n\u001b[1;32m   1263\u001b[0m \u001b[38;5;28;01melse\u001b[39;00m:\n\u001b[1;32m   1264\u001b[0m     keyarr, indexer, new_indexer \u001b[38;5;241m=\u001b[39m ax\u001b[38;5;241m.\u001b[39m_reindex_non_unique(keyarr)\n\u001b[0;32m-> 1266\u001b[0m \u001b[38;5;28;43mself\u001b[39;49m\u001b[38;5;241;43m.\u001b[39;49m\u001b[43m_validate_read_indexer\u001b[49m\u001b[43m(\u001b[49m\u001b[43mkeyarr\u001b[49m\u001b[43m,\u001b[49m\u001b[43m \u001b[49m\u001b[43mindexer\u001b[49m\u001b[43m,\u001b[49m\u001b[43m \u001b[49m\u001b[43maxis\u001b[49m\u001b[43m,\u001b[49m\u001b[43m \u001b[49m\u001b[43mraise_missing\u001b[49m\u001b[38;5;241;43m=\u001b[39;49m\u001b[43mraise_missing\u001b[49m\u001b[43m)\u001b[49m\n\u001b[1;32m   1267\u001b[0m \u001b[38;5;28;01mreturn\u001b[39;00m keyarr, indexer\n",
      "File \u001b[0;32m/opt/conda/envs/python3/lib/python3.9/site-packages/pandas/core/indexing.py:1308\u001b[0m, in \u001b[0;36m_LocIndexer._validate_read_indexer\u001b[0;34m(self, key, indexer, axis, raise_missing)\u001b[0m\n\u001b[1;32m   1306\u001b[0m \u001b[38;5;28;01mif\u001b[39;00m missing \u001b[38;5;241m==\u001b[39m \u001b[38;5;28mlen\u001b[39m(indexer):\n\u001b[1;32m   1307\u001b[0m     axis_name \u001b[38;5;241m=\u001b[39m \u001b[38;5;28mself\u001b[39m\u001b[38;5;241m.\u001b[39mobj\u001b[38;5;241m.\u001b[39m_get_axis_name(axis)\n\u001b[0;32m-> 1308\u001b[0m     \u001b[38;5;28;01mraise\u001b[39;00m \u001b[38;5;167;01mKeyError\u001b[39;00m(\u001b[38;5;124mf\u001b[39m\u001b[38;5;124m\"\u001b[39m\u001b[38;5;124mNone of [\u001b[39m\u001b[38;5;132;01m{\u001b[39;00mkey\u001b[38;5;132;01m}\u001b[39;00m\u001b[38;5;124m] are in the [\u001b[39m\u001b[38;5;132;01m{\u001b[39;00maxis_name\u001b[38;5;132;01m}\u001b[39;00m\u001b[38;5;124m]\u001b[39m\u001b[38;5;124m\"\u001b[39m)\n\u001b[1;32m   1310\u001b[0m ax \u001b[38;5;241m=\u001b[39m \u001b[38;5;28mself\u001b[39m\u001b[38;5;241m.\u001b[39mobj\u001b[38;5;241m.\u001b[39m_get_axis(axis)\n\u001b[1;32m   1312\u001b[0m \u001b[38;5;66;03m# We (temporarily) allow for some missing keys with .loc, except in\u001b[39;00m\n\u001b[1;32m   1313\u001b[0m \u001b[38;5;66;03m# some cases (e.g. setting) in which \"raise_missing\" will be False\u001b[39;00m\n",
      "\u001b[0;31mKeyError\u001b[0m: \"None of [Index(['user_id', 'plan', 'isin_ny_nj'], dtype='object')] are in the [columns]\""
     ]
    }
   ],
   "source": [
    "# Añade la información de la tarifa\n",
    "\n",
    "# Añade la columna del plan que tiene cada usuario y si se encuentra el la zona de New York o New Jersey\n",
    "total_consume_user_month = df_megaline_plans.join(df_megaline_plans[['user_id', 'plan', 'isin_ny_nj']].set_index('user_id'))\n",
    "# Añade a cada usuario la información del plan que tiene\n",
    "total_consume_user_month = total_consume_user_month.join(df_megaline_plans.set_index('plan_name'), on='plan')"
   ]
  },
  {
   "cell_type": "code",
   "execution_count": null,
   "metadata": {
    "trusted": false
   },
   "outputs": [
    {
     "data": {
      "text/html": [
       "<div>\n",
       "<style scoped>\n",
       "    .dataframe tbody tr th:only-of-type {\n",
       "        vertical-align: middle;\n",
       "    }\n",
       "\n",
       "    .dataframe tbody tr th {\n",
       "        vertical-align: top;\n",
       "    }\n",
       "\n",
       "    .dataframe thead th {\n",
       "        text-align: right;\n",
       "    }\n",
       "</style>\n",
       "<table border=\"1\" class=\"dataframe\">\n",
       "  <thead>\n",
       "    <tr style=\"text-align: right;\">\n",
       "      <th></th>\n",
       "      <th></th>\n",
       "      <th>first_name</th>\n",
       "      <th>last_name</th>\n",
       "      <th>age</th>\n",
       "      <th>city</th>\n",
       "      <th>reg_date</th>\n",
       "      <th>plan</th>\n",
       "      <th>churn_date</th>\n",
       "      <th>total_duration</th>\n",
       "      <th>n_messages</th>\n",
       "      <th>n_internet</th>\n",
       "    </tr>\n",
       "    <tr>\n",
       "      <th>user_id</th>\n",
       "      <th>month</th>\n",
       "      <th></th>\n",
       "      <th></th>\n",
       "      <th></th>\n",
       "      <th></th>\n",
       "      <th></th>\n",
       "      <th></th>\n",
       "      <th></th>\n",
       "      <th></th>\n",
       "      <th></th>\n",
       "      <th></th>\n",
       "    </tr>\n",
       "  </thead>\n",
       "  <tbody>\n",
       "    <tr>\n",
       "      <th>1000</th>\n",
       "      <th>12</th>\n",
       "      <td>Anamaria</td>\n",
       "      <td>Bauer</td>\n",
       "      <td>45</td>\n",
       "      <td>Atlanta-Sandy Springs-Roswell, GA MSA</td>\n",
       "      <td>2018-12-24</td>\n",
       "      <td>ultimate</td>\n",
       "      <td>NaN</td>\n",
       "      <td>116.83</td>\n",
       "      <td>11.0</td>\n",
       "      <td>5.0</td>\n",
       "    </tr>\n",
       "    <tr>\n",
       "      <th>1001</th>\n",
       "      <th>8</th>\n",
       "      <td>Mickey</td>\n",
       "      <td>Wilkerson</td>\n",
       "      <td>28</td>\n",
       "      <td>Seattle-Tacoma-Bellevue, WA MSA</td>\n",
       "      <td>2018-08-13</td>\n",
       "      <td>surf</td>\n",
       "      <td>NaN</td>\n",
       "      <td>171.14</td>\n",
       "      <td>30.0</td>\n",
       "      <td>25.0</td>\n",
       "    </tr>\n",
       "    <tr>\n",
       "      <th>1002</th>\n",
       "      <th>10</th>\n",
       "      <td>Carlee</td>\n",
       "      <td>Hoffman</td>\n",
       "      <td>36</td>\n",
       "      <td>Las Vegas-Henderson-Paradise, NV MSA</td>\n",
       "      <td>2018-10-21</td>\n",
       "      <td>surf</td>\n",
       "      <td>NaN</td>\n",
       "      <td>54.13</td>\n",
       "      <td>15.0</td>\n",
       "      <td>21.0</td>\n",
       "    </tr>\n",
       "    <tr>\n",
       "      <th>1003</th>\n",
       "      <th>1</th>\n",
       "      <td>Reynaldo</td>\n",
       "      <td>Jenkins</td>\n",
       "      <td>52</td>\n",
       "      <td>Tulsa, OK MSA</td>\n",
       "      <td>2018-01-28</td>\n",
       "      <td>surf</td>\n",
       "      <td>NaN</td>\n",
       "      <td>NaN</td>\n",
       "      <td>NaN</td>\n",
       "      <td>NaN</td>\n",
       "    </tr>\n",
       "    <tr>\n",
       "      <th>1004</th>\n",
       "      <th>5</th>\n",
       "      <td>Leonila</td>\n",
       "      <td>Thompson</td>\n",
       "      <td>40</td>\n",
       "      <td>Seattle-Tacoma-Bellevue, WA MSA</td>\n",
       "      <td>2018-05-23</td>\n",
       "      <td>surf</td>\n",
       "      <td>NaN</td>\n",
       "      <td>181.58</td>\n",
       "      <td>7.0</td>\n",
       "      <td>17.0</td>\n",
       "    </tr>\n",
       "    <tr>\n",
       "      <th>...</th>\n",
       "      <th>...</th>\n",
       "      <td>...</td>\n",
       "      <td>...</td>\n",
       "      <td>...</td>\n",
       "      <td>...</td>\n",
       "      <td>...</td>\n",
       "      <td>...</td>\n",
       "      <td>...</td>\n",
       "      <td>...</td>\n",
       "      <td>...</td>\n",
       "      <td>...</td>\n",
       "    </tr>\n",
       "    <tr>\n",
       "      <th>1495</th>\n",
       "      <th>9</th>\n",
       "      <td>Fidel</td>\n",
       "      <td>Sharpe</td>\n",
       "      <td>67</td>\n",
       "      <td>New York-Newark-Jersey City, NY-NJ-PA MSA</td>\n",
       "      <td>2018-09-04</td>\n",
       "      <td>surf</td>\n",
       "      <td>NaN</td>\n",
       "      <td>283.46</td>\n",
       "      <td>NaN</td>\n",
       "      <td>71.0</td>\n",
       "    </tr>\n",
       "    <tr>\n",
       "      <th>1496</th>\n",
       "      <th>2</th>\n",
       "      <td>Ariel</td>\n",
       "      <td>Shepherd</td>\n",
       "      <td>49</td>\n",
       "      <td>New Orleans-Metairie, LA MSA</td>\n",
       "      <td>2018-02-20</td>\n",
       "      <td>surf</td>\n",
       "      <td>NaN</td>\n",
       "      <td>NaN</td>\n",
       "      <td>NaN</td>\n",
       "      <td>NaN</td>\n",
       "    </tr>\n",
       "    <tr>\n",
       "      <th>1497</th>\n",
       "      <th>12</th>\n",
       "      <td>Donte</td>\n",
       "      <td>Barrera</td>\n",
       "      <td>49</td>\n",
       "      <td>Los Angeles-Long Beach-Anaheim, CA MSA</td>\n",
       "      <td>2018-12-10</td>\n",
       "      <td>ultimate</td>\n",
       "      <td>NaN</td>\n",
       "      <td>276.53</td>\n",
       "      <td>50.0</td>\n",
       "      <td>31.0</td>\n",
       "    </tr>\n",
       "    <tr>\n",
       "      <th>1498</th>\n",
       "      <th>2</th>\n",
       "      <td>Scot</td>\n",
       "      <td>Williamson</td>\n",
       "      <td>51</td>\n",
       "      <td>New York-Newark-Jersey City, NY-NJ-PA MSA</td>\n",
       "      <td>2018-02-04</td>\n",
       "      <td>surf</td>\n",
       "      <td>NaN</td>\n",
       "      <td>231.87</td>\n",
       "      <td>NaN</td>\n",
       "      <td>58.0</td>\n",
       "    </tr>\n",
       "    <tr>\n",
       "      <th>1499</th>\n",
       "      <th>5</th>\n",
       "      <td>Shena</td>\n",
       "      <td>Dickson</td>\n",
       "      <td>37</td>\n",
       "      <td>Orlando-Kissimmee-Sanford, FL MSA</td>\n",
       "      <td>2018-05-06</td>\n",
       "      <td>surf</td>\n",
       "      <td>NaN</td>\n",
       "      <td>NaN</td>\n",
       "      <td>NaN</td>\n",
       "      <td>NaN</td>\n",
       "    </tr>\n",
       "  </tbody>\n",
       "</table>\n",
       "<p>500 rows × 10 columns</p>\n",
       "</div>"
      ],
      "text/plain": [
       "              first_name   last_name  age  \\\n",
       "user_id month                               \n",
       "1000    12      Anamaria       Bauer   45   \n",
       "1001    8         Mickey   Wilkerson   28   \n",
       "1002    10        Carlee     Hoffman   36   \n",
       "1003    1       Reynaldo     Jenkins   52   \n",
       "1004    5        Leonila    Thompson   40   \n",
       "...                  ...         ...  ...   \n",
       "1495    9          Fidel      Sharpe   67   \n",
       "1496    2          Ariel    Shepherd   49   \n",
       "1497    12         Donte     Barrera   49   \n",
       "1498    2           Scot  Williamson   51   \n",
       "1499    5          Shena     Dickson   37   \n",
       "\n",
       "                                                    city   reg_date      plan  \\\n",
       "user_id month                                                                   \n",
       "1000    12         Atlanta-Sandy Springs-Roswell, GA MSA 2018-12-24  ultimate   \n",
       "1001    8                Seattle-Tacoma-Bellevue, WA MSA 2018-08-13      surf   \n",
       "1002    10          Las Vegas-Henderson-Paradise, NV MSA 2018-10-21      surf   \n",
       "1003    1                                  Tulsa, OK MSA 2018-01-28      surf   \n",
       "1004    5                Seattle-Tacoma-Bellevue, WA MSA 2018-05-23      surf   \n",
       "...                                                  ...        ...       ...   \n",
       "1495    9      New York-Newark-Jersey City, NY-NJ-PA MSA 2018-09-04      surf   \n",
       "1496    2                   New Orleans-Metairie, LA MSA 2018-02-20      surf   \n",
       "1497    12        Los Angeles-Long Beach-Anaheim, CA MSA 2018-12-10  ultimate   \n",
       "1498    2      New York-Newark-Jersey City, NY-NJ-PA MSA 2018-02-04      surf   \n",
       "1499    5              Orlando-Kissimmee-Sanford, FL MSA 2018-05-06      surf   \n",
       "\n",
       "              churn_date  total_duration  n_messages  n_internet  \n",
       "user_id month                                                     \n",
       "1000    12           NaN          116.83        11.0         5.0  \n",
       "1001    8            NaN          171.14        30.0        25.0  \n",
       "1002    10           NaN           54.13        15.0        21.0  \n",
       "1003    1            NaN             NaN         NaN         NaN  \n",
       "1004    5            NaN          181.58         7.0        17.0  \n",
       "...                  ...             ...         ...         ...  \n",
       "1495    9            NaN          283.46         NaN        71.0  \n",
       "1496    2            NaN             NaN         NaN         NaN  \n",
       "1497    12           NaN          276.53        50.0        31.0  \n",
       "1498    2            NaN          231.87         NaN        58.0  \n",
       "1499    5            NaN             NaN         NaN         NaN  \n",
       "\n",
       "[500 rows x 10 columns]"
      ]
     },
     "execution_count": 40,
     "metadata": {},
     "output_type": "execute_result"
    }
   ],
   "source": [
    "df_full"
   ]
  },
  {
   "cell_type": "code",
   "execution_count": null,
   "metadata": {
    "trusted": false
   },
   "outputs": [],
   "source": [
    "def calc_income(user):\n",
    "    if user['plan'] == 'surf':\n",
    "        if (user['minutes_included']<user['tot_duration']):\n",
    "            # user['column_1'] = abs((user['minutes_included'] - user['tot_duration']) * 0.03)\n",
    "            num1 = abs((user['minutes_included'] - user['tot_duration']) * 0.03)\n",
    "        else:\n",
    "            num1 = 0\n",
    "        if (user['messages_included']<user['num_messages']):\n",
    "            num2 = abs((user['messages_included'] - user['num_messages']) * 0.03)\n",
    "        else:\n",
    "            num2 = 0\n",
    "        if (user['internet_included']<user['gb_used_month']):\n",
    "            num3 = abs((user['internet_included'] - user['gb_used_month']) * 10)\n",
    "        else:\n",
    "            num3 = 0\n",
    "    else:\n",
    "        if (user['minutes_included']<user['tot_duration']):\n",
    "            num1 = abs((user['minutes_included'] - user['tot_duration']) * 0.01)\n",
    "        else:\n",
    "            num1 = 0\n",
    "\n",
    "        if (user['messages_included']<user['num_messages']):\n",
    "            num2 = abs((user['messages_included'] - user['num_messages']) * 0.01)\n",
    "        else:\n",
    "            num2 = 0\n",
    "\n",
    "        if (user['internet_included']<user['gb_used_month']):\n",
    "            num3 = abs((user['internet_included'] - user['gb_used_month']) * 7)\n",
    "        else:\n",
    "            num3 = 0\n",
    "    return num1, num2, num3"
   ]
  },
  {
   "cell_type": "markdown",
   "metadata": {
    "id": "-jtyHzJb0q1I"
   },
   "source": [
    "## Estudia el comportamiento de usuario"
   ]
  },
  {
   "cell_type": "markdown",
   "metadata": {
    "id": "AxU3Y0N70q1J"
   },
   "source": [
    "[Calcula algunas estadísticas descriptivas para los datos agregados y fusionados que nos sean útiles y que muestren un panorama general captado por los datos. Dibuja gráficos útiles para facilitar la comprensión. Dado que la tarea principal es comparar las tarifas y decidir cuál es más rentable, las estadísticas y gráficas deben calcularse por tarifa.]\n",
    "\n",
    "[En los comentarios hallarás pistas relevantes para las llamadas, pero no las hay para los mensajes e Internet. Sin embargo, el principio del estudio estadístico que se aplica para ellos es el mismo que para las llamadas.]"
   ]
  },
  {
   "cell_type": "markdown",
   "metadata": {
    "id": "vtW4CJEe0q1J"
   },
   "source": [
    "### Llamadas"
   ]
  },
  {
   "cell_type": "code",
   "execution_count": null,
   "metadata": {
    "id": "Jf5v5--k0q1J",
    "trusted": false
   },
   "outputs": [
    {
     "name": "stdout",
     "output_type": "stream",
     "text": [
      "        plan  month  total_duration\n",
      "0       surf      1      192.840000\n",
      "1       surf      2      171.500000\n",
      "2       surf      3      250.392500\n",
      "3       surf      4      242.457333\n",
      "4       surf      5      146.563333\n",
      "5       surf      6      234.675000\n",
      "6       surf      7      168.293077\n",
      "7       surf      8      204.420556\n",
      "8       surf      9      196.051429\n",
      "9       surf     10      201.131538\n",
      "10      surf     11      268.985238\n",
      "11      surf     12      327.818400\n",
      "12  ultimate      1      183.162500\n",
      "13  ultimate      2       86.040000\n",
      "14  ultimate      3       73.395000\n",
      "15  ultimate      4      201.444000\n",
      "16  ultimate      5      229.693333\n",
      "17  ultimate      6      279.281000\n",
      "18  ultimate      7      128.170000\n",
      "19  ultimate      8      242.061667\n",
      "20  ultimate      9      327.438571\n",
      "21  ultimate     10      312.671429\n",
      "22  ultimate     11      174.840000\n",
      "23  ultimate     12      131.988750\n"
     ]
    },
    {
     "data": {
      "text/plain": [
       "<Figure size 1200x800 with 0 Axes>"
      ]
     },
     "metadata": {},
     "output_type": "display_data"
    },
    {
     "data": {
      "image/png": "[encoded data removed]",
      "text/plain": [
       "<Figure size 1200x800 with 1 Axes>"
      ]
     },
     "metadata": {},
     "output_type": "display_data"
    }
   ],
   "source": [
    "# Compara la duración promedio de llamadas por cada plan y por cada mes. Traza un gráfico de barras para visualizarla.\n",
    "\n",
    "import pandas as pd\n",
    "import matplotlib.pyplot as plt\n",
    "\n",
    "average_duration = df_full.groupby(['plan', 'month'])['total_duration'].mean().reset_index()\n",
    "\n",
    "print(average_duration)\n",
    "\n",
    "plt.figure(figsize=(12, 8))\n",
    "\n",
    "pivot_table = average_duration.pivot(index='month', columns='plan', values='total_duration')\n",
    "\n",
    "\n",
    "pivot_table.plot(kind='bar', figsize=(12, 8), width=0.8)\n",
    "\n",
    "\n",
    "plt.title('Duración Promedio de Llamadas por Plan y Mes')\n",
    "plt.xlabel('Mes')\n",
    "plt.ylabel('Duración Promedio de Llamadas (en minutos)')\n",
    "plt.legend(title='Plan')\n",
    "plt.xticks(rotation=45)\n",
    "plt.grid(True)\n",
    "plt.tight_layout()\n",
    "\n",
    "plt.show()"
   ]
  },
  {
   "cell_type": "code",
   "execution_count": null,
   "metadata": {
    "id": "QoLqW1S_0q1J",
    "trusted": false
   },
   "outputs": [
    {
     "name": "stdout",
     "output_type": "stream",
     "text": [
      "   plan  month  total_duration\n",
      "0  surf      1          385.68\n",
      "1  surf      2          857.50\n",
      "2  surf      3         2003.14\n",
      "3  surf      4         3636.86\n",
      "4  surf      5         1319.07\n"
     ]
    },
    {
     "data": {
      "image/png": "[encoded data removed]",
      "text/plain": [
       "<Figure size 1200x800 with 1 Axes>"
      ]
     },
     "metadata": {},
     "output_type": "display_data"
    }
   ],
   "source": [
    "# Compara el número de minutos mensuales que necesitan los usuarios de cada plan. Traza un histograma.\n",
    "\n",
    "monthly_minutes = df_full.groupby(['plan', 'month'])['total_duration'].sum().reset_index()\n",
    "\n",
    "print(monthly_minutes.head())\n",
    "\n",
    "plt.figure(figsize=(12, 8))\n",
    "\n",
    "\n",
    "for plan in monthly_minutes['plan'].unique():\n",
    "    \n",
    "    data = monthly_minutes[monthly_minutes['plan'] == plan]['total_duration']\n",
    "    plt.hist(data, bins=20, alpha=0.5, label=f'Plan {plan}')\n",
    "\n",
    "\n",
    "plt.title('Distribución del Número de Minutos Mensuales por Plan')\n",
    "plt.xlabel('Número de Minutos Mensuales')\n",
    "plt.ylabel('Frecuencia')\n",
    "plt.legend(title='Plan')\n",
    "plt.grid(True)\n",
    "plt.tight_layout()\n",
    "\n",
    "\n",
    "plt.show()"
   ]
  },
  {
   "cell_type": "markdown",
   "metadata": {
    "id": "bLS9T8OH0q1K"
   },
   "source": [
    "[Calcula la media y la variable de la duración de las llamadas para averiguar si los usuarios de los distintos planes se comportan de forma diferente al realizar sus llamadas.]"
   ]
  },
  {
   "cell_type": "code",
   "execution_count": null,
   "metadata": {
    "id": "oSndbAnt0q1K",
    "trusted": false
   },
   "outputs": [
    {
     "name": "stdout",
     "output_type": "stream",
     "text": [
      "Media de la duración mensual de llamadas: 4537.29 minutos\n",
      "Varianza de la duración mensual de llamadas: 7240804.12 minutos^2\n"
     ]
    }
   ],
   "source": [
    "# Calcula la media y la varianza de la duración mensual de llamadas.\n",
    "\n",
    "monthly_duration = df_full.groupby('month')['total_duration'].sum().reset_index()\n",
    "\n",
    "# Calcular la media y la varianza de la duración mensual de llamadas\n",
    "mean_duration = monthly_duration['total_duration'].mean()\n",
    "variance_duration = monthly_duration['total_duration'].var()\n",
    "\n",
    "print(f'Media de la duración mensual de llamadas: {mean_duration:.2f} minutos')\n",
    "print(f'Varianza de la duración mensual de llamadas: {variance_duration:.2f} minutos^2')\n",
    "\n"
   ]
  },
  {
   "cell_type": "code",
   "execution_count": null,
   "metadata": {
    "id": "nZzoRUKc0q1K",
    "trusted": false
   },
   "outputs": [
    {
     "data": {
      "text/plain": [
       "<AxesSubplot:xlabel='month', ylabel='total_duration'>"
      ]
     },
     "execution_count": 44,
     "metadata": {},
     "output_type": "execute_result"
    },
    {
     "data": {
      "image/png": "[encoded data removed]",
      "text/plain": [
       "<Figure size 1200x800 with 1 Axes>"
      ]
     },
     "metadata": {},
     "output_type": "display_data"
    }
   ],
   "source": [
    "# Traza un diagrama de caja para visualizar la distribución de la duración mensual de llamadas\n",
    "\n",
    "import seaborn as sns\n",
    "\n",
    "\n",
    "# Agrupar por mes y calcular la suma total de duración de llamadas por mes\n",
    "monthly_duration = df_full.groupby('month')['total_duration'].sum().reset_index()\n",
    "\n",
    "# Configurar el estilo de los gráficos con seaborn\n",
    "sns.set(style=\"whitegrid\")\n",
    "\n",
    "# Crear el gráfico de caja\n",
    "plt.figure(figsize=(12, 8))\n",
    "sns.boxplot(x='month', y='total_duration', data=monthly_duration)"
   ]
  },
  {
   "cell_type": "markdown",
   "metadata": {
    "id": "8idKy8Wh0q1L"
   },
   "source": [
    "### Mensajes"
   ]
  },
  {
   "cell_type": "code",
   "execution_count": null,
   "metadata": {
    "id": "NXLxiTit0q1L",
    "trusted": false
   },
   "outputs": [
    {
     "name": "stdout",
     "output_type": "stream",
     "text": [
      "   plan  month  n_messages\n",
      "0  surf      1        21.0\n",
      "1  surf      2        21.0\n",
      "2  surf      3        95.0\n",
      "3  surf      4       317.0\n",
      "4  surf      5        44.0\n"
     ]
    }
   ],
   "source": [
    "# Comprara el número de mensajes que tienden a enviar cada mes los usuarios de cada plan\n",
    "\n",
    "import seaborn as sns\n",
    "\n",
    "\n",
    "monthly_messages = df_full.groupby(['plan', 'month'])['n_messages'].sum().reset_index()\n",
    "\n",
    "print(monthly_messages.head())"
   ]
  },
  {
   "cell_type": "code",
   "execution_count": null,
   "metadata": {
    "id": "GRI_R7xF0q1L",
    "trusted": false
   },
   "outputs": [
    {
     "name": "stdout",
     "output_type": "stream",
     "text": [
      "   plan  month  n_internet\n",
      "0  surf      1        30.0\n",
      "1  surf      2       170.0\n",
      "2  surf      3       202.0\n",
      "3  surf      4       326.0\n",
      "4  surf      5       171.0\n"
     ]
    },
    {
     "data": {
      "image/png": "[encoded data removed]",
      "text/plain": [
       "<Figure size 1200x800 with 1 Axes>"
      ]
     },
     "metadata": {},
     "output_type": "display_data"
    }
   ],
   "source": [
    "# Compara la cantidad de tráfico de Internet consumido por usuarios por plan\n",
    "\n",
    "import pandas as pd\n",
    "import matplotlib.pyplot as plt\n",
    "import seaborn as sns\n",
    "\n",
    "\n",
    "# Agrupar por plan y calcular la suma total de tráfico de Internet por mes\n",
    "monthly_internet = df_full.groupby(['plan', 'month'])['n_internet'].sum().reset_index()\n",
    "\n",
    "print(monthly_internet.head())\n",
    "\n",
    "plt.figure(figsize=(12, 8))\n",
    "sns.barplot(data=monthly_internet, x='month', y='n_internet', hue='plan', palette='viridis')\n",
    "\n",
    "# Personalizar el gráfico\n",
    "plt.title('Tráfico de Internet Consumido por Mes por Plan')\n",
    "plt.xlabel('Mes')\n",
    "plt.ylabel('Cantidad de Tráfico de Internet (en MB o GB)')\n",
    "plt.xticks(rotation=45)\n",
    "plt.legend(title='Plan')\n",
    "plt.grid(True)\n",
    "plt.tight_layout()\n",
    "\n",
    "# Mostrar el gráfico\n",
    "plt.show()"
   ]
  },
  {
   "cell_type": "code",
   "execution_count": null,
   "metadata": {
    "id": "dtFwCGAp0q1M",
    "trusted": false
   },
   "outputs": [],
   "source": [
    "#se puede observar que hay más tráfico de internet por mes en el plan surf, hay un cambio notable desde el segundo mes "
   ]
  },
  {
   "cell_type": "markdown",
   "metadata": {
    "id": "42YSypXz0q1M"
   },
   "source": [
    "### Internet"
   ]
  },
  {
   "cell_type": "code",
   "execution_count": null,
   "metadata": {
    "id": "lSuKPtjh0q1M",
    "trusted": false
   },
   "outputs": [],
   "source": [
    "en promedio los usuarios del plan 'ultimate' utiliza más sus mensajes que los usuarios de 'surf', "
   ]
  },
  {
   "cell_type": "code",
   "execution_count": null,
   "metadata": {
    "id": "wnh8jYXi0q1N",
    "trusted": false
   },
   "outputs": [],
   "source": [
    " los usuarios del plan \"ultimate\" en promedio no llega a gastar sus Gb incluidos, lo que podría indicar que los usuarios de \"surf\" dejan más ingresos por pagar Gb extra cada mes"
   ]
  },
  {
   "cell_type": "code",
   "execution_count": null,
   "metadata": {
    "id": "5VlyJ9ry0q1N",
    "trusted": false
   },
   "outputs": [],
   "source": [
    "en el caso de \"surf\" la mediana indica que por lo menos la mitad de usuarios gastan al rededor de 17 Gb y sólo se le incluyen 15 en su plan. Lo que podría indicar que dejan buena cantidad de ingresos."
   ]
  },
  {
   "cell_type": "markdown",
   "metadata": {
    "id": "tCijq3260q1N"
   },
   "source": [
    "## Ingreso"
   ]
  },
  {
   "cell_type": "markdown",
   "metadata": {
    "id": "9nq5IAcy0q1O"
   },
   "source": [
    "[Del mismo modo que has estudiado el comportamiento de los usuarios, describe estadísticamente los ingresos de los planes.]"
   ]
  },
  {
   "cell_type": "code",
   "execution_count": null,
   "metadata": {
    "id": "tz-dq_V00q1O",
    "trusted": false
   },
   "outputs": [],
   "source": [
    " parece ser que aún cuando lo usuarios de \"surf\" dejan buenos ingresos al exceder sus Gb incluídos, los usuarios del plan \"ultimate\" por lo regular no exceden su plan"
   ]
  },
  {
   "cell_type": "code",
   "execution_count": null,
   "metadata": {
    "id": "0Y1v8ZUz0q1P",
    "trusted": false
   },
   "outputs": [],
   "source": [
    "al no llegar a su límite incluido, constantemente dejan los mismos ingresos, que son mayores a los de los ususarios de \"surf\"."
   ]
  },
  {
   "cell_type": "code",
   "execution_count": null,
   "metadata": {
    "id": "bYmwxyVh0q1P",
    "trusted": false
   },
   "outputs": [],
   "source": []
  },
  {
   "cell_type": "markdown",
   "metadata": {
    "id": "KAFidcXZ0q1P"
   },
   "source": [
    "[Elabora las conclusiones sobre cómo difiere el ingreso entre los planes.]"
   ]
  },
  {
   "cell_type": "markdown",
   "metadata": {
    "id": "ajJ7VKeI0q1Q"
   },
   "source": [
    "## Prueba las hipótesis estadísticas"
   ]
  },
  {
   "cell_type": "markdown",
   "metadata": {
    "id": "AdXAZ-yL0q1Q"
   },
   "source": [
    "[Prueba la hipótesis de que son diferentes los ingresos promedio procedentes de los usuarios de los planes de llamada Ultimate y Surf.]"
   ]
  },
  {
   "cell_type": "markdown",
   "metadata": {
    "id": "IQwa_hsh0q1Q"
   },
   "source": [
    "[Elabora las hipótesis nula y alternativa, escoge la prueba estadística, determina el valor alfa.]"
   ]
  },
  {
   "cell_type": "code",
   "execution_count": null,
   "metadata": {
    "trusted": false
   },
   "outputs": [],
   "source": [
    "df_full"
   ]
  },
  {
   "cell_type": "code",
   "execution_count": null,
   "metadata": {
    "trusted": false
   },
   "outputs": [],
   "source": [
    "def levene_test(s1, s2, center='mean'):\n",
    "    levene = st.levene(s1, s2, center=center)\n",
    "    return levene"
   ]
  },
  {
   "cell_type": "code",
   "execution_count": null,
   "metadata": {
    "id": "nFoPNlPq0q1R",
    "trusted": false
   },
   "outputs": [
    {
     "ename": "NameError",
     "evalue": "name 'total_consume_user_month' is not defined",
     "output_type": "error",
     "traceback": [
      "\u001b[0;31m---------------------------------------------------------------------------\u001b[0m",
      "\u001b[0;31mNameError\u001b[0m                                 Traceback (most recent call last)",
      "Cell \u001b[0;32mIn[37], line 2\u001b[0m\n\u001b[1;32m      1\u001b[0m \u001b[38;5;66;03m# Crea variables para guardar las muestras de los usuarios que vamos a comparar.\u001b[39;00m\n\u001b[0;32m----> 2\u001b[0m mean_income_users_surf \u001b[38;5;241m=\u001b[39m \u001b[43mtotal_consume_user_month\u001b[49m\u001b[38;5;241m.\u001b[39mquery(\u001b[38;5;124m'\u001b[39m\u001b[38;5;124mplan==\u001b[39m\u001b[38;5;124m\"\u001b[39m\u001b[38;5;124msurf\u001b[39m\u001b[38;5;124m\"\u001b[39m\u001b[38;5;124m'\u001b[39m)[\u001b[38;5;124m'\u001b[39m\u001b[38;5;124mtotal_monthly_income\u001b[39m\u001b[38;5;124m'\u001b[39m]\n\u001b[1;32m      3\u001b[0m mean_income_users_ultimate \u001b[38;5;241m=\u001b[39m total_consume_user_month\u001b[38;5;241m.\u001b[39mquery(\u001b[38;5;124m'\u001b[39m\u001b[38;5;124mplan==\u001b[39m\u001b[38;5;124m\"\u001b[39m\u001b[38;5;124multimate\u001b[39m\u001b[38;5;124m\"\u001b[39m\u001b[38;5;124m'\u001b[39m)[\u001b[38;5;124m'\u001b[39m\u001b[38;5;124mtotal_monthly_income\u001b[39m\u001b[38;5;124m'\u001b[39m]\n\u001b[1;32m      4\u001b[0m \u001b[38;5;66;03m# Aplicar la prueba de Levene para ver la igualdad de varianzas de nuestras muestras.\u001b[39;00m\n",
      "\u001b[0;31mNameError\u001b[0m: name 'total_consume_user_month' is not defined"
     ]
    }
   ],
   "source": [
    "# Crea variables para guardar las muestras de los usuarios que vamos a comparar.\n",
    "mean_income_users_surf = df_full.query('plan==\"surf\"')['total_monthly_income']\n",
    "mean_income_users_ultimate = df_full.query('plan==\"ultimate\"')['total_monthly_income']\n",
    "# Aplicar la prueba de Levene para ver la igualdad de varianzas de nuestras muestras.\n",
    "levene_test_plans = levene_test(mean_income_users_surf, mean_income_users_ultimate)\n",
    "print(f'p-value de la prueba Levene: {levene_test_plans.pvalue}')\n",
    "# Prueba la hipótesis\n",
    "alpha = 0.05\n",
    "if levene_test_plans.pvalue < alpha:\n",
    "    equal_var = False\n",
    "else:\n",
    "    equal_var = True\n",
    "results = st.ttest_ind(mean_income_users_surf, mean_income_users_ultimate, equal_var=equal_var)\n",
    "print('p-value de la prueba T:', results.pvalue)\n",
    "if results.pvalue < alpha:\n",
    "    print(\"Rechazamos la hipótesis nula, generan diferentes ingresos.\")\n",
    "else:\n",
    "    print(\"No rechazamos la hipótesis nula, generan iguales ingresos.\")\n"
   ]
  },
  {
   "cell_type": "code",
   "execution_count": null,
   "metadata": {
    "id": "Cqcj7wrZ0q1S",
    "trusted": false
   },
   "outputs": [
    {
     "ename": "NameError",
     "evalue": "name 'df_full' is not defined",
     "output_type": "error",
     "traceback": [
      "\u001b[0;31m---------------------------------------------------------------------------\u001b[0m",
      "\u001b[0;31mNameError\u001b[0m                                 Traceback (most recent call last)",
      "Cell \u001b[0;32mIn[39], line 2\u001b[0m\n\u001b[1;32m      1\u001b[0m \u001b[38;5;66;03m# Crea variables para guardar las muestras de las áreas que vamos a comparar.\u001b[39;00m\n\u001b[0;32m----> 2\u001b[0m ny_nj_mean_income \u001b[38;5;241m=\u001b[39m \u001b[43mdf_full\u001b[49m\u001b[38;5;241m.\u001b[39mquery(\u001b[38;5;124m'\u001b[39m\u001b[38;5;124misin_ny_nj == True\u001b[39m\u001b[38;5;124m'\u001b[39m)[\u001b[38;5;124m'\u001b[39m\u001b[38;5;124mtotal_monthly_income\u001b[39m\u001b[38;5;124m'\u001b[39m]\n\u001b[1;32m      3\u001b[0m rest_mean \u001b[38;5;241m=\u001b[39m df_full\u001b[38;5;241m.\u001b[39mquery(\u001b[38;5;124m'\u001b[39m\u001b[38;5;124misin_ny_nj == False\u001b[39m\u001b[38;5;124m'\u001b[39m)[\u001b[38;5;124m'\u001b[39m\u001b[38;5;124mtotal_monthly_income\u001b[39m\u001b[38;5;124m'\u001b[39m]\n\u001b[1;32m      4\u001b[0m \u001b[38;5;66;03m# Aplicar la prueva de Levene para ver la igualdad de varianzas de nuestras muestras.\u001b[39;00m\n",
      "\u001b[0;31mNameError\u001b[0m: name 'df_full' is not defined"
     ]
    }
   ],
   "source": [
    "# Crea variables para guardar las muestras de las áreas que vamos a comparar.\n",
    "ny_nj_mean_income = df_full.query('isin_ny_nj == True')['total_monthly_income']\n",
    "rest_mean = df_full.query('isin_ny_nj == False')['total_monthly_income']\n",
    "# Aplicar la prueva de Levene para ver la igualdad de varianzas de nuestras muestras.\n",
    "levene_test_area = levene_test(ny_nj_mean_income, rest_mean)\n",
    "print(f'p-value de la prueba Levene: {levene_test_area.pvalue}')\n",
    "# Prueba la hipótesis\n",
    "alpha = 0.05\n",
    "if levene_test_area.pvalue < alpha:\n",
    "    equal_var = False\n",
    "else:\n",
    "    equal_var = True\n",
    "results = st.ttest_ind(ny_nj_mean_income, rest_mean, equal_var=equal_var)\n",
    "print('p-value de la prueba T:', results.pvalue)\n",
    "if results.pvalue < alpha:\n",
    "    print(\"Rechazamos la hipótesis nula, generan diferentes ingresos.\")\n",
    "else:\n",
    "    print(\"No rechazamos la hipótesis nula, generan iguales ingresos.\")"
   ]
  },
  {
   "cell_type": "markdown",
   "metadata": {
    "id": "bbTR8UQO0q1T"
   },
   "source": [
    "## Conclusión general\n",
    "\n"
   ]
  },
  {
   "cell_type": "code",
   "execution_count": null,
   "metadata": {
    "trusted": false
   },
   "outputs": [],
   "source": [
    "La distribución de las llamadas de los usuarios de cada plan indica que los usuarios del plan 'surf' excede en cierta medida su límite de mínutos incluídos, lo que significa algunos ingresos extra por exceder su límite.\n",
    "En la investigación de los mensajes observamos una situación similar, tenemos ingresos extra por usuarios que exceden el límite de sus mensajes.\n",
    "Para el tráfico de datos, se observa que los usuarios del plan 'surf' al igual que en mensajes y llamadas dejan ingresos extra, sin embargo, en este apartado, el promedio de datos que utilizan los usuarios de este plan supera los datos incluidos en su plan, por lo cual son considerables los ingresos extra, teniendo en cuenta que hay más usarios del plan 'surf'.\n",
    "En la investigación de los ingresos de los usuarios de cada plan, en promedio, los usuarios del plan 'ultimate' dejan más ingresos, sin embargo, en el último mes (Diciembre), los ingresos promedio de los ususarios del plan 'surf' alcanzaron USD $70, además, si observamos la suma de ingresos de los usuarios del plan 'surf' aumentaron considerablemente a lo largo del año, en comparación de los ingresos de los usuarios del plan 'ultimate', situación que se observa en los gráficos de los minutos, mensajes y Gb usados en cada plan, razón por la cual sería conveniente revisar qué se está haciendo bien en el plan 'surf'.\n",
    "Al realizar la prueba de hipótesis estadística comprobamos que los ingresos son diferentes en los usuarios de cada plan, que confirma lo antes observado en los gráficos, lo que da pie a ponerle más atención al plan 'surf'\n",
    "En cuanto a los ingresos de los usuarios del área de New York y New Jersey, observamos que nuestra hipotésis estadística indica que no podemos rechazar que los usuarios de esa área generan ingresos diferentes al resto de usuarios, entonces lo que se observa en el boxplot de la distribución de ingresos de ambas áreas, puede ser que los valores atípicos den una lectura errónea de los ingresos."
   ]
  },
  {
   "cell_type": "code",
   "execution_count": null,
   "metadata": {
    "trusted": false
   },
   "outputs": [],
   "source": []
  }
 ],
 "metadata": {
  "ExecuteTimeLog": [
   {
    "duration": 828,
    "start_time": "2021-11-16T09:21:11.304Z"
   },
   {
    "duration": 893,
    "start_time": "2021-11-16T09:21:17.728Z"
   },
   {
    "duration": 1150,
    "start_time": "2021-11-16T09:21:29.568Z"
   },
   {
    "duration": 3,
    "start_time": "2021-11-16T09:24:14.495Z"
   },
   {
    "duration": 120,
    "start_time": "2021-11-16T09:24:46.630Z"
   },
   {
    "duration": 3,
    "start_time": "2021-11-16T09:28:27.882Z"
   },
   {
    "duration": 4,
    "start_time": "2021-11-16T09:29:54.281Z"
   },
   {
    "duration": 3,
    "start_time": "2021-11-16T09:30:45.936Z"
   },
   {
    "duration": 4,
    "start_time": "2021-11-16T09:31:06.300Z"
   },
   {
    "duration": 113,
    "start_time": "2021-11-16T09:31:37.208Z"
   },
   {
    "duration": 143,
    "start_time": "2021-11-16T09:31:48.656Z"
   },
   {
    "duration": 98,
    "start_time": "2021-11-16T09:31:55.678Z"
   },
   {
    "duration": 3,
    "start_time": "2021-11-16T09:32:08.535Z"
   },
   {
    "duration": 111,
    "start_time": "2021-11-16T09:32:10.120Z"
   },
   {
    "duration": 3,
    "start_time": "2021-11-16T09:32:15.732Z"
   },
   {
    "duration": 4,
    "start_time": "2021-11-16T09:32:29.423Z"
   },
   {
    "duration": 3,
    "start_time": "2021-11-16T10:03:03.074Z"
   },
   {
    "duration": 3,
    "start_time": "2021-11-16T10:10:01.288Z"
   },
   {
    "duration": 3,
    "start_time": "2021-11-16T10:10:46.923Z"
   },
   {
    "duration": 121,
    "start_time": "2021-11-16T10:37:46.494Z"
   },
   {
    "duration": 125,
    "start_time": "2021-11-16T10:38:20.632Z"
   },
   {
    "duration": 112,
    "start_time": "2021-11-16T10:46:53.001Z"
   },
   {
    "duration": 110,
    "start_time": "2021-11-16T10:48:25.775Z"
   },
   {
    "duration": 3,
    "start_time": "2021-11-16T10:50:18.720Z"
   },
   {
    "duration": 4,
    "start_time": "2021-11-16T10:50:37.649Z"
   },
   {
    "duration": 2,
    "start_time": "2021-11-16T10:50:51.884Z"
   },
   {
    "duration": 3,
    "start_time": "2021-11-16T10:51:56.237Z"
   },
   {
    "duration": 101,
    "start_time": "2021-11-16T10:53:13.791Z"
   },
   {
    "duration": 3,
    "start_time": "2021-11-16T10:55:59.186Z"
   },
   {
    "duration": 3,
    "start_time": "2021-11-16T10:56:10.751Z"
   },
   {
    "duration": 3,
    "start_time": "2021-11-16T10:56:49.038Z"
   },
   {
    "duration": 3,
    "start_time": "2021-11-16T10:56:49.174Z"
   },
   {
    "duration": 4,
    "start_time": "2021-11-16T10:56:49.414Z"
   },
   {
    "duration": 3,
    "start_time": "2021-11-16T10:56:49.680Z"
   },
   {
    "duration": 3,
    "start_time": "2021-11-16T10:56:50.370Z"
   },
   {
    "duration": 114,
    "start_time": "2021-11-16T10:59:34.518Z"
   },
   {
    "duration": 3,
    "start_time": "2021-11-16T11:01:41.201Z"
   },
   {
    "duration": 116,
    "start_time": "2021-11-16T11:01:48.754Z"
   },
   {
    "duration": 3,
    "start_time": "2021-11-16T11:02:16.685Z"
   },
   {
    "duration": 3,
    "start_time": "2021-11-16T11:02:19.479Z"
   },
   {
    "duration": 3,
    "start_time": "2021-11-16T11:02:47.067Z"
   },
   {
    "duration": 3,
    "start_time": "2021-11-16T11:02:49.353Z"
   },
   {
    "duration": 3,
    "start_time": "2021-11-16T11:03:07.835Z"
   },
   {
    "duration": 3,
    "start_time": "2021-11-16T11:03:07.953Z"
   },
   {
    "duration": 112,
    "start_time": "2021-11-16T11:07:52.072Z"
   },
   {
    "duration": 187,
    "start_time": "2021-11-16T11:09:23.468Z"
   },
   {
    "duration": 4,
    "start_time": "2021-11-16T11:10:01.455Z"
   },
   {
    "duration": 3,
    "start_time": "2021-11-16T11:10:05.069Z"
   },
   {
    "duration": 4,
    "start_time": "2021-11-16T11:10:13.376Z"
   },
   {
    "duration": 3,
    "start_time": "2021-11-16T11:10:14.434Z"
   },
   {
    "duration": 3,
    "start_time": "2021-11-16T11:10:22.853Z"
   },
   {
    "duration": 4,
    "start_time": "2021-11-16T11:27:29.279Z"
   },
   {
    "duration": 4,
    "start_time": "2021-11-16T11:29:08.919Z"
   },
   {
    "duration": 118,
    "start_time": "2021-11-16T11:29:46.703Z"
   },
   {
    "duration": 437,
    "start_time": "2021-11-16T11:36:02.181Z"
   },
   {
    "duration": 157,
    "start_time": "2021-11-16T11:36:14.388Z"
   },
   {
    "duration": 207,
    "start_time": "2021-11-16T11:47:15.898Z"
   },
   {
    "duration": 3,
    "start_time": "2021-11-16T11:53:52.092Z"
   },
   {
    "duration": 3,
    "start_time": "2021-11-16T11:53:52.236Z"
   },
   {
    "duration": 3,
    "start_time": "2021-11-16T11:59:12.005Z"
   },
   {
    "duration": 112,
    "start_time": "2021-11-16T12:00:33.446Z"
   },
   {
    "duration": 3,
    "start_time": "2021-11-16T12:02:14.453Z"
   },
   {
    "duration": 3,
    "start_time": "2021-11-16T12:02:39.512Z"
   },
   {
    "duration": 106,
    "start_time": "2021-11-16T12:03:03.460Z"
   },
   {
    "duration": 3,
    "start_time": "2021-11-17T20:37:21.139Z"
   },
   {
    "duration": 3,
    "start_time": "2021-11-17T20:37:22.229Z"
   },
   {
    "duration": 3,
    "start_time": "2021-11-17T20:38:38.806Z"
   },
   {
    "duration": 3,
    "start_time": "2021-11-17T20:38:41.958Z"
   },
   {
    "duration": 3,
    "start_time": "2021-11-17T20:43:46.551Z"
   },
   {
    "duration": 4,
    "start_time": "2021-11-17T20:58:21.835Z"
   },
   {
    "duration": 3,
    "start_time": "2021-11-17T20:59:21.872Z"
   },
   {
    "duration": 4,
    "start_time": "2021-11-17T20:59:45.352Z"
   },
   {
    "duration": 4,
    "start_time": "2021-11-17T20:59:49.646Z"
   },
   {
    "duration": 159,
    "start_time": "2021-11-17T21:02:26.949Z"
   },
   {
    "duration": 3,
    "start_time": "2021-11-17T21:03:53.461Z"
   },
   {
    "duration": 3,
    "start_time": "2021-11-17T21:03:53.694Z"
   },
   {
    "duration": 3,
    "start_time": "2021-11-17T21:05:28.145Z"
   },
   {
    "duration": 116,
    "start_time": "2021-11-17T21:05:57.787Z"
   },
   {
    "duration": 3,
    "start_time": "2021-11-17T21:06:37.993Z"
   },
   {
    "duration": 3,
    "start_time": "2021-11-17T21:06:38.261Z"
   },
   {
    "duration": 3,
    "start_time": "2021-11-17T21:11:54.358Z"
   },
   {
    "duration": 3,
    "start_time": "2021-11-17T21:12:43.846Z"
   },
   {
    "duration": 4,
    "start_time": "2021-11-17T21:13:08.773Z"
   },
   {
    "duration": 3,
    "start_time": "2021-11-17T21:14:44.441Z"
   },
   {
    "duration": 3,
    "start_time": "2021-11-17T21:15:42.059Z"
   },
   {
    "duration": 4,
    "start_time": "2021-11-17T21:15:51.995Z"
   },
   {
    "duration": 3,
    "start_time": "2021-11-17T21:15:53.923Z"
   },
   {
    "duration": 3,
    "start_time": "2021-11-17T21:15:55.282Z"
   },
   {
    "duration": 3,
    "start_time": "2021-11-17T21:16:28.492Z"
   },
   {
    "duration": 3,
    "start_time": "2021-11-17T21:16:32.603Z"
   },
   {
    "duration": 3,
    "start_time": "2021-11-17T21:17:06.941Z"
   },
   {
    "duration": 98,
    "start_time": "2021-11-17T21:18:05.733Z"
   },
   {
    "duration": 4,
    "start_time": "2021-11-17T21:21:35.255Z"
   },
   {
    "duration": 3,
    "start_time": "2021-11-17T21:21:37.804Z"
   },
   {
    "duration": 4,
    "start_time": "2021-11-17T21:23:06.071Z"
   },
   {
    "duration": 3,
    "start_time": "2021-11-17T21:23:24.799Z"
   },
   {
    "duration": 3,
    "start_time": "2021-11-17T21:23:32.591Z"
   },
   {
    "duration": 98,
    "start_time": "2021-11-17T21:28:31.559Z"
   },
   {
    "duration": 3,
    "start_time": "2021-11-17T21:28:45.448Z"
   },
   {
    "duration": 3,
    "start_time": "2021-11-17T21:29:17.303Z"
   },
   {
    "duration": 3,
    "start_time": "2021-11-17T21:29:29.617Z"
   },
   {
    "duration": 3,
    "start_time": "2021-11-17T21:29:32.681Z"
   },
   {
    "duration": 3,
    "start_time": "2021-11-17T21:36:11.474Z"
   },
   {
    "duration": 3,
    "start_time": "2021-11-17T21:36:14.791Z"
   },
   {
    "duration": 3,
    "start_time": "2021-11-17T21:36:53.943Z"
   },
   {
    "duration": 3,
    "start_time": "2021-11-17T21:36:56.165Z"
   },
   {
    "duration": 4,
    "start_time": "2021-11-17T21:37:16.590Z"
   },
   {
    "duration": 3,
    "start_time": "2021-11-17T21:37:22.702Z"
   },
   {
    "duration": 4,
    "start_time": "2021-11-17T21:38:03.479Z"
   },
   {
    "duration": 3,
    "start_time": "2021-11-17T21:38:08.601Z"
   },
   {
    "duration": 3,
    "start_time": "2021-11-17T21:38:12.928Z"
   },
   {
    "duration": 3,
    "start_time": "2021-11-17T21:38:48.896Z"
   },
   {
    "duration": 2,
    "start_time": "2021-11-17T21:38:49.171Z"
   },
   {
    "duration": 4,
    "start_time": "2021-11-17T21:39:57.889Z"
   },
   {
    "duration": 3,
    "start_time": "2021-11-17T21:39:58.057Z"
   },
   {
    "duration": 3,
    "start_time": "2021-11-17T21:41:20.108Z"
   },
   {
    "duration": 3,
    "start_time": "2021-11-17T21:41:20.629Z"
   },
   {
    "duration": 3,
    "start_time": "2021-11-17T21:42:49.136Z"
   },
   {
    "duration": 3,
    "start_time": "2021-11-17T21:43:15.137Z"
   },
   {
    "duration": 4,
    "start_time": "2021-11-17T21:43:16.766Z"
   },
   {
    "duration": 4,
    "start_time": "2021-11-17T21:43:31.711Z"
   },
   {
    "duration": 3,
    "start_time": "2021-11-17T21:43:36.312Z"
   },
   {
    "duration": 4,
    "start_time": "2021-11-17T21:45:08.825Z"
   },
   {
    "duration": 4,
    "start_time": "2021-11-17T21:45:10.119Z"
   },
   {
    "duration": 4,
    "start_time": "2021-11-17T21:45:13.748Z"
   },
   {
    "duration": 3,
    "start_time": "2021-11-17T21:45:22.219Z"
   },
   {
    "duration": 3,
    "start_time": "2021-11-17T21:45:33.412Z"
   },
   {
    "duration": 2,
    "start_time": "2021-11-17T21:46:01.885Z"
   },
   {
    "duration": 3,
    "start_time": "2021-11-17T21:46:03.628Z"
   },
   {
    "duration": 107,
    "start_time": "2021-11-17T21:47:32.512Z"
   },
   {
    "duration": 103,
    "start_time": "2021-11-17T21:50:36.243Z"
   },
   {
    "duration": 3,
    "start_time": "2021-11-18T06:28:31.440Z"
   },
   {
    "duration": 3,
    "start_time": "2021-11-18T06:29:00.168Z"
   },
   {
    "duration": 3,
    "start_time": "2021-11-18T06:31:27.008Z"
   },
   {
    "duration": 2,
    "start_time": "2021-11-18T06:35:34.288Z"
   },
   {
    "duration": 2,
    "start_time": "2021-11-18T06:38:04.527Z"
   },
   {
    "duration": 344,
    "start_time": "2024-07-24T01:35:11.624Z"
   },
   {
    "duration": 0,
    "start_time": "2024-07-24T01:35:11.972Z"
   },
   {
    "duration": 0,
    "start_time": "2024-07-24T01:35:11.973Z"
   },
   {
    "duration": 0,
    "start_time": "2024-07-24T01:35:11.976Z"
   },
   {
    "duration": 0,
    "start_time": "2024-07-24T01:35:11.977Z"
   },
   {
    "duration": 0,
    "start_time": "2024-07-24T01:35:11.979Z"
   },
   {
    "duration": 0,
    "start_time": "2024-07-24T01:35:11.980Z"
   },
   {
    "duration": 1,
    "start_time": "2024-07-24T01:35:11.981Z"
   },
   {
    "duration": 0,
    "start_time": "2024-07-24T01:35:11.983Z"
   },
   {
    "duration": 1,
    "start_time": "2024-07-24T01:35:11.984Z"
   },
   {
    "duration": 0,
    "start_time": "2024-07-24T01:35:11.986Z"
   },
   {
    "duration": 0,
    "start_time": "2024-07-24T01:35:11.989Z"
   },
   {
    "duration": 0,
    "start_time": "2024-07-24T01:35:11.991Z"
   },
   {
    "duration": 0,
    "start_time": "2024-07-24T01:35:11.993Z"
   },
   {
    "duration": 0,
    "start_time": "2024-07-24T01:35:11.995Z"
   },
   {
    "duration": 0,
    "start_time": "2024-07-24T01:35:11.997Z"
   },
   {
    "duration": 0,
    "start_time": "2024-07-24T01:35:12.033Z"
   },
   {
    "duration": 0,
    "start_time": "2024-07-24T01:35:12.035Z"
   },
   {
    "duration": 0,
    "start_time": "2024-07-24T01:35:12.036Z"
   },
   {
    "duration": 0,
    "start_time": "2024-07-24T01:35:12.037Z"
   },
   {
    "duration": 0,
    "start_time": "2024-07-24T01:35:12.039Z"
   },
   {
    "duration": 0,
    "start_time": "2024-07-24T01:35:12.040Z"
   },
   {
    "duration": 0,
    "start_time": "2024-07-24T01:35:12.044Z"
   },
   {
    "duration": 0,
    "start_time": "2024-07-24T01:35:12.048Z"
   },
   {
    "duration": 0,
    "start_time": "2024-07-24T01:35:12.050Z"
   },
   {
    "duration": 0,
    "start_time": "2024-07-24T01:35:12.052Z"
   },
   {
    "duration": 1,
    "start_time": "2024-07-24T01:35:12.053Z"
   },
   {
    "duration": 22,
    "start_time": "2024-07-24T01:36:19.279Z"
   },
   {
    "duration": 22,
    "start_time": "2024-07-24T01:37:11.171Z"
   },
   {
    "duration": 22,
    "start_time": "2024-07-24T01:39:51.778Z"
   },
   {
    "duration": 20,
    "start_time": "2024-07-24T01:40:30.554Z"
   },
   {
    "duration": 471,
    "start_time": "2024-07-24T01:40:36.227Z"
   },
   {
    "duration": 3902,
    "start_time": "2024-07-24T01:40:42.952Z"
   },
   {
    "duration": 32,
    "start_time": "2024-07-24T01:40:55.548Z"
   },
   {
    "duration": 3,
    "start_time": "2024-07-24T01:42:49.835Z"
   },
   {
    "duration": 3710,
    "start_time": "2024-07-24T01:42:52.824Z"
   },
   {
    "duration": 32,
    "start_time": "2024-07-24T01:42:56.537Z"
   },
   {
    "duration": 58,
    "start_time": "2024-07-24T01:44:39.631Z"
   },
   {
    "duration": 56,
    "start_time": "2024-07-24T02:07:54.717Z"
   },
   {
    "duration": 21,
    "start_time": "2024-07-24T02:08:50.912Z"
   },
   {
    "duration": 23,
    "start_time": "2024-07-24T02:11:23.697Z"
   },
   {
    "duration": 3763,
    "start_time": "2024-07-24T02:14:45.214Z"
   },
   {
    "duration": 6,
    "start_time": "2024-07-24T02:16:09.396Z"
   },
   {
    "duration": 3686,
    "start_time": "2024-07-24T02:37:49.416Z"
   },
   {
    "duration": 26,
    "start_time": "2024-07-24T02:38:13.666Z"
   },
   {
    "duration": 3,
    "start_time": "2024-07-24T02:38:25.457Z"
   },
   {
    "duration": 312,
    "start_time": "2024-07-24T02:38:34.036Z"
   },
   {
    "duration": 483,
    "start_time": "2024-07-24T02:38:53.012Z"
   },
   {
    "duration": 3952,
    "start_time": "2024-07-24T02:38:53.500Z"
   },
   {
    "duration": 349,
    "start_time": "2024-07-24T02:38:57.454Z"
   },
   {
    "duration": 0,
    "start_time": "2024-07-24T02:38:57.810Z"
   },
   {
    "duration": 0,
    "start_time": "2024-07-24T02:38:57.812Z"
   },
   {
    "duration": 0,
    "start_time": "2024-07-24T02:38:57.815Z"
   },
   {
    "duration": 0,
    "start_time": "2024-07-24T02:38:57.834Z"
   },
   {
    "duration": 0,
    "start_time": "2024-07-24T02:38:57.836Z"
   },
   {
    "duration": 0,
    "start_time": "2024-07-24T02:38:57.838Z"
   },
   {
    "duration": 0,
    "start_time": "2024-07-24T02:38:57.840Z"
   },
   {
    "duration": 0,
    "start_time": "2024-07-24T02:38:57.843Z"
   },
   {
    "duration": 0,
    "start_time": "2024-07-24T02:38:57.845Z"
   },
   {
    "duration": 0,
    "start_time": "2024-07-24T02:38:57.848Z"
   },
   {
    "duration": 0,
    "start_time": "2024-07-24T02:38:57.851Z"
   },
   {
    "duration": 0,
    "start_time": "2024-07-24T02:38:57.852Z"
   },
   {
    "duration": 0,
    "start_time": "2024-07-24T02:38:57.854Z"
   },
   {
    "duration": 0,
    "start_time": "2024-07-24T02:38:57.856Z"
   },
   {
    "duration": 0,
    "start_time": "2024-07-24T02:38:57.858Z"
   },
   {
    "duration": 0,
    "start_time": "2024-07-24T02:38:57.860Z"
   },
   {
    "duration": 0,
    "start_time": "2024-07-24T02:38:57.862Z"
   },
   {
    "duration": 0,
    "start_time": "2024-07-24T02:38:57.863Z"
   },
   {
    "duration": 0,
    "start_time": "2024-07-24T02:38:57.865Z"
   },
   {
    "duration": 0,
    "start_time": "2024-07-24T02:38:57.868Z"
   },
   {
    "duration": 0,
    "start_time": "2024-07-24T02:38:57.871Z"
   },
   {
    "duration": 0,
    "start_time": "2024-07-24T02:38:57.873Z"
   },
   {
    "duration": 0,
    "start_time": "2024-07-24T02:38:57.933Z"
   },
   {
    "duration": 0,
    "start_time": "2024-07-24T02:38:57.935Z"
   },
   {
    "duration": 0,
    "start_time": "2024-07-24T02:38:57.936Z"
   },
   {
    "duration": 0,
    "start_time": "2024-07-24T02:38:57.939Z"
   },
   {
    "duration": 0,
    "start_time": "2024-07-24T02:38:57.941Z"
   },
   {
    "duration": 4,
    "start_time": "2024-07-24T02:39:20.773Z"
   },
   {
    "duration": 3789,
    "start_time": "2024-07-24T02:39:24.005Z"
   },
   {
    "duration": 21,
    "start_time": "2024-07-24T02:39:30.578Z"
   },
   {
    "duration": 3,
    "start_time": "2024-07-24T02:39:49.327Z"
   },
   {
    "duration": 3800,
    "start_time": "2024-07-24T02:39:52.866Z"
   },
   {
    "duration": 24,
    "start_time": "2024-07-24T02:39:59.452Z"
   },
   {
    "duration": 6,
    "start_time": "2024-07-24T02:41:19.719Z"
   },
   {
    "duration": 28,
    "start_time": "2024-07-24T02:41:57.556Z"
   },
   {
    "duration": 31,
    "start_time": "2024-07-24T02:42:51.584Z"
   },
   {
    "duration": 3829,
    "start_time": "2024-07-24T02:44:13.626Z"
   },
   {
    "duration": 25,
    "start_time": "2024-07-24T02:44:20.517Z"
   },
   {
    "duration": 3766,
    "start_time": "2024-07-24T02:46:55.621Z"
   },
   {
    "duration": 68,
    "start_time": "2024-07-24T02:46:59.561Z"
   },
   {
    "duration": 12,
    "start_time": "2024-07-24T02:49:24.943Z"
   },
   {
    "duration": 822,
    "start_time": "2024-07-27T01:09:39.441Z"
   },
   {
    "duration": 350,
    "start_time": "2024-07-27T01:09:44.155Z"
   },
   {
    "duration": 298,
    "start_time": "2024-07-27T01:10:36.998Z"
   },
   {
    "duration": 71,
    "start_time": "2024-07-27T01:10:59.772Z"
   },
   {
    "duration": 9,
    "start_time": "2024-07-27T01:18:44.727Z"
   },
   {
    "duration": 7,
    "start_time": "2024-07-27T01:21:56.182Z"
   },
   {
    "duration": 18,
    "start_time": "2024-07-27T01:24:10.388Z"
   },
   {
    "duration": 33,
    "start_time": "2024-07-27T01:51:57.816Z"
   },
   {
    "duration": 5,
    "start_time": "2024-07-27T01:56:08.387Z"
   },
   {
    "duration": 12,
    "start_time": "2024-07-27T02:01:16.641Z"
   },
   {
    "duration": 13,
    "start_time": "2024-07-27T02:03:22.148Z"
   },
   {
    "duration": 21,
    "start_time": "2024-07-27T02:03:46.846Z"
   },
   {
    "duration": 5,
    "start_time": "2024-07-27T02:30:10.244Z"
   },
   {
    "duration": 305,
    "start_time": "2024-07-27T04:05:07.710Z"
   },
   {
    "duration": 437,
    "start_time": "2024-07-27T04:05:24.158Z"
   },
   {
    "duration": 355,
    "start_time": "2024-07-27T04:05:29.365Z"
   },
   {
    "duration": 10,
    "start_time": "2024-07-27T04:05:35.870Z"
   },
   {
    "duration": 17,
    "start_time": "2024-07-27T04:05:41.074Z"
   },
   {
    "duration": 5,
    "start_time": "2024-07-27T04:09:50.299Z"
   },
   {
    "duration": 55,
    "start_time": "2024-07-27T04:09:54.770Z"
   },
   {
    "duration": 7,
    "start_time": "2024-07-27T04:10:27.049Z"
   },
   {
    "duration": 7,
    "start_time": "2024-07-27T04:11:37.410Z"
   },
   {
    "duration": 7,
    "start_time": "2024-07-27T04:13:00.250Z"
   },
   {
    "duration": 6,
    "start_time": "2024-07-27T04:18:26.200Z"
   },
   {
    "duration": 21,
    "start_time": "2024-07-27T04:18:42.281Z"
   },
   {
    "duration": 13,
    "start_time": "2024-07-27T04:18:55.984Z"
   },
   {
    "duration": 25,
    "start_time": "2024-07-27T04:20:52.460Z"
   },
   {
    "duration": 16,
    "start_time": "2024-07-27T04:21:03.946Z"
   },
   {
    "duration": 4,
    "start_time": "2024-07-27T04:23:02.609Z"
   },
   {
    "duration": 70,
    "start_time": "2024-07-27T04:24:49.883Z"
   },
   {
    "duration": 14,
    "start_time": "2024-07-27T04:25:01.266Z"
   },
   {
    "duration": 5,
    "start_time": "2024-07-27T04:39:20.758Z"
   },
   {
    "duration": 22,
    "start_time": "2024-07-27T04:40:05.694Z"
   },
   {
    "duration": 22,
    "start_time": "2024-07-27T04:40:16.646Z"
   },
   {
    "duration": 17,
    "start_time": "2024-07-27T04:40:34.868Z"
   },
   {
    "duration": 6,
    "start_time": "2024-07-27T04:41:38.020Z"
   },
   {
    "duration": 318,
    "start_time": "2024-07-27T18:26:25.525Z"
   },
   {
    "duration": 457,
    "start_time": "2024-07-27T18:26:31.752Z"
   },
   {
    "duration": 349,
    "start_time": "2024-07-27T18:26:35.103Z"
   },
   {
    "duration": 11,
    "start_time": "2024-07-27T18:26:41.125Z"
   },
   {
    "duration": 17,
    "start_time": "2024-07-27T18:26:43.441Z"
   },
   {
    "duration": 5,
    "start_time": "2024-07-27T18:26:48.486Z"
   },
   {
    "duration": 11,
    "start_time": "2024-07-27T18:26:51.126Z"
   },
   {
    "duration": 12,
    "start_time": "2024-07-27T18:26:53.906Z"
   },
   {
    "duration": 5,
    "start_time": "2024-07-27T18:27:01.266Z"
   },
   {
    "duration": 7,
    "start_time": "2024-07-27T18:27:05.201Z"
   },
   {
    "duration": 14,
    "start_time": "2024-07-27T18:27:12.781Z"
   },
   {
    "duration": 28,
    "start_time": "2024-07-27T18:27:16.517Z"
   },
   {
    "duration": 4,
    "start_time": "2024-07-27T18:27:21.108Z"
   },
   {
    "duration": 70,
    "start_time": "2024-07-27T18:27:27.474Z"
   },
   {
    "duration": 7,
    "start_time": "2024-07-27T18:27:32.143Z"
   },
   {
    "duration": 23,
    "start_time": "2024-07-27T18:27:35.116Z"
   },
   {
    "duration": 16,
    "start_time": "2024-07-27T18:27:38.313Z"
   },
   {
    "duration": 11,
    "start_time": "2024-07-27T18:27:43.907Z"
   },
   {
    "duration": 5,
    "start_time": "2024-07-27T18:27:56.133Z"
   },
   {
    "duration": 6,
    "start_time": "2024-07-27T18:28:31.151Z"
   },
   {
    "duration": 11,
    "start_time": "2024-07-27T18:28:43.776Z"
   },
   {
    "duration": 18,
    "start_time": "2024-07-27T18:39:49.596Z"
   },
   {
    "duration": 4,
    "start_time": "2024-07-27T18:41:57.392Z"
   },
   {
    "duration": 5,
    "start_time": "2024-07-27T18:42:02.704Z"
   },
   {
    "duration": 8,
    "start_time": "2024-07-27T18:44:05.872Z"
   },
   {
    "duration": 57,
    "start_time": "2024-07-27T18:44:20.097Z"
   },
   {
    "duration": 11,
    "start_time": "2024-07-27T18:44:27.440Z"
   },
   {
    "duration": 14,
    "start_time": "2024-07-27T18:55:25.147Z"
   },
   {
    "duration": 8,
    "start_time": "2024-07-27T18:55:30.473Z"
   },
   {
    "duration": 8,
    "start_time": "2024-07-27T18:55:35.030Z"
   },
   {
    "duration": 9,
    "start_time": "2024-07-27T18:56:02.976Z"
   },
   {
    "duration": 10,
    "start_time": "2024-07-27T18:57:59.862Z"
   },
   {
    "duration": 247,
    "start_time": "2024-07-27T19:04:15.711Z"
   },
   {
    "duration": 43,
    "start_time": "2024-07-27T19:05:05.250Z"
   },
   {
    "duration": 45,
    "start_time": "2024-07-27T19:05:21.615Z"
   },
   {
    "duration": 45,
    "start_time": "2024-07-27T19:05:54.997Z"
   },
   {
    "duration": 12,
    "start_time": "2024-07-27T19:06:05.435Z"
   },
   {
    "duration": 41,
    "start_time": "2024-07-27T19:20:34.281Z"
   },
   {
    "duration": 36,
    "start_time": "2024-07-27T19:21:18.998Z"
   },
   {
    "duration": 472,
    "start_time": "2024-07-27T19:25:02.724Z"
   },
   {
    "duration": 274,
    "start_time": "2024-07-27T19:25:03.200Z"
   },
   {
    "duration": 78,
    "start_time": "2024-07-27T19:25:03.477Z"
   },
   {
    "duration": 9,
    "start_time": "2024-07-27T19:25:03.558Z"
   },
   {
    "duration": 7,
    "start_time": "2024-07-27T19:25:03.572Z"
   },
   {
    "duration": 50,
    "start_time": "2024-07-27T19:25:03.582Z"
   },
   {
    "duration": 6,
    "start_time": "2024-07-27T19:25:03.634Z"
   },
   {
    "duration": 10,
    "start_time": "2024-07-27T19:25:03.644Z"
   },
   {
    "duration": 13,
    "start_time": "2024-07-27T19:25:03.657Z"
   },
   {
    "duration": 60,
    "start_time": "2024-07-27T19:25:03.673Z"
   },
   {
    "duration": 5,
    "start_time": "2024-07-27T19:25:03.736Z"
   },
   {
    "duration": 7,
    "start_time": "2024-07-27T19:25:03.744Z"
   },
   {
    "duration": 15,
    "start_time": "2024-07-27T19:25:03.754Z"
   },
   {
    "duration": 69,
    "start_time": "2024-07-27T19:25:03.776Z"
   },
   {
    "duration": 16,
    "start_time": "2024-07-27T19:25:03.851Z"
   },
   {
    "duration": 6,
    "start_time": "2024-07-27T19:25:03.870Z"
   },
   {
    "duration": 4,
    "start_time": "2024-07-27T19:25:03.879Z"
   },
   {
    "duration": 107,
    "start_time": "2024-07-27T19:25:03.886Z"
   },
   {
    "duration": 34,
    "start_time": "2024-07-27T19:25:03.996Z"
   },
   {
    "duration": 5,
    "start_time": "2024-07-27T19:25:04.033Z"
   },
   {
    "duration": 23,
    "start_time": "2024-07-27T19:25:04.041Z"
   },
   {
    "duration": 17,
    "start_time": "2024-07-27T19:25:04.067Z"
   },
   {
    "duration": 45,
    "start_time": "2024-07-27T19:25:04.086Z"
   },
   {
    "duration": 12,
    "start_time": "2024-07-27T19:25:04.134Z"
   },
   {
    "duration": 17,
    "start_time": "2024-07-27T19:25:04.148Z"
   },
   {
    "duration": 14,
    "start_time": "2024-07-27T19:25:04.168Z"
   },
   {
    "duration": 50,
    "start_time": "2024-07-27T19:25:04.185Z"
   },
   {
    "duration": 12,
    "start_time": "2024-07-27T19:25:04.237Z"
   },
   {
    "duration": 10,
    "start_time": "2024-07-27T19:25:04.251Z"
   },
   {
    "duration": 3,
    "start_time": "2024-07-27T19:25:04.264Z"
   },
   {
    "duration": 3,
    "start_time": "2024-07-27T19:25:04.271Z"
   },
   {
    "duration": 4,
    "start_time": "2024-07-27T19:25:04.277Z"
   },
   {
    "duration": 4,
    "start_time": "2024-07-27T19:25:04.331Z"
   },
   {
    "duration": 5,
    "start_time": "2024-07-27T19:25:04.337Z"
   },
   {
    "duration": 4,
    "start_time": "2024-07-27T19:25:04.345Z"
   },
   {
    "duration": 4,
    "start_time": "2024-07-27T19:25:04.352Z"
   },
   {
    "duration": 5,
    "start_time": "2024-07-27T19:25:04.359Z"
   },
   {
    "duration": 3,
    "start_time": "2024-07-27T19:25:04.368Z"
   },
   {
    "duration": 4,
    "start_time": "2024-07-27T19:25:04.430Z"
   },
   {
    "duration": 152,
    "start_time": "2024-07-27T19:29:29.949Z"
   },
   {
    "duration": 8,
    "start_time": "2024-07-27T19:51:41.577Z"
   },
   {
    "duration": 5,
    "start_time": "2024-07-27T19:52:03.273Z"
   },
   {
    "duration": 242,
    "start_time": "2024-07-27T19:52:23.277Z"
   },
   {
    "duration": 34,
    "start_time": "2024-07-27T19:53:54.226Z"
   },
   {
    "duration": 818,
    "start_time": "2024-07-27T19:58:17.435Z"
   },
   {
    "duration": 600,
    "start_time": "2024-07-27T20:01:46.930Z"
   },
   {
    "duration": 36,
    "start_time": "2024-07-27T20:02:13.156Z"
   },
   {
    "duration": 418,
    "start_time": "2024-07-28T19:35:43.652Z"
   },
   {
    "duration": 370,
    "start_time": "2024-07-28T19:35:47.074Z"
   },
   {
    "duration": 10,
    "start_time": "2024-07-28T19:35:51.748Z"
   },
   {
    "duration": 9,
    "start_time": "2024-07-28T19:35:55.071Z"
   },
   {
    "duration": 17,
    "start_time": "2024-07-28T19:35:58.085Z"
   },
   {
    "duration": 8,
    "start_time": "2024-07-28T19:36:01.434Z"
   },
   {
    "duration": 11,
    "start_time": "2024-07-28T19:36:05.409Z"
   },
   {
    "duration": 21,
    "start_time": "2024-07-28T19:36:32.241Z"
   },
   {
    "duration": 5,
    "start_time": "2024-07-28T19:36:35.514Z"
   },
   {
    "duration": 7,
    "start_time": "2024-07-28T19:36:39.810Z"
   },
   {
    "duration": 12,
    "start_time": "2024-07-28T19:36:45.210Z"
   },
   {
    "duration": 26,
    "start_time": "2024-07-28T19:36:49.202Z"
   },
   {
    "duration": 16,
    "start_time": "2024-07-28T19:36:52.703Z"
   },
   {
    "duration": 5,
    "start_time": "2024-07-28T19:36:56.159Z"
   },
   {
    "duration": 71,
    "start_time": "2024-07-28T19:36:58.969Z"
   },
   {
    "duration": 5,
    "start_time": "2024-07-28T19:37:01.980Z"
   },
   {
    "duration": 27,
    "start_time": "2024-07-28T19:37:05.022Z"
   },
   {
    "duration": 30,
    "start_time": "2024-07-28T19:37:10.218Z"
   },
   {
    "duration": 5,
    "start_time": "2024-07-28T19:37:14.711Z"
   },
   {
    "duration": 35,
    "start_time": "2024-07-28T19:37:17.940Z"
   },
   {
    "duration": 11,
    "start_time": "2024-07-28T19:37:20.370Z"
   },
   {
    "duration": 15,
    "start_time": "2024-07-28T19:37:23.092Z"
   },
   {
    "duration": 10,
    "start_time": "2024-07-28T19:37:25.710Z"
   },
   {
    "duration": 8,
    "start_time": "2024-07-28T19:37:28.742Z"
   },
   {
    "duration": 8,
    "start_time": "2024-07-28T19:37:34.780Z"
   },
   {
    "duration": 155,
    "start_time": "2024-07-28T19:37:40.572Z"
   },
   {
    "duration": 47,
    "start_time": "2024-07-28T19:42:16.980Z"
   },
   {
    "duration": 242,
    "start_time": "2024-07-28T19:45:05.385Z"
   },
   {
    "duration": 835,
    "start_time": "2024-07-28T19:45:48.115Z"
   },
   {
    "duration": 76,
    "start_time": "2024-07-28T19:47:22.497Z"
   },
   {
    "duration": 23,
    "start_time": "2024-07-28T19:47:54.916Z"
   },
   {
    "duration": 74,
    "start_time": "2024-07-28T19:47:59.222Z"
   },
   {
    "duration": 75,
    "start_time": "2024-07-28T19:48:35.456Z"
   },
   {
    "duration": 8,
    "start_time": "2024-07-28T19:53:06.381Z"
   },
   {
    "duration": 5,
    "start_time": "2024-07-28T19:53:54.629Z"
   },
   {
    "duration": 10,
    "start_time": "2024-07-28T19:54:09.203Z"
   },
   {
    "duration": 12,
    "start_time": "2024-07-28T19:58:23.440Z"
   },
   {
    "duration": 15,
    "start_time": "2024-07-28T19:58:36.399Z"
   },
   {
    "duration": 8,
    "start_time": "2024-07-28T19:58:41.909Z"
   },
   {
    "duration": 12,
    "start_time": "2024-07-28T19:58:46.419Z"
   },
   {
    "duration": 454,
    "start_time": "2024-07-28T20:00:04.581Z"
   },
   {
    "duration": 351,
    "start_time": "2024-07-28T20:00:05.042Z"
   },
   {
    "duration": 75,
    "start_time": "2024-07-28T20:00:05.398Z"
   },
   {
    "duration": 9,
    "start_time": "2024-07-28T20:00:05.476Z"
   },
   {
    "duration": 8,
    "start_time": "2024-07-28T20:00:05.505Z"
   },
   {
    "duration": 20,
    "start_time": "2024-07-28T20:00:05.516Z"
   },
   {
    "duration": 5,
    "start_time": "2024-07-28T20:00:05.539Z"
   },
   {
    "duration": 11,
    "start_time": "2024-07-28T20:00:05.546Z"
   },
   {
    "duration": 12,
    "start_time": "2024-07-28T20:00:05.607Z"
   },
   {
    "duration": 22,
    "start_time": "2024-07-28T20:00:05.621Z"
   },
   {
    "duration": 5,
    "start_time": "2024-07-28T20:00:05.646Z"
   },
   {
    "duration": 7,
    "start_time": "2024-07-28T20:00:05.655Z"
   },
   {
    "duration": 14,
    "start_time": "2024-07-28T20:00:05.706Z"
   },
   {
    "duration": 13,
    "start_time": "2024-07-28T20:00:05.723Z"
   },
   {
    "duration": 26,
    "start_time": "2024-07-28T20:00:05.739Z"
   },
   {
    "duration": 17,
    "start_time": "2024-07-28T20:00:05.808Z"
   },
   {
    "duration": 6,
    "start_time": "2024-07-28T20:00:05.828Z"
   },
   {
    "duration": 83,
    "start_time": "2024-07-28T20:00:05.837Z"
   },
   {
    "duration": 83,
    "start_time": "2024-07-28T20:00:05.923Z"
   },
   {
    "duration": 16,
    "start_time": "2024-07-28T20:00:06.009Z"
   },
   {
    "duration": 5,
    "start_time": "2024-07-28T20:00:06.028Z"
   },
   {
    "duration": 28,
    "start_time": "2024-07-28T20:00:06.037Z"
   },
   {
    "duration": 24,
    "start_time": "2024-07-28T20:00:06.107Z"
   },
   {
    "duration": 20,
    "start_time": "2024-07-28T20:00:06.134Z"
   },
   {
    "duration": 6,
    "start_time": "2024-07-28T20:00:06.158Z"
   },
   {
    "duration": 69,
    "start_time": "2024-07-28T20:00:06.168Z"
   },
   {
    "duration": 10,
    "start_time": "2024-07-28T20:00:06.245Z"
   },
   {
    "duration": 52,
    "start_time": "2024-07-28T20:00:06.260Z"
   },
   {
    "duration": 10,
    "start_time": "2024-07-28T20:00:06.315Z"
   },
   {
    "duration": 10,
    "start_time": "2024-07-28T20:00:06.329Z"
   },
   {
    "duration": 10,
    "start_time": "2024-07-28T20:00:06.342Z"
   },
   {
    "duration": 54,
    "start_time": "2024-07-28T20:00:06.355Z"
   },
   {
    "duration": 310,
    "start_time": "2024-07-28T20:00:23.177Z"
   },
   {
    "duration": 29,
    "start_time": "2024-07-28T20:04:09.304Z"
   },
   {
    "duration": 29,
    "start_time": "2024-07-28T20:04:26.475Z"
   },
   {
    "duration": 21,
    "start_time": "2024-07-28T20:07:37.314Z"
   },
   {
    "duration": 23,
    "start_time": "2024-07-28T20:07:48.887Z"
   },
   {
    "duration": 26,
    "start_time": "2024-07-28T20:08:56.977Z"
   },
   {
    "duration": 20,
    "start_time": "2024-07-28T20:11:38.967Z"
   },
   {
    "duration": 770,
    "start_time": "2024-07-28T20:11:54.946Z"
   },
   {
    "duration": 10,
    "start_time": "2024-07-28T20:12:00.889Z"
   },
   {
    "duration": 12,
    "start_time": "2024-07-28T20:12:07.757Z"
   },
   {
    "duration": 24,
    "start_time": "2024-07-28T20:12:13.475Z"
   },
   {
    "duration": 20,
    "start_time": "2024-07-28T20:12:27.086Z"
   },
   {
    "duration": 87,
    "start_time": "2024-07-28T20:12:30.125Z"
   },
   {
    "duration": 77,
    "start_time": "2024-07-28T20:12:50.992Z"
   },
   {
    "duration": 78,
    "start_time": "2024-07-28T20:13:00.390Z"
   },
   {
    "duration": 28,
    "start_time": "2024-07-28T20:35:54.126Z"
   },
   {
    "duration": 101,
    "start_time": "2024-07-28T20:38:38.137Z"
   },
   {
    "duration": 99,
    "start_time": "2024-07-28T20:40:21.444Z"
   },
   {
    "duration": 8,
    "start_time": "2024-07-28T20:41:15.202Z"
   },
   {
    "duration": 91,
    "start_time": "2024-07-28T20:41:33.466Z"
   },
   {
    "duration": 92,
    "start_time": "2024-07-28T20:42:12.372Z"
   },
   {
    "duration": 88,
    "start_time": "2024-07-28T20:46:52.627Z"
   },
   {
    "duration": 89,
    "start_time": "2024-07-28T20:47:13.435Z"
   },
   {
    "duration": 25,
    "start_time": "2024-07-28T20:51:44.620Z"
   },
   {
    "duration": 22,
    "start_time": "2024-07-28T21:04:37.474Z"
   },
   {
    "duration": 90,
    "start_time": "2024-07-28T21:04:50.713Z"
   },
   {
    "duration": 323,
    "start_time": "2024-07-28T21:05:14.404Z"
   },
   {
    "duration": 28,
    "start_time": "2024-07-28T21:05:19.640Z"
   },
   {
    "duration": 21,
    "start_time": "2024-07-28T21:05:29.105Z"
   },
   {
    "duration": 736,
    "start_time": "2024-07-28T21:05:35.706Z"
   },
   {
    "duration": 151,
    "start_time": "2024-07-28T21:05:56.854Z"
   },
   {
    "duration": 27,
    "start_time": "2024-07-28T21:06:01.747Z"
   },
   {
    "duration": 45,
    "start_time": "2024-07-28T21:06:23.140Z"
   },
   {
    "duration": 12,
    "start_time": "2024-07-28T21:06:31.011Z"
   },
   {
    "duration": 8,
    "start_time": "2024-07-28T21:06:37.865Z"
   },
   {
    "duration": 10,
    "start_time": "2024-07-28T21:06:55.207Z"
   },
   {
    "duration": 13,
    "start_time": "2024-07-28T21:07:28.841Z"
   },
   {
    "duration": 36,
    "start_time": "2024-07-28T21:07:35.905Z"
   },
   {
    "duration": 28,
    "start_time": "2024-07-28T21:07:43.527Z"
   },
   {
    "duration": 39,
    "start_time": "2024-07-28T21:07:48.896Z"
   },
   {
    "duration": 10,
    "start_time": "2024-07-28T21:07:55.155Z"
   },
   {
    "duration": 524,
    "start_time": "2024-07-28T21:08:10.064Z"
   },
   {
    "duration": 21,
    "start_time": "2024-07-28T21:08:21.862Z"
   },
   {
    "duration": 10,
    "start_time": "2024-07-28T21:59:04.634Z"
   },
   {
    "duration": 321,
    "start_time": "2024-07-29T01:11:21.666Z"
   },
   {
    "duration": 432,
    "start_time": "2024-07-29T01:11:32.283Z"
   },
   {
    "duration": 341,
    "start_time": "2024-07-29T01:11:32.719Z"
   },
   {
    "duration": 77,
    "start_time": "2024-07-29T01:11:33.063Z"
   },
   {
    "duration": 8,
    "start_time": "2024-07-29T01:11:33.144Z"
   },
   {
    "duration": 8,
    "start_time": "2024-07-29T01:11:33.156Z"
   },
   {
    "duration": 18,
    "start_time": "2024-07-29T01:11:33.168Z"
   },
   {
    "duration": 46,
    "start_time": "2024-07-29T01:11:33.189Z"
   },
   {
    "duration": 11,
    "start_time": "2024-07-29T01:11:33.238Z"
   },
   {
    "duration": 12,
    "start_time": "2024-07-29T01:11:33.252Z"
   },
   {
    "duration": 63,
    "start_time": "2024-07-29T01:11:33.270Z"
   },
   {
    "duration": 5,
    "start_time": "2024-07-29T01:11:33.336Z"
   },
   {
    "duration": 7,
    "start_time": "2024-07-29T01:11:33.344Z"
   },
   {
    "duration": 16,
    "start_time": "2024-07-29T01:11:33.355Z"
   },
   {
    "duration": 60,
    "start_time": "2024-07-29T01:11:33.374Z"
   },
   {
    "duration": 26,
    "start_time": "2024-07-29T01:11:33.437Z"
   },
   {
    "duration": 17,
    "start_time": "2024-07-29T01:11:33.465Z"
   },
   {
    "duration": 6,
    "start_time": "2024-07-29T01:11:33.484Z"
   },
   {
    "duration": 45,
    "start_time": "2024-07-29T01:11:33.533Z"
   },
   {
    "duration": 92,
    "start_time": "2024-07-29T01:11:33.581Z"
   },
   {
    "duration": 14,
    "start_time": "2024-07-29T01:11:33.677Z"
   },
   {
    "duration": 6,
    "start_time": "2024-07-29T01:11:33.693Z"
   },
   {
    "duration": 51,
    "start_time": "2024-07-29T01:11:33.702Z"
   },
   {
    "duration": 22,
    "start_time": "2024-07-29T01:11:33.757Z"
   },
   {
    "duration": 50,
    "start_time": "2024-07-29T01:11:33.782Z"
   },
   {
    "duration": 5,
    "start_time": "2024-07-29T01:11:33.835Z"
   },
   {
    "duration": 35,
    "start_time": "2024-07-29T01:11:33.843Z"
   },
   {
    "duration": 11,
    "start_time": "2024-07-29T01:11:33.880Z"
   },
   {
    "duration": 20,
    "start_time": "2024-07-29T01:11:33.935Z"
   },
   {
    "duration": 9,
    "start_time": "2024-07-29T01:11:33.958Z"
   },
   {
    "duration": 96,
    "start_time": "2024-07-29T01:11:33.970Z"
   },
   {
    "duration": 0,
    "start_time": "2024-07-29T01:11:34.068Z"
   },
   {
    "duration": 0,
    "start_time": "2024-07-29T01:11:34.070Z"
   },
   {
    "duration": 0,
    "start_time": "2024-07-29T01:11:34.072Z"
   },
   {
    "duration": 0,
    "start_time": "2024-07-29T01:11:34.074Z"
   },
   {
    "duration": 0,
    "start_time": "2024-07-29T01:11:34.076Z"
   },
   {
    "duration": 0,
    "start_time": "2024-07-29T01:11:34.077Z"
   },
   {
    "duration": 0,
    "start_time": "2024-07-29T01:11:34.079Z"
   },
   {
    "duration": 4,
    "start_time": "2024-07-29T01:17:00.537Z"
   },
   {
    "duration": 293,
    "start_time": "2024-07-29T01:17:00.546Z"
   },
   {
    "duration": 71,
    "start_time": "2024-07-29T01:17:00.842Z"
   },
   {
    "duration": 16,
    "start_time": "2024-07-29T01:17:00.917Z"
   },
   {
    "duration": 8,
    "start_time": "2024-07-29T01:17:00.938Z"
   },
   {
    "duration": 14,
    "start_time": "2024-07-29T01:17:00.949Z"
   },
   {
    "duration": 5,
    "start_time": "2024-07-29T01:17:00.966Z"
   },
   {
    "duration": 62,
    "start_time": "2024-07-29T01:17:00.975Z"
   },
   {
    "duration": 11,
    "start_time": "2024-07-29T01:17:01.041Z"
   },
   {
    "duration": 20,
    "start_time": "2024-07-29T01:17:01.055Z"
   },
   {
    "duration": 5,
    "start_time": "2024-07-29T01:17:01.078Z"
   },
   {
    "duration": 52,
    "start_time": "2024-07-29T01:17:01.086Z"
   },
   {
    "duration": 14,
    "start_time": "2024-07-29T01:17:01.141Z"
   },
   {
    "duration": 12,
    "start_time": "2024-07-29T01:17:01.162Z"
   },
   {
    "duration": 62,
    "start_time": "2024-07-29T01:17:01.178Z"
   },
   {
    "duration": 18,
    "start_time": "2024-07-29T01:17:01.242Z"
   },
   {
    "duration": 5,
    "start_time": "2024-07-29T01:17:01.263Z"
   },
   {
    "duration": 94,
    "start_time": "2024-07-29T01:17:01.271Z"
   },
   {
    "duration": 82,
    "start_time": "2024-07-29T01:17:01.367Z"
   },
   {
    "duration": 15,
    "start_time": "2024-07-29T01:17:01.452Z"
   },
   {
    "duration": 5,
    "start_time": "2024-07-29T01:17:01.469Z"
   },
   {
    "duration": 71,
    "start_time": "2024-07-29T01:17:01.477Z"
   },
   {
    "duration": 24,
    "start_time": "2024-07-29T01:17:01.551Z"
   },
   {
    "duration": 18,
    "start_time": "2024-07-29T01:17:01.578Z"
   },
   {
    "duration": 40,
    "start_time": "2024-07-29T01:17:01.598Z"
   },
   {
    "duration": 42,
    "start_time": "2024-07-29T01:17:01.643Z"
   },
   {
    "duration": 10,
    "start_time": "2024-07-29T01:17:01.689Z"
   },
   {
    "duration": 23,
    "start_time": "2024-07-29T01:17:01.733Z"
   },
   {
    "duration": 10,
    "start_time": "2024-07-29T01:17:01.759Z"
   },
   {
    "duration": 10,
    "start_time": "2024-07-29T01:17:01.773Z"
   },
   {
    "duration": 49,
    "start_time": "2024-07-29T01:17:01.786Z"
   },
   {
    "duration": 30,
    "start_time": "2024-07-29T01:17:01.838Z"
   },
   {
    "duration": 0,
    "start_time": "2024-07-29T01:17:01.871Z"
   },
   {
    "duration": 0,
    "start_time": "2024-07-29T01:17:01.873Z"
   },
   {
    "duration": 0,
    "start_time": "2024-07-29T01:17:01.875Z"
   },
   {
    "duration": 440,
    "start_time": "2024-07-29T01:18:15.803Z"
   },
   {
    "duration": 269,
    "start_time": "2024-07-29T01:18:16.248Z"
   },
   {
    "duration": 76,
    "start_time": "2024-07-29T01:18:16.521Z"
   },
   {
    "duration": 10,
    "start_time": "2024-07-29T01:18:16.599Z"
   },
   {
    "duration": 8,
    "start_time": "2024-07-29T01:18:16.634Z"
   },
   {
    "duration": 17,
    "start_time": "2024-07-29T01:18:16.645Z"
   },
   {
    "duration": 6,
    "start_time": "2024-07-29T01:18:16.665Z"
   },
   {
    "duration": 10,
    "start_time": "2024-07-29T01:18:16.674Z"
   },
   {
    "duration": 54,
    "start_time": "2024-07-29T01:18:16.687Z"
   },
   {
    "duration": 21,
    "start_time": "2024-07-29T01:18:16.744Z"
   },
   {
    "duration": 6,
    "start_time": "2024-07-29T01:18:16.767Z"
   },
   {
    "duration": 8,
    "start_time": "2024-07-29T01:18:16.776Z"
   },
   {
    "duration": 59,
    "start_time": "2024-07-29T01:18:16.787Z"
   },
   {
    "duration": 14,
    "start_time": "2024-07-29T01:18:16.852Z"
   },
   {
    "duration": 27,
    "start_time": "2024-07-29T01:18:16.868Z"
   },
   {
    "duration": 49,
    "start_time": "2024-07-29T01:18:16.897Z"
   },
   {
    "duration": 5,
    "start_time": "2024-07-29T01:18:16.948Z"
   },
   {
    "duration": 81,
    "start_time": "2024-07-29T01:18:16.956Z"
   },
   {
    "duration": 75,
    "start_time": "2024-07-29T01:18:17.040Z"
   },
   {
    "duration": 29,
    "start_time": "2024-07-29T01:18:17.119Z"
   },
   {
    "duration": 8,
    "start_time": "2024-07-29T01:18:17.150Z"
   },
   {
    "duration": 36,
    "start_time": "2024-07-29T01:18:17.163Z"
   },
   {
    "duration": 23,
    "start_time": "2024-07-29T01:18:17.234Z"
   },
   {
    "duration": 16,
    "start_time": "2024-07-29T01:18:17.260Z"
   },
   {
    "duration": 5,
    "start_time": "2024-07-29T01:18:17.278Z"
   },
   {
    "duration": 73,
    "start_time": "2024-07-29T01:18:17.287Z"
   },
   {
    "duration": 10,
    "start_time": "2024-07-29T01:18:17.362Z"
   },
   {
    "duration": 21,
    "start_time": "2024-07-29T01:18:17.376Z"
   },
   {
    "duration": 48,
    "start_time": "2024-07-29T01:18:17.399Z"
   },
   {
    "duration": 10,
    "start_time": "2024-07-29T01:18:17.449Z"
   },
   {
    "duration": 8,
    "start_time": "2024-07-29T01:18:17.462Z"
   },
   {
    "duration": 373,
    "start_time": "2024-07-29T01:18:17.473Z"
   },
   {
    "duration": 0,
    "start_time": "2024-07-29T01:18:17.849Z"
   },
   {
    "duration": 0,
    "start_time": "2024-07-29T01:18:17.851Z"
   },
   {
    "duration": 0,
    "start_time": "2024-07-29T01:18:17.853Z"
   },
   {
    "duration": 6,
    "start_time": "2024-07-29T01:18:20.604Z"
   },
   {
    "duration": 6,
    "start_time": "2024-07-29T01:18:37.537Z"
   },
   {
    "duration": 27,
    "start_time": "2024-07-29T01:19:02.230Z"
   },
   {
    "duration": 5,
    "start_time": "2024-07-29T01:19:09.887Z"
   },
   {
    "duration": 14,
    "start_time": "2024-07-29T01:19:23.473Z"
   },
   {
    "duration": 12,
    "start_time": "2024-07-29T01:19:31.701Z"
   },
   {
    "duration": 17,
    "start_time": "2024-07-29T01:21:52.383Z"
   },
   {
    "duration": 460,
    "start_time": "2024-07-29T01:23:04.354Z"
   },
   {
    "duration": 348,
    "start_time": "2024-07-29T01:23:04.818Z"
   },
   {
    "duration": 75,
    "start_time": "2024-07-29T01:23:05.169Z"
   },
   {
    "duration": 9,
    "start_time": "2024-07-29T01:23:05.247Z"
   },
   {
    "duration": 7,
    "start_time": "2024-07-29T01:23:05.262Z"
   },
   {
    "duration": 17,
    "start_time": "2024-07-29T01:23:05.273Z"
   },
   {
    "duration": 42,
    "start_time": "2024-07-29T01:23:05.293Z"
   },
   {
    "duration": 12,
    "start_time": "2024-07-29T01:23:05.338Z"
   },
   {
    "duration": 12,
    "start_time": "2024-07-29T01:23:05.352Z"
   },
   {
    "duration": 26,
    "start_time": "2024-07-29T01:23:05.367Z"
   },
   {
    "duration": 6,
    "start_time": "2024-07-29T01:23:05.432Z"
   },
   {
    "duration": 7,
    "start_time": "2024-07-29T01:23:05.442Z"
   },
   {
    "duration": 18,
    "start_time": "2024-07-29T01:23:05.452Z"
   },
   {
    "duration": 58,
    "start_time": "2024-07-29T01:23:05.478Z"
   },
   {
    "duration": 26,
    "start_time": "2024-07-29T01:23:05.540Z"
   },
   {
    "duration": 17,
    "start_time": "2024-07-29T01:23:05.569Z"
   },
   {
    "duration": 4,
    "start_time": "2024-07-29T01:23:05.592Z"
   },
   {
    "duration": 44,
    "start_time": "2024-07-29T01:23:05.634Z"
   },
   {
    "duration": 94,
    "start_time": "2024-07-29T01:23:05.682Z"
   },
   {
    "duration": 17,
    "start_time": "2024-07-29T01:23:05.780Z"
   },
   {
    "duration": 5,
    "start_time": "2024-07-29T01:23:05.800Z"
   },
   {
    "duration": 48,
    "start_time": "2024-07-29T01:23:05.808Z"
   },
   {
    "duration": 22,
    "start_time": "2024-07-29T01:23:05.858Z"
   },
   {
    "duration": 50,
    "start_time": "2024-07-29T01:23:05.884Z"
   },
   {
    "duration": 4,
    "start_time": "2024-07-29T01:23:05.938Z"
   },
   {
    "duration": 35,
    "start_time": "2024-07-29T01:23:05.945Z"
   },
   {
    "duration": 11,
    "start_time": "2024-07-29T01:23:05.983Z"
   },
   {
    "duration": 19,
    "start_time": "2024-07-29T01:23:06.034Z"
   },
   {
    "duration": 10,
    "start_time": "2024-07-29T01:23:06.056Z"
   },
   {
    "duration": 9,
    "start_time": "2024-07-29T01:23:06.069Z"
   },
   {
    "duration": 52,
    "start_time": "2024-07-29T01:23:06.081Z"
   },
   {
    "duration": 350,
    "start_time": "2024-07-29T01:23:06.136Z"
   },
   {
    "duration": 0,
    "start_time": "2024-07-29T01:23:06.488Z"
   },
   {
    "duration": 0,
    "start_time": "2024-07-29T01:23:06.491Z"
   },
   {
    "duration": 8,
    "start_time": "2024-07-29T01:23:08.198Z"
   },
   {
    "duration": 7,
    "start_time": "2024-07-29T01:23:12.767Z"
   },
   {
    "duration": 7,
    "start_time": "2024-07-29T01:23:17.457Z"
   },
   {
    "duration": 6,
    "start_time": "2024-07-29T01:23:56.126Z"
   },
   {
    "duration": 19,
    "start_time": "2024-07-29T01:23:57.898Z"
   },
   {
    "duration": 14,
    "start_time": "2024-07-29T01:25:11.083Z"
   },
   {
    "duration": 18,
    "start_time": "2024-07-29T01:25:25.243Z"
   },
   {
    "duration": 20,
    "start_time": "2024-07-29T01:25:46.834Z"
   },
   {
    "duration": 21,
    "start_time": "2024-07-29T01:26:26.533Z"
   },
   {
    "duration": 24,
    "start_time": "2024-07-29T01:28:09.349Z"
   },
   {
    "duration": 54,
    "start_time": "2024-07-29T01:28:47.088Z"
   },
   {
    "duration": 54,
    "start_time": "2024-07-29T01:30:15.842Z"
   },
   {
    "duration": 31,
    "start_time": "2024-07-29T01:40:09.984Z"
   },
   {
    "duration": 29,
    "start_time": "2024-07-29T01:40:13.815Z"
   },
   {
    "duration": 6,
    "start_time": "2024-07-29T01:40:24.105Z"
   },
   {
    "duration": 23,
    "start_time": "2024-07-29T01:40:30.180Z"
   },
   {
    "duration": 5,
    "start_time": "2024-07-29T01:40:48.868Z"
   },
   {
    "duration": 32,
    "start_time": "2024-07-29T01:41:00.577Z"
   },
   {
    "duration": 15,
    "start_time": "2024-07-29T01:41:29.142Z"
   },
   {
    "duration": 10,
    "start_time": "2024-07-29T01:41:36.766Z"
   },
   {
    "duration": 14,
    "start_time": "2024-07-29T01:41:45.928Z"
   },
   {
    "duration": 12,
    "start_time": "2024-07-29T01:41:57.292Z"
   },
   {
    "duration": 5,
    "start_time": "2024-07-29T01:42:54.947Z"
   },
   {
    "duration": 11,
    "start_time": "2024-07-29T01:42:57.313Z"
   },
   {
    "duration": 11,
    "start_time": "2024-07-29T01:43:15.669Z"
   },
   {
    "duration": 14,
    "start_time": "2024-07-29T01:43:40.834Z"
   },
   {
    "duration": 12,
    "start_time": "2024-07-29T01:48:59.615Z"
   },
   {
    "duration": 12,
    "start_time": "2024-07-29T01:52:24.110Z"
   },
   {
    "duration": 25,
    "start_time": "2024-07-29T01:53:59.384Z"
   },
   {
    "duration": 42,
    "start_time": "2024-07-29T01:54:46.264Z"
   },
   {
    "duration": 35,
    "start_time": "2024-07-29T01:55:07.736Z"
   },
   {
    "duration": 37,
    "start_time": "2024-07-29T01:55:36.253Z"
   },
   {
    "duration": 31,
    "start_time": "2024-07-29T02:33:36.820Z"
   },
   {
    "duration": 7,
    "start_time": "2024-07-29T02:34:22.320Z"
   },
   {
    "duration": 7,
    "start_time": "2024-07-29T02:34:36.116Z"
   },
   {
    "duration": 6,
    "start_time": "2024-07-29T02:34:48.687Z"
   },
   {
    "duration": 6,
    "start_time": "2024-07-29T02:35:09.273Z"
   },
   {
    "duration": 7,
    "start_time": "2024-07-29T02:35:20.235Z"
   },
   {
    "duration": 6,
    "start_time": "2024-07-29T02:35:35.107Z"
   },
   {
    "duration": 51,
    "start_time": "2024-07-29T02:36:23.834Z"
   },
   {
    "duration": 30,
    "start_time": "2024-07-29T02:36:43.983Z"
   },
   {
    "duration": 36,
    "start_time": "2024-07-29T02:45:14.182Z"
   },
   {
    "duration": 569,
    "start_time": "2024-07-29T02:55:50.212Z"
   },
   {
    "duration": 60,
    "start_time": "2024-07-29T02:59:19.144Z"
   },
   {
    "duration": 126,
    "start_time": "2024-07-29T03:03:39.423Z"
   },
   {
    "duration": 58,
    "start_time": "2024-07-29T03:04:10.542Z"
   },
   {
    "duration": 37,
    "start_time": "2024-07-29T03:07:56.868Z"
   },
   {
    "duration": 6,
    "start_time": "2024-07-29T03:10:58.240Z"
   },
   {
    "duration": 7,
    "start_time": "2024-07-29T03:11:05.960Z"
   },
   {
    "duration": 7,
    "start_time": "2024-07-29T03:11:13.193Z"
   },
   {
    "duration": 5,
    "start_time": "2024-07-29T03:11:39.598Z"
   },
   {
    "duration": 7,
    "start_time": "2024-07-29T03:12:34.254Z"
   },
   {
    "duration": 205,
    "start_time": "2024-07-29T03:16:45.199Z"
   },
   {
    "duration": 27,
    "start_time": "2024-07-29T03:17:22.534Z"
   },
   {
    "duration": 25,
    "start_time": "2024-07-29T03:17:52.734Z"
   },
   {
    "duration": 3755,
    "start_time": "2024-07-29T03:20:35.984Z"
   },
   {
    "duration": 688,
    "start_time": "2024-07-29T03:26:08.429Z"
   },
   {
    "duration": 608,
    "start_time": "2024-07-29T03:52:13.689Z"
   },
   {
    "duration": 9,
    "start_time": "2024-07-29T03:57:26.309Z"
   },
   {
    "duration": 993,
    "start_time": "2024-07-29T03:58:42.539Z"
   },
   {
    "duration": 12,
    "start_time": "2024-07-29T04:09:32.192Z"
   },
   {
    "duration": 713,
    "start_time": "2024-07-29T04:14:52.798Z"
   },
   {
    "duration": 433,
    "start_time": "2024-07-29T04:25:47.006Z"
   },
   {
    "duration": 32,
    "start_time": "2024-07-29T04:44:40.895Z"
   },
   {
    "duration": 56,
    "start_time": "2024-07-29T04:48:06.294Z"
   },
   {
    "duration": 53,
    "start_time": "2024-07-29T04:48:37.562Z"
   },
   {
    "duration": 432,
    "start_time": "2024-07-29T04:51:00.875Z"
   },
   {
    "duration": 290,
    "start_time": "2024-07-29T04:51:01.314Z"
   },
   {
    "duration": 74,
    "start_time": "2024-07-29T04:51:01.606Z"
   },
   {
    "duration": 10,
    "start_time": "2024-07-29T04:51:01.683Z"
   },
   {
    "duration": 7,
    "start_time": "2024-07-29T04:51:01.697Z"
   },
   {
    "duration": 22,
    "start_time": "2024-07-29T04:51:01.734Z"
   },
   {
    "duration": 7,
    "start_time": "2024-07-29T04:51:01.759Z"
   },
   {
    "duration": 11,
    "start_time": "2024-07-29T04:51:01.770Z"
   },
   {
    "duration": 51,
    "start_time": "2024-07-29T04:51:01.785Z"
   },
   {
    "duration": 21,
    "start_time": "2024-07-29T04:51:01.839Z"
   },
   {
    "duration": 5,
    "start_time": "2024-07-29T04:51:01.863Z"
   },
   {
    "duration": 7,
    "start_time": "2024-07-29T04:51:01.871Z"
   },
   {
    "duration": 62,
    "start_time": "2024-07-29T04:51:01.881Z"
   },
   {
    "duration": 12,
    "start_time": "2024-07-29T04:51:01.951Z"
   },
   {
    "duration": 28,
    "start_time": "2024-07-29T04:51:01.968Z"
   },
   {
    "duration": 20,
    "start_time": "2024-07-29T04:51:02.035Z"
   },
   {
    "duration": 5,
    "start_time": "2024-07-29T04:51:02.058Z"
   },
   {
    "duration": 76,
    "start_time": "2024-07-29T04:51:02.066Z"
   },
   {
    "duration": 71,
    "start_time": "2024-07-29T04:51:02.146Z"
   },
   {
    "duration": 16,
    "start_time": "2024-07-29T04:51:02.234Z"
   },
   {
    "duration": 5,
    "start_time": "2024-07-29T04:51:02.253Z"
   },
   {
    "duration": 29,
    "start_time": "2024-07-29T04:51:02.261Z"
   },
   {
    "duration": 62,
    "start_time": "2024-07-29T04:51:02.293Z"
   },
   {
    "duration": 17,
    "start_time": "2024-07-29T04:51:02.358Z"
   },
   {
    "duration": 5,
    "start_time": "2024-07-29T04:51:02.378Z"
   },
   {
    "duration": 74,
    "start_time": "2024-07-29T04:51:02.386Z"
   },
   {
    "duration": 12,
    "start_time": "2024-07-29T04:51:02.464Z"
   },
   {
    "duration": 22,
    "start_time": "2024-07-29T04:51:02.478Z"
   },
   {
    "duration": 12,
    "start_time": "2024-07-29T04:51:02.532Z"
   },
   {
    "duration": 10,
    "start_time": "2024-07-29T04:51:02.546Z"
   },
   {
    "duration": 9,
    "start_time": "2024-07-29T04:51:02.558Z"
   },
   {
    "duration": 8,
    "start_time": "2024-07-29T04:51:02.570Z"
   },
   {
    "duration": 71,
    "start_time": "2024-07-29T04:51:02.582Z"
   },
   {
    "duration": 54,
    "start_time": "2024-07-29T04:51:02.656Z"
   },
   {
    "duration": 48,
    "start_time": "2024-07-29T04:51:02.713Z"
   },
   {
    "duration": 1133,
    "start_time": "2024-07-29T04:51:02.763Z"
   },
   {
    "duration": 0,
    "start_time": "2024-07-29T04:51:03.899Z"
   },
   {
    "duration": 0,
    "start_time": "2024-07-29T04:51:03.902Z"
   },
   {
    "duration": 0,
    "start_time": "2024-07-29T04:51:03.904Z"
   },
   {
    "duration": 0,
    "start_time": "2024-07-29T04:51:03.906Z"
   },
   {
    "duration": 0,
    "start_time": "2024-07-29T04:51:03.908Z"
   },
   {
    "duration": 0,
    "start_time": "2024-07-29T04:51:03.911Z"
   },
   {
    "duration": 0,
    "start_time": "2024-07-29T04:51:03.913Z"
   },
   {
    "duration": 0,
    "start_time": "2024-07-29T04:51:03.933Z"
   },
   {
    "duration": 1,
    "start_time": "2024-07-29T04:51:03.935Z"
   },
   {
    "duration": 0,
    "start_time": "2024-07-29T04:51:03.938Z"
   },
   {
    "duration": 0,
    "start_time": "2024-07-29T04:51:03.940Z"
   },
   {
    "duration": 0,
    "start_time": "2024-07-29T04:51:03.943Z"
   },
   {
    "duration": 0,
    "start_time": "2024-07-29T04:51:03.945Z"
   },
   {
    "duration": 252,
    "start_time": "2024-07-29T04:51:15.104Z"
   },
   {
    "duration": 27,
    "start_time": "2024-07-29T04:51:23.074Z"
   },
   {
    "duration": 872,
    "start_time": "2024-07-29T04:51:29.285Z"
   },
   {
    "duration": 9,
    "start_time": "2024-07-29T04:51:32.699Z"
   },
   {
    "duration": 1091,
    "start_time": "2024-07-29T04:51:36.027Z"
   },
   {
    "duration": 12,
    "start_time": "2024-07-29T04:51:39.211Z"
   },
   {
    "duration": 721,
    "start_time": "2024-07-29T04:51:42.255Z"
   },
   {
    "duration": 652,
    "start_time": "2024-07-29T04:51:54.023Z"
   },
   {
    "duration": 322,
    "start_time": "2024-07-29T04:57:18.528Z"
   },
   {
    "duration": 91,
    "start_time": "2024-07-29T04:58:46.147Z"
   },
   {
    "duration": 57,
    "start_time": "2024-07-29T05:00:14.132Z"
   },
   {
    "duration": 500,
    "start_time": "2024-08-02T22:48:08.437Z"
   },
   {
    "duration": 347,
    "start_time": "2024-08-02T22:48:08.940Z"
   },
   {
    "duration": 73,
    "start_time": "2024-08-02T22:48:09.289Z"
   },
   {
    "duration": 10,
    "start_time": "2024-08-02T22:48:09.366Z"
   },
   {
    "duration": 8,
    "start_time": "2024-08-02T22:48:09.379Z"
   },
   {
    "duration": 45,
    "start_time": "2024-08-02T22:48:09.394Z"
   },
   {
    "duration": 5,
    "start_time": "2024-08-02T22:48:09.442Z"
   },
   {
    "duration": 9,
    "start_time": "2024-08-02T22:48:09.451Z"
   },
   {
    "duration": 13,
    "start_time": "2024-08-02T22:48:09.462Z"
   },
   {
    "duration": 65,
    "start_time": "2024-08-02T22:48:09.480Z"
   },
   {
    "duration": 6,
    "start_time": "2024-08-02T22:48:09.548Z"
   },
   {
    "duration": 8,
    "start_time": "2024-08-02T22:48:09.557Z"
   },
   {
    "duration": 15,
    "start_time": "2024-08-02T22:48:09.568Z"
   },
   {
    "duration": 57,
    "start_time": "2024-08-02T22:48:09.586Z"
   },
   {
    "duration": 27,
    "start_time": "2024-08-02T22:48:09.646Z"
   },
   {
    "duration": 57,
    "start_time": "2024-08-02T22:48:09.676Z"
   },
   {
    "duration": 5,
    "start_time": "2024-08-02T22:48:09.736Z"
   },
   {
    "duration": 46,
    "start_time": "2024-08-02T22:48:09.744Z"
   },
   {
    "duration": 99,
    "start_time": "2024-08-02T22:48:09.793Z"
   },
   {
    "duration": 14,
    "start_time": "2024-08-02T22:48:09.896Z"
   },
   {
    "duration": 22,
    "start_time": "2024-08-02T22:48:09.913Z"
   },
   {
    "duration": 28,
    "start_time": "2024-08-02T22:48:09.938Z"
   },
   {
    "duration": 23,
    "start_time": "2024-08-02T22:48:09.969Z"
   },
   {
    "duration": 51,
    "start_time": "2024-08-02T22:48:09.995Z"
   },
   {
    "duration": 5,
    "start_time": "2024-08-02T22:48:10.048Z"
   },
   {
    "duration": 38,
    "start_time": "2024-08-02T22:48:10.056Z"
   },
   {
    "duration": 41,
    "start_time": "2024-08-02T22:48:10.098Z"
   },
   {
    "duration": 19,
    "start_time": "2024-08-02T22:48:10.147Z"
   },
   {
    "duration": 9,
    "start_time": "2024-08-02T22:48:10.171Z"
   },
   {
    "duration": 54,
    "start_time": "2024-08-02T22:48:10.183Z"
   },
   {
    "duration": 8,
    "start_time": "2024-08-02T22:48:10.240Z"
   },
   {
    "duration": 8,
    "start_time": "2024-08-02T22:48:10.251Z"
   },
   {
    "duration": 14,
    "start_time": "2024-08-02T22:48:10.262Z"
   },
   {
    "duration": 97,
    "start_time": "2024-08-02T22:48:10.279Z"
   },
   {
    "duration": 31,
    "start_time": "2024-08-02T22:48:10.379Z"
   },
   {
    "duration": 1160,
    "start_time": "2024-08-02T22:48:10.432Z"
   },
   {
    "duration": 0,
    "start_time": "2024-08-02T22:48:11.595Z"
   },
   {
    "duration": 0,
    "start_time": "2024-08-02T22:48:11.598Z"
   },
   {
    "duration": 0,
    "start_time": "2024-08-02T22:48:11.601Z"
   },
   {
    "duration": 0,
    "start_time": "2024-08-02T22:48:11.602Z"
   },
   {
    "duration": 0,
    "start_time": "2024-08-02T22:48:11.605Z"
   },
   {
    "duration": 0,
    "start_time": "2024-08-02T22:48:11.607Z"
   },
   {
    "duration": 0,
    "start_time": "2024-08-02T22:48:11.634Z"
   },
   {
    "duration": 0,
    "start_time": "2024-08-02T22:48:11.637Z"
   },
   {
    "duration": 0,
    "start_time": "2024-08-02T22:48:11.640Z"
   },
   {
    "duration": 0,
    "start_time": "2024-08-02T22:48:11.642Z"
   },
   {
    "duration": 0,
    "start_time": "2024-08-02T22:48:11.644Z"
   },
   {
    "duration": 0,
    "start_time": "2024-08-02T22:48:11.647Z"
   },
   {
    "duration": 0,
    "start_time": "2024-08-02T22:48:11.649Z"
   },
   {
    "duration": 0,
    "start_time": "2024-08-02T22:48:11.651Z"
   },
   {
    "duration": 256,
    "start_time": "2024-08-02T22:48:21.820Z"
   },
   {
    "duration": 12,
    "start_time": "2024-08-02T22:49:02.627Z"
   },
   {
    "duration": 41,
    "start_time": "2024-08-02T22:50:59.834Z"
   },
   {
    "duration": 31,
    "start_time": "2024-08-02T22:51:54.366Z"
   },
   {
    "duration": 4471,
    "start_time": "2024-08-02T22:53:42.352Z"
   },
   {
    "duration": 638,
    "start_time": "2024-08-02T22:53:47.836Z"
   },
   {
    "duration": 9,
    "start_time": "2024-08-02T22:53:53.907Z"
   },
   {
    "duration": 1083,
    "start_time": "2024-08-02T22:54:02.886Z"
   },
   {
    "duration": 13,
    "start_time": "2024-08-02T22:54:09.891Z"
   },
   {
    "duration": 732,
    "start_time": "2024-08-02T22:54:43.701Z"
   },
   {
    "duration": 420,
    "start_time": "2024-08-02T22:54:57.572Z"
   },
   {
    "duration": 57,
    "start_time": "2024-08-02T22:55:41.472Z"
   },
   {
    "duration": 52,
    "start_time": "2024-08-02T23:17:34.251Z"
   },
   {
    "duration": 458,
    "start_time": "2024-08-05T02:23:57.416Z"
   },
   {
    "duration": 398,
    "start_time": "2024-08-05T02:23:59.968Z"
   },
   {
    "duration": 36,
    "start_time": "2024-08-05T02:24:04.714Z"
   },
   {
    "duration": 13,
    "start_time": "2024-08-05T02:25:36.254Z"
   },
   {
    "duration": 13,
    "start_time": "2024-08-05T02:25:39.572Z"
   },
   {
    "duration": 5,
    "start_time": "2024-08-05T02:26:30.563Z"
   },
   {
    "duration": 9,
    "start_time": "2024-08-05T02:26:35.520Z"
   },
   {
    "duration": 5,
    "start_time": "2024-08-05T02:27:20.273Z"
   },
   {
    "duration": 13,
    "start_time": "2024-08-05T02:27:26.088Z"
   },
   {
    "duration": 18,
    "start_time": "2024-08-05T02:27:54.912Z"
   },
   {
    "duration": 25,
    "start_time": "2024-08-05T02:28:02.453Z"
   },
   {
    "duration": 4,
    "start_time": "2024-08-05T02:28:06.323Z"
   },
   {
    "duration": 45,
    "start_time": "2024-08-05T02:28:09.465Z"
   },
   {
    "duration": 73,
    "start_time": "2024-08-05T02:28:13.891Z"
   },
   {
    "duration": 5,
    "start_time": "2024-08-05T02:28:18.643Z"
   },
   {
    "duration": 14,
    "start_time": "2024-08-05T02:40:26.173Z"
   },
   {
    "duration": 11,
    "start_time": "2024-08-05T02:40:38.281Z"
   },
   {
    "duration": 8,
    "start_time": "2024-08-05T02:40:41.936Z"
   },
   {
    "duration": 8,
    "start_time": "2024-08-05T02:44:32.642Z"
   },
   {
    "duration": 6,
    "start_time": "2024-08-05T02:44:35.947Z"
   },
   {
    "duration": 11,
    "start_time": "2024-08-05T02:44:39.554Z"
   },
   {
    "duration": 7,
    "start_time": "2024-08-05T02:44:45.538Z"
   },
   {
    "duration": 5,
    "start_time": "2024-08-05T02:46:43.365Z"
   },
   {
    "duration": 5,
    "start_time": "2024-08-05T02:46:49.769Z"
   },
   {
    "duration": 26,
    "start_time": "2024-08-05T02:49:02.652Z"
   },
   {
    "duration": 22,
    "start_time": "2024-08-05T02:49:04.908Z"
   },
   {
    "duration": 21,
    "start_time": "2024-08-05T02:49:06.385Z"
   },
   {
    "duration": 14,
    "start_time": "2024-08-05T02:50:57.046Z"
   },
   {
    "duration": 334,
    "start_time": "2024-08-05T02:53:17.311Z"
   },
   {
    "duration": 48,
    "start_time": "2024-08-05T02:53:30.500Z"
   },
   {
    "duration": 29,
    "start_time": "2024-08-05T02:53:47.947Z"
   },
   {
    "duration": 627,
    "start_time": "2024-08-05T03:03:14.013Z"
   },
   {
    "duration": 17,
    "start_time": "2024-08-05T03:05:43.004Z"
   },
   {
    "duration": 22,
    "start_time": "2024-08-05T03:06:42.913Z"
   },
   {
    "duration": 4,
    "start_time": "2024-08-05T03:11:45.643Z"
   },
   {
    "duration": 6,
    "start_time": "2024-08-05T03:11:56.362Z"
   },
   {
    "duration": 29,
    "start_time": "2024-08-05T03:12:03.236Z"
   },
   {
    "duration": 26,
    "start_time": "2024-08-05T03:14:06.352Z"
   },
   {
    "duration": 30,
    "start_time": "2024-08-05T03:15:03.526Z"
   },
   {
    "duration": 29,
    "start_time": "2024-08-05T03:18:23.123Z"
   },
   {
    "duration": 59,
    "start_time": "2024-08-05T03:18:50.767Z"
   },
   {
    "duration": 9,
    "start_time": "2024-08-05T03:21:24.554Z"
   },
   {
    "duration": 11,
    "start_time": "2024-08-05T18:38:04.936Z"
   },
   {
    "duration": 5,
    "start_time": "2024-08-05T18:39:32.015Z"
   }
  ],
  "colab": {
   "provenance": []
  },
  "kernelspec": {
   "display_name": "Python 3 (ipykernel)",
   "language": "python",
   "name": "python3"
  },
  "language_info": {
   "codemirror_mode": {
    "name": "ipython",
    "version": 3
   },
   "file_extension": ".py",
   "mimetype": "text/x-python",
   "name": "python",
   "nbconvert_exporter": "python",
   "pygments_lexer": "ipython3",
   "version": "3.9.19"
  },
  "toc": {
   "base_numbering": 1,
   "nav_menu": {},
   "number_sections": true,
   "sideBar": true,
   "skip_h1_title": false,
   "title_cell": "Table of Contents",
   "title_sidebar": "Contents",
   "toc_cell": false,
   "toc_position": {
    "height": "calc(100% - 180px)",
    "left": "10px",
    "top": "150px",
    "width": "244.176px"
   },
   "toc_section_display": true,
   "toc_window_display": true
  }
 },
 "nbformat": 4,
 "nbformat_minor": 1
}
